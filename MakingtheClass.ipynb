{
 "cells": [
  {
   "cell_type": "code",
   "execution_count": 64,
   "metadata": {},
   "outputs": [],
   "source": [
    "import pandas as pd\n",
    "from sklearn.model_selection import train_test_split\n",
    "from sklearn import svm\n",
    "from sklearn import tree\n",
    "import numpy as np\n",
    "from sklearn.metrics import confusion_matrix"
   ]
  },
  {
   "cell_type": "code",
   "execution_count": 65,
   "metadata": {},
   "outputs": [],
   "source": [
    "Crops = pd.read_csv('updateddf.csv').iloc[:,1:]\n",
    "Crops.loc[Crops.crop_list.isna(),'crop_list'] = 'Unknown'"
   ]
  },
  {
   "cell_type": "code",
   "execution_count": 66,
   "metadata": {},
   "outputs": [],
   "source": [
    "Crops['crop_list']\n",
    "Active = Crops[Crops['is_active'] == 1]"
   ]
  },
  {
   "cell_type": "code",
   "execution_count": 67,
   "metadata": {},
   "outputs": [],
   "source": [
    "fullyactive = Active.drop(Active[Active['crop_list'].str.contains('UNCULTIVATED') ].index)\n",
    "\n",
    "\n",
    "nona = fullyactive.iloc[:,1:61].dropna()"
   ]
  },
  {
   "cell_type": "markdown",
   "metadata": {},
   "source": [
    "# dont' RUN FROM HERE TO "
   ]
  },
  {
   "cell_type": "code",
   "execution_count": 227,
   "metadata": {},
   "outputs": [],
   "source": [
    "Unsurestatus = Active[Active['crop_list'].str.contains('UNCULTIVATED')]"
   ]
  },
  {
   "cell_type": "code",
   "execution_count": 335,
   "metadata": {},
   "outputs": [],
   "source": [
    "Uncultivated = Active[Active['crop_list'] == 'UNCULTIVATED AG']"
   ]
  },
  {
   "cell_type": "code",
   "execution_count": 369,
   "metadata": {},
   "outputs": [],
   "source": [
    "letstrain = pd.concat([unknowns,Uncultivated])\n",
    "fullx = letstrain.iloc[:,1:61].dropna()\n",
    "fully = letstrain.loc[fullx.index,'is_active']"
   ]
  },
  {
   "cell_type": "code",
   "execution_count": 370,
   "metadata": {},
   "outputs": [
    {
     "data": {
      "text/plain": [
       "array([0, 0, 0, ..., 1, 1, 1])"
      ]
     },
     "execution_count": 370,
     "metadata": {},
     "output_type": "execute_result"
    }
   ],
   "source": [
    "fully = np.where(letstrain.loc[fullx.index,'crop_list'].str.contains('Unknown'),0,1)\n",
    "fully"
   ]
  },
  {
   "cell_type": "code",
   "execution_count": 5,
   "metadata": {},
   "outputs": [],
   "source": [
    "from sklearn.metrics import confusion_matrix"
   ]
  },
  {
   "cell_type": "code",
   "execution_count": 292,
   "metadata": {},
   "outputs": [],
   "source": [
    "tn, fp, fn, tp = confusion_matrix(Y_test,Y_pred).ravel()"
   ]
  },
  {
   "cell_type": "code",
   "execution_count": 935,
   "metadata": {},
   "outputs": [
    {
     "data": {
      "text/plain": [
       "(300, 53, 45, 2500)"
      ]
     },
     "execution_count": 935,
     "metadata": {},
     "output_type": "execute_result"
    }
   ],
   "source": [
    "(tn,fp,fn,tp)\n"
   ]
  },
  {
   "cell_type": "code",
   "execution_count": 299,
   "metadata": {},
   "outputs": [],
   "source": [
    "\n",
    "testingdf = Unsurestatus.iloc[:,1:61].dropna()\n",
    "\n",
    "preds = clf.predict(Unsurestatus.iloc[:,1:61].dropna())\n",
    "\n",
    "\n",
    "\n",
    "\n",
    "\n"
   ]
  },
  {
   "cell_type": "code",
   "execution_count": 300,
   "metadata": {},
   "outputs": [],
   "source": [
    "unsurepreds = Unsurestatus.loc[testingdf.index,:]"
   ]
  },
  {
   "cell_type": "code",
   "execution_count": 878,
   "metadata": {},
   "outputs": [
    {
     "data": {
      "text/plain": [
       "{'ALFALFA',\n",
       " 'ALFALFA GRASS M',\n",
       " 'ALFALFA, SAFFLOWER',\n",
       " 'ALFALFA, WHEAT',\n",
       " 'ALMOND',\n",
       " 'ALMOND, APRICOT, CHERRY, NECTARINE, PEACH, PRUNE',\n",
       " 'ALMOND, BEEHIVE',\n",
       " 'ALMOND, FORAGE HAY/SLGE',\n",
       " 'APPLE',\n",
       " 'APPLE, APRICOT, CHERRY, PEACH',\n",
       " 'APRICOT',\n",
       " 'APRICOT, CHERRY, PEACH',\n",
       " 'APRICOT, NECTARINE, PEACH',\n",
       " 'BARLEY',\n",
       " 'BEAN DRIED',\n",
       " 'BEAN DRIED, WHEAT',\n",
       " 'BEEHIVE',\n",
       " 'BEEHIVE, UNCUL NON-AG',\n",
       " 'BLACKBERRY',\n",
       " 'BLUEBERRY',\n",
       " 'BROCCOLI, MELON',\n",
       " 'CABBAGE SEED, ONION SEED, CARROT SEED',\n",
       " 'CANTALOUPE',\n",
       " 'CHERRY',\n",
       " 'CHESTNUT',\n",
       " 'CITRUS',\n",
       " 'COMM. FUMIGATN',\n",
       " 'CORN FOR/FOD',\n",
       " 'CORN SEED, SAFFLOWER SEED',\n",
       " 'CORN, HUMAN CON',\n",
       " 'CUCUMBER',\n",
       " 'CUCUMBER SEED',\n",
       " 'DITCH, BANK',\n",
       " 'FIG',\n",
       " 'FORAGE HAY/SLGE',\n",
       " 'FRUIT, BERRY',\n",
       " 'FRUIT, BERRY, CHERRY, POMEGRANATE',\n",
       " 'FUMIGATN, OTHER',\n",
       " 'GARBANZO BEAN',\n",
       " 'GP-FLWRNG PLANT',\n",
       " 'GRAPE',\n",
       " 'GRAPE, WINE',\n",
       " 'GRASS SEED, UNCUL NON-AG',\n",
       " 'HEMP/CANNABIS',\n",
       " 'HOPS',\n",
       " 'INDUSTRIAL SITE',\n",
       " 'KIWI',\n",
       " 'LANDSCAPE MAIN',\n",
       " 'MELON SEED',\n",
       " 'N-GRNHS PLANT',\n",
       " 'N-GRNHS TRANSPL',\n",
       " 'N-OUTDR FLOWERS, CORN, HUMAN CON',\n",
       " 'N-OUTDR PLANTS',\n",
       " 'NUTS',\n",
       " 'OAT FOR/FOD',\n",
       " 'OAT FOR/FOD, ALFALFA',\n",
       " 'OAT FOR/FOD, RYEGRAS FOR/FOD',\n",
       " 'OAT SEED',\n",
       " 'OF-FLOWER SEED, GRASS SEED, UNCUL NON-AG',\n",
       " 'OF-FLWRNG PLANT',\n",
       " 'OF-FLWRNG PLANT, STONE FRUIT, OLIVE, GRAPE, WINE',\n",
       " 'OLIVE',\n",
       " 'ONION DRY ETC',\n",
       " 'ONION SEED',\n",
       " 'OP-TURF',\n",
       " 'ORANGE',\n",
       " 'ORCHARDGRASS',\n",
       " 'ORG ALFALFA',\n",
       " 'ORG ALFALFA, ORG WHEAT',\n",
       " 'ORG ALMOND',\n",
       " 'ORG APPLE',\n",
       " 'ORG APPLE, ORG APRICOT, ORG BLACKBERRY',\n",
       " 'ORG APRICOT',\n",
       " 'ORG ASPARAGUS',\n",
       " 'ORG ASPARAGUS, ORG MELON, ORG VEGETABLE',\n",
       " 'ORG ASPARAGUS, ORG TOMATO',\n",
       " 'ORG ASPARAGUS, ORG VEGETBLE FRTNG',\n",
       " 'ORG BARLEY, ORG TOMATO',\n",
       " 'ORG BEET, ORG BROCCOLI, ORG ONION DRY',\n",
       " 'ORG CARROT',\n",
       " 'ORG CAULIFLOWER, ORG CITRUS, ORG PLUM, ORG SQUASH SUMMER, ORG STONE FRUIT',\n",
       " 'ORG CITRUS',\n",
       " 'ORG CITRUS, ORG FIG, ORG PISTACHIO, ORG STONE FRUIT',\n",
       " 'ORG CORN FOR FOD',\n",
       " 'ORG FIG',\n",
       " 'ORG GRAPE',\n",
       " 'ORG GRAPE, WINE',\n",
       " 'ORG MELON',\n",
       " 'ORG MELON, ORG PASTURELAND, ORG STRAWBERRY, ORG TOMATO, ORG VEGETABLE, ORG VEGETBLE FRTNG',\n",
       " 'ORG NECTARINE',\n",
       " 'ORG OAT FOR/FOD',\n",
       " 'ORG OAT FOR/FOD, ORG WHEAT',\n",
       " 'ORG OLIVE',\n",
       " 'ORG ONION DRY, ORG VEGETBLE FRTNG',\n",
       " 'ORG ORANGE',\n",
       " 'ORG PASTURELAND',\n",
       " 'ORG PEACH',\n",
       " 'ORG PEAR',\n",
       " 'ORG PECAN',\n",
       " 'ORG PEPPER FRUITING, ORG BEAN UNSP, ORG BEET, ORG CARROT, ORG CUCUMBER, ORG DAIKON, ORG GARLIC, ORG KALE, ORG LETTUCE LEAF, ORG MELON, ORG MUSTARD, ORG ONION DRY, ORG PEAS, ORG PUMPKIN, ORG RADISH, ORG SPICE/HERB, ORG SQUASH, ORG SQUASH WINTER, ORG TOMAT',\n",
       " 'ORG POMEGRANATE',\n",
       " 'ORG RICE',\n",
       " 'ORG RYEGRASS FOR',\n",
       " 'ORG SAFFLOWER',\n",
       " 'ORG SQUASH',\n",
       " 'ORG SQUASH SUMMER',\n",
       " 'ORG SQUASH WINTER',\n",
       " 'ORG STONE FRUIT',\n",
       " 'ORG SUNFLOWER SEED, ORG TOMATO PROCESSING',\n",
       " 'ORG TOMATO',\n",
       " 'ORG TOMATO PROCESSING',\n",
       " 'ORG VEGETABLE',\n",
       " 'ORG VEGETABLE LEAF',\n",
       " 'ORG VEGETABLE LEAF, ORG VEGETBLE FRTNG',\n",
       " 'ORG VEGETBLE FRTNG',\n",
       " 'ORG VETCH',\n",
       " 'ORG WALNUT',\n",
       " 'ORG WATERMELON',\n",
       " 'ORG WHEAT',\n",
       " 'ORG-N-GRNHS TRANSPT',\n",
       " 'ORG-Rangeland',\n",
       " 'OT-DEC. TREE',\n",
       " 'OT-ROSE',\n",
       " 'OT-ROSE, GRAPE',\n",
       " 'OT-TURF',\n",
       " 'OT-VINE',\n",
       " 'PASTURELAND',\n",
       " 'PEACH',\n",
       " 'PEAR',\n",
       " 'PECAN',\n",
       " 'PEPPER FRUIT SD',\n",
       " 'PERSIMMON',\n",
       " 'PISTACHIO',\n",
       " 'PLUM',\n",
       " 'POME FRUIT, STONE FRUIT',\n",
       " 'POMEGRANATE',\n",
       " 'PRUNE',\n",
       " 'PUMPKIN',\n",
       " 'PUMPKIN SEED',\n",
       " 'PUMPKIN, CORN, HUMAN CON',\n",
       " 'RANGELAND',\n",
       " 'RANGELAND, UNCUL NON-AG',\n",
       " 'RECREATION AREA',\n",
       " 'RESEARCH COMMOD',\n",
       " 'RESEARCH/PARK',\n",
       " 'RICE',\n",
       " 'RIGHTS OF WAY',\n",
       " 'RYE, WHEAT',\n",
       " 'RYEGRAS FOR/FOD',\n",
       " 'Rotational Crops',\n",
       " 'SAFFLOWER',\n",
       " 'SAFFLOWER SEED',\n",
       " 'SAFFLOWER, WHEAT',\n",
       " 'SOIL FUM/PREPLT',\n",
       " 'SORGHUM MILO',\n",
       " 'SOYBEAN SEED',\n",
       " 'SQUASH',\n",
       " 'SQUASH SEED',\n",
       " 'SQUASH, BEAN DRIED',\n",
       " 'STONE FRUIT',\n",
       " 'STRAWBERRY',\n",
       " 'SUDANGRASS',\n",
       " 'SUNFLOWER SEED',\n",
       " 'TOMATO',\n",
       " 'TOMATO PROCESS',\n",
       " 'TRITICALE',\n",
       " 'TURF/SOD',\n",
       " 'UNCUL NON-AG',\n",
       " 'Unknown',\n",
       " 'VEGETABLE',\n",
       " 'VEGETABLE FRTG',\n",
       " 'VEGETABLE FRTG, COLE CROP',\n",
       " 'WALNUT',\n",
       " 'WALNUT, BEAN DRIED',\n",
       " 'WALNUT, OAT FOR/FOD',\n",
       " 'WALNUT, PASTURELAND',\n",
       " 'WATERMELON',\n",
       " 'WATERMELON SEED',\n",
       " 'WATERMELON, CORN, HUMAN CON',\n",
       " 'WHEAT',\n",
       " 'WHEAT FOR/FOD',\n",
       " 'WILD RICE'}"
      ]
     },
     "execution_count": 878,
     "metadata": {},
     "output_type": "execute_result"
    }
   ],
   "source": [
    "#unsurepreds[unsurepreds['isactiveimpute'] == 0][['crop_list','OBJECTID']]\n",
    "\n",
    "\n",
    "set(fullyactive.crop_list)"
   ]
  },
  {
   "cell_type": "code",
   "execution_count": 535,
   "metadata": {},
   "outputs": [
    {
     "data": {
      "text/plain": [
       "0.8685121107266436"
      ]
     },
     "execution_count": 535,
     "metadata": {},
     "output_type": "execute_result"
    }
   ],
   "source": [
    "#CbandDensity= pd.read_csv('ColorbandsDF.csv',)\n",
    "nonones = CbandDensity[pd.notna(CbandDensity['crop_list'])]\n",
    "#hold = pd.DataFrame(['UNCULTIVATED' in i for i in nonones.crop_list ],index=nonones.index)\n",
    "\n",
    "\n",
    "tomatoandalfalfa = fullyactive[fullyactive.crop_list.str.contains('ALMOND') | fullyactive.crop_list.str.contains('WALNUT')] \n",
    "colorbands = tomatoandalfalfa.iloc[:,:61]\n",
    "colorbands['crop_list'] = tomatoandalfalfa.crop_list\n",
    "colorbands.loc[colorbands.crop_list.str.contains('ALMOND'),'crop_list']  = 'ALMOND'\n",
    "nona= colorbands.dropna()\n",
    "fullx = nona.iloc[:,1:-1]\n",
    "fully = np.where(colorbands['crop_list'] == 'ALMOND',0,1)\n",
    "X_train, X_test, Y_train, Y_test = train_test_split(fullx,fully,test_size = .4)\n",
    "clfs = LogisticRegression()\n",
    "clfs.fit(X_train,Y_train)\n",
    "sv = clfs.predict(X_test)\n",
    "clfs.score(X_test,Y_test)"
   ]
  },
  {
   "cell_type": "code",
   "execution_count": 521,
   "metadata": {},
   "outputs": [
    {
     "data": {
      "text/plain": [
       "59"
      ]
     },
     "execution_count": 521,
     "metadata": {},
     "output_type": "execute_result"
    }
   ],
   "source": [
    "clfs.coef_.argmax()"
   ]
  },
  {
   "cell_type": "code",
   "execution_count": 522,
   "metadata": {},
   "outputs": [
    {
     "data": {
      "text/plain": [
       "'Band10firstquart'"
      ]
     },
     "execution_count": 522,
     "metadata": {},
     "output_type": "execute_result"
    }
   ],
   "source": [
    "X_test.columns[59]"
   ]
  },
  {
   "cell_type": "code",
   "execution_count": 447,
   "metadata": {},
   "outputs": [
    {
     "name": "stdout",
     "output_type": "stream",
     "text": [
      "0 0.0025749447329205854\n",
      "1 0.003997120152933425\n"
     ]
    }
   ],
   "source": [
    "j = 0\n",
    "for i in clfs.coef_[0]:\n",
    "    \n",
    "    print(j,i)\n",
    "    j +=1"
   ]
  },
  {
   "cell_type": "code",
   "execution_count": 34,
   "metadata": {},
   "outputs": [
    {
     "name": "stderr",
     "output_type": "stream",
     "text": [
      "/Users/ryanbrady/anaconda3/lib/python3.6/site-packages/pandas/core/indexing.py:537: SettingWithCopyWarning: \n",
      "A value is trying to be set on a copy of a slice from a DataFrame.\n",
      "Try using .loc[row_indexer,col_indexer] = value instead\n",
      "\n",
      "See the caveats in the documentation: http://pandas.pydata.org/pandas-docs/stable/indexing.html#indexing-view-versus-copy\n",
      "  self.obj[item] = s\n"
     ]
    }
   ],
   "source": [
    "nonones.loc[nonones['crop_list'].str.contains('UNCULTIVATED'),'crop_list'] = 'UNCULTIVATED'"
   ]
  },
  {
   "cell_type": "code",
   "execution_count": 219,
   "metadata": {
    "scrolled": true
   },
   "outputs": [
    {
     "data": {
      "text/plain": [
       "0.9658385093167702"
      ]
     },
     "execution_count": 219,
     "metadata": {},
     "output_type": "execute_result"
    }
   ],
   "source": [
    "from sklearn.ensemble import ExtraTreesClassifier\n",
    "X_train, X_test, Y_train, Y_test = train_test_split(fullx,fully,test_size = .4)\n",
    "clf = ExtraTreesClassifier()\n",
    "clf.fit(X_train,Y_train)\n",
    "clf.score(X_test,Y_test)"
   ]
  },
  {
   "cell_type": "code",
   "execution_count": 552,
   "metadata": {},
   "outputs": [],
   "source": [
    "tomats = Active[Active.crop_list.str.contains('TOMATO')]"
   ]
  },
  {
   "cell_type": "code",
   "execution_count": null,
   "metadata": {},
   "outputs": [],
   "source": []
  },
  {
   "cell_type": "markdown",
   "metadata": {},
   "source": [
    "# TO HERE"
   ]
  },
  {
   "cell_type": "code",
   "execution_count": 68,
   "metadata": {},
   "outputs": [],
   "source": [
    "lottacrop = Active[Active.crop_list.str.contains('OAT')|Active.crop_list.str.contains('SUNFLOWER')  | Active.crop_list.str.contains('ALMOND') | Active.crop_list.str.contains('GRAPE') | Active.crop_list.str.contains('WALNUT') |Active.crop_list.str.contains('RICE') | Active.crop_list.str.contains('ALFALFA')| Active.crop_list.str.contains('ALFALFA') | Active.crop_list.str.contains('CORN')| Active.crop_list.str.contains('WHEAT')| Active.crop_list.str.contains('TOMATO')  | Active.crop_list.str.contains('SAFFLOWER')]\n",
    "\n",
    "\n",
    "\n",
    "\n"
   ]
  },
  {
   "cell_type": "code",
   "execution_count": 69,
   "metadata": {},
   "outputs": [],
   "source": [
    "nonorg = lottacrop.drop(lottacrop.crop_list[lottacrop.crop_list.str.contains('ORG')].index)"
   ]
  },
  {
   "cell_type": "code",
   "execution_count": 70,
   "metadata": {},
   "outputs": [
    {
     "name": "stderr",
     "output_type": "stream",
     "text": [
      "/home/marcel/anaconda3/lib/python3.6/site-packages/ipykernel_launcher.py:1: SettingWithCopyWarning: \n",
      "A value is trying to be set on a copy of a slice from a DataFrame\n",
      "\n",
      "See the caveats in the documentation: http://pandas.pydata.org/pandas-docs/stable/indexing.html#indexing-view-versus-copy\n",
      "  \"\"\"Entry point for launching an IPython kernel.\n",
      "/home/marcel/anaconda3/lib/python3.6/site-packages/pandas/core/generic.py:7620: SettingWithCopyWarning: \n",
      "A value is trying to be set on a copy of a slice from a DataFrame\n",
      "\n",
      "See the caveats in the documentation: http://pandas.pydata.org/pandas-docs/stable/indexing.html#indexing-view-versus-copy\n",
      "  self._update_inplace(new_data)\n",
      "/home/marcel/anaconda3/lib/python3.6/site-packages/IPython/core/interactiveshell.py:2963: SettingWithCopyWarning: \n",
      "A value is trying to be set on a copy of a slice from a DataFrame\n",
      "\n",
      "See the caveats in the documentation: http://pandas.pydata.org/pandas-docs/stable/indexing.html#indexing-view-versus-copy\n",
      "  exec(code_obj, self.user_global_ns, self.user_ns)\n",
      "/home/marcel/anaconda3/lib/python3.6/site-packages/ipykernel_launcher.py:2: SettingWithCopyWarning: \n",
      "A value is trying to be set on a copy of a slice from a DataFrame\n",
      "\n",
      "See the caveats in the documentation: http://pandas.pydata.org/pandas-docs/stable/indexing.html#indexing-view-versus-copy\n",
      "  \n",
      "/home/marcel/anaconda3/lib/python3.6/site-packages/ipykernel_launcher.py:3: SettingWithCopyWarning: \n",
      "A value is trying to be set on a copy of a slice from a DataFrame\n",
      "\n",
      "See the caveats in the documentation: http://pandas.pydata.org/pandas-docs/stable/indexing.html#indexing-view-versus-copy\n",
      "  This is separate from the ipykernel package so we can avoid doing imports until\n",
      "/home/marcel/anaconda3/lib/python3.6/site-packages/ipykernel_launcher.py:4: SettingWithCopyWarning: \n",
      "A value is trying to be set on a copy of a slice from a DataFrame\n",
      "\n",
      "See the caveats in the documentation: http://pandas.pydata.org/pandas-docs/stable/indexing.html#indexing-view-versus-copy\n",
      "  after removing the cwd from sys.path.\n",
      "/home/marcel/anaconda3/lib/python3.6/site-packages/ipykernel_launcher.py:5: SettingWithCopyWarning: \n",
      "A value is trying to be set on a copy of a slice from a DataFrame\n",
      "\n",
      "See the caveats in the documentation: http://pandas.pydata.org/pandas-docs/stable/indexing.html#indexing-view-versus-copy\n",
      "  \"\"\"\n",
      "/home/marcel/anaconda3/lib/python3.6/site-packages/ipykernel_launcher.py:6: SettingWithCopyWarning: \n",
      "A value is trying to be set on a copy of a slice from a DataFrame\n",
      "\n",
      "See the caveats in the documentation: http://pandas.pydata.org/pandas-docs/stable/indexing.html#indexing-view-versus-copy\n",
      "  \n",
      "/home/marcel/anaconda3/lib/python3.6/site-packages/ipykernel_launcher.py:8: SettingWithCopyWarning: \n",
      "A value is trying to be set on a copy of a slice from a DataFrame\n",
      "\n",
      "See the caveats in the documentation: http://pandas.pydata.org/pandas-docs/stable/indexing.html#indexing-view-versus-copy\n",
      "  \n",
      "/home/marcel/anaconda3/lib/python3.6/site-packages/ipykernel_launcher.py:10: SettingWithCopyWarning: \n",
      "A value is trying to be set on a copy of a slice from a DataFrame\n",
      "\n",
      "See the caveats in the documentation: http://pandas.pydata.org/pandas-docs/stable/indexing.html#indexing-view-versus-copy\n",
      "  # Remove the CWD from sys.path while we load stuff.\n",
      "/home/marcel/anaconda3/lib/python3.6/site-packages/ipykernel_launcher.py:11: SettingWithCopyWarning: \n",
      "A value is trying to be set on a copy of a slice from a DataFrame\n",
      "\n",
      "See the caveats in the documentation: http://pandas.pydata.org/pandas-docs/stable/indexing.html#indexing-view-versus-copy\n",
      "  # This is added back by InteractiveShellApp.init_path()\n",
      "/home/marcel/anaconda3/lib/python3.6/site-packages/ipykernel_launcher.py:12: SettingWithCopyWarning: \n",
      "A value is trying to be set on a copy of a slice from a DataFrame\n",
      "\n",
      "See the caveats in the documentation: http://pandas.pydata.org/pandas-docs/stable/indexing.html#indexing-view-versus-copy\n",
      "  if sys.path[0] == '':\n",
      "/home/marcel/anaconda3/lib/python3.6/site-packages/ipykernel_launcher.py:14: SettingWithCopyWarning: \n",
      "A value is trying to be set on a copy of a slice from a DataFrame\n",
      "\n",
      "See the caveats in the documentation: http://pandas.pydata.org/pandas-docs/stable/indexing.html#indexing-view-versus-copy\n",
      "  \n"
     ]
    }
   ],
   "source": [
    "lottacrop.crop_list[lottacrop['crop_list'].str.contains('ALMOND')] = 'ALMOND'\n",
    "lottacrop.crop_list[lottacrop['crop_list'].str.contains('GRAPE')] = 'GRAPE'\n",
    "lottacrop.crop_list[lottacrop['crop_list'].str.contains('OAT')] = 'OAT'\n",
    "lottacrop.crop_list[lottacrop['crop_list'].str.contains('RICE')] = 'RICE'\n",
    "lottacrop.crop_list[lottacrop['crop_list'].str.contains('SUNFLOWER')] = 'SUNFLOWER'\n",
    "lottacrop.crop_list[lottacrop['crop_list'].str.contains('WALNUT')] = 'WALNUT'\n",
    "\n",
    "lottacrop.crop_list[lottacrop['crop_list'].str.contains('ALFALFA')] = 'ALFALFA'\n",
    "\n",
    "lottacrop.crop_list[lottacrop['crop_list'].str.contains('CORN')] = 'CORN'\n",
    "lottacrop.crop_list[lottacrop['crop_list'].str.contains('WHEAT')] = 'WHEAT'\n",
    "lottacrop.crop_list[lottacrop['crop_list'].str.contains('TOMATO')] = 'TOMATO'\n",
    "\n",
    "lottacrop.crop_list[lottacrop['crop_list'].str.contains('SAFFLOWER')] = 'SAFFLOWER'\n",
    "\n",
    "\n",
    "\n",
    "\n",
    "\n",
    "\n"
   ]
  },
  {
   "cell_type": "code",
   "execution_count": 71,
   "metadata": {},
   "outputs": [
    {
     "name": "stderr",
     "output_type": "stream",
     "text": [
      "/home/marcel/anaconda3/lib/python3.6/site-packages/ipykernel_launcher.py:1: SettingWithCopyWarning: \n",
      "A value is trying to be set on a copy of a slice from a DataFrame\n",
      "\n",
      "See the caveats in the documentation: http://pandas.pydata.org/pandas-docs/stable/indexing.html#indexing-view-versus-copy\n",
      "  \"\"\"Entry point for launching an IPython kernel.\n",
      "/home/marcel/anaconda3/lib/python3.6/site-packages/ipykernel_launcher.py:2: SettingWithCopyWarning: \n",
      "A value is trying to be set on a copy of a slice from a DataFrame\n",
      "\n",
      "See the caveats in the documentation: http://pandas.pydata.org/pandas-docs/stable/indexing.html#indexing-view-versus-copy\n",
      "  \n",
      "/home/marcel/anaconda3/lib/python3.6/site-packages/ipykernel_launcher.py:3: SettingWithCopyWarning: \n",
      "A value is trying to be set on a copy of a slice from a DataFrame\n",
      "\n",
      "See the caveats in the documentation: http://pandas.pydata.org/pandas-docs/stable/indexing.html#indexing-view-versus-copy\n",
      "  This is separate from the ipykernel package so we can avoid doing imports until\n",
      "/home/marcel/anaconda3/lib/python3.6/site-packages/ipykernel_launcher.py:4: SettingWithCopyWarning: \n",
      "A value is trying to be set on a copy of a slice from a DataFrame\n",
      "\n",
      "See the caveats in the documentation: http://pandas.pydata.org/pandas-docs/stable/indexing.html#indexing-view-versus-copy\n",
      "  after removing the cwd from sys.path.\n",
      "/home/marcel/anaconda3/lib/python3.6/site-packages/ipykernel_launcher.py:5: SettingWithCopyWarning: \n",
      "A value is trying to be set on a copy of a slice from a DataFrame\n",
      "\n",
      "See the caveats in the documentation: http://pandas.pydata.org/pandas-docs/stable/indexing.html#indexing-view-versus-copy\n",
      "  \"\"\"\n",
      "/home/marcel/anaconda3/lib/python3.6/site-packages/ipykernel_launcher.py:6: SettingWithCopyWarning: \n",
      "A value is trying to be set on a copy of a slice from a DataFrame\n",
      "\n",
      "See the caveats in the documentation: http://pandas.pydata.org/pandas-docs/stable/indexing.html#indexing-view-versus-copy\n",
      "  \n",
      "/home/marcel/anaconda3/lib/python3.6/site-packages/ipykernel_launcher.py:7: SettingWithCopyWarning: \n",
      "A value is trying to be set on a copy of a slice from a DataFrame\n",
      "\n",
      "See the caveats in the documentation: http://pandas.pydata.org/pandas-docs/stable/indexing.html#indexing-view-versus-copy\n",
      "  import sys\n",
      "/home/marcel/anaconda3/lib/python3.6/site-packages/ipykernel_launcher.py:9: SettingWithCopyWarning: \n",
      "A value is trying to be set on a copy of a slice from a DataFrame\n",
      "\n",
      "See the caveats in the documentation: http://pandas.pydata.org/pandas-docs/stable/indexing.html#indexing-view-versus-copy\n",
      "  if __name__ == '__main__':\n",
      "/home/marcel/anaconda3/lib/python3.6/site-packages/ipykernel_launcher.py:10: SettingWithCopyWarning: \n",
      "A value is trying to be set on a copy of a slice from a DataFrame\n",
      "\n",
      "See the caveats in the documentation: http://pandas.pydata.org/pandas-docs/stable/indexing.html#indexing-view-versus-copy\n",
      "  # Remove the CWD from sys.path while we load stuff.\n",
      "/home/marcel/anaconda3/lib/python3.6/site-packages/ipykernel_launcher.py:11: SettingWithCopyWarning: \n",
      "A value is trying to be set on a copy of a slice from a DataFrame\n",
      "\n",
      "See the caveats in the documentation: http://pandas.pydata.org/pandas-docs/stable/indexing.html#indexing-view-versus-copy\n",
      "  # This is added back by InteractiveShellApp.init_path()\n",
      "/home/marcel/anaconda3/lib/python3.6/site-packages/ipykernel_launcher.py:13: SettingWithCopyWarning: \n",
      "A value is trying to be set on a copy of a slice from a DataFrame\n",
      "\n",
      "See the caveats in the documentation: http://pandas.pydata.org/pandas-docs/stable/indexing.html#indexing-view-versus-copy\n",
      "  del sys.path[0]\n"
     ]
    }
   ],
   "source": [
    "nonorg.crop_list[nonorg['crop_list'].str.contains('ALMOND')] = 'ALMOND'\n",
    "nonorg.crop_list[nonorg['crop_list'].str.contains('GRAPE')] = 'GRAPE'\n",
    "nonorg.crop_list[nonorg['crop_list'].str.contains('OAT')] = 'OAT'\n",
    "nonorg.crop_list[nonorg['crop_list'].str.contains('RICE')] = 'RICE'\n",
    "nonorg.crop_list[nonorg['crop_list'].str.contains('SUNFLOWER')] = 'SUNFLOWER'\n",
    "nonorg.crop_list[nonorg['crop_list'].str.contains('WALNUT')] = 'WALNUT'\n",
    "nonorg.crop_list[nonorg['crop_list'].str.contains('ALFALFA')] = 'ALFALFA'\n",
    "\n",
    "nonorg.crop_list[nonorg['crop_list'].str.contains('CORN')] = 'CORN'\n",
    "nonorg.crop_list[nonorg['crop_list'].str.contains('WHEAT')] = 'WHEAT'\n",
    "nonorg.crop_list[nonorg['crop_list'].str.contains('TOMATO')] = 'TOMATO'\n",
    "\n",
    "nonorg.crop_list[nonorg['crop_list'].str.contains('SAFFLOWER')] = 'SAFFLOWER'\n",
    "\n",
    "\n",
    "\n",
    "\n",
    "\n",
    "\n",
    "\n",
    "\n",
    "\n"
   ]
  },
  {
   "cell_type": "code",
   "execution_count": null,
   "metadata": {},
   "outputs": [],
   "source": [
    "OAT 338\n",
    "SAFFLOWER 348\n",
    "CORN 355\n",
    "WALNUT 600\n",
    "GRAPE 676\n",
    "RICE 773\n",
    "UNKNOWN 1021\n",
    "ALMOND 1099\n",
    "SUNFLOWER SEED 1216\n",
    "WHEAT 1323\n",
    "UNCULTIVATED AG 1444\n",
    "ALFALFA 1541\n",
    "TOMATO PROCESS 1702"
   ]
  },
  {
   "cell_type": "code",
   "execution_count": 72,
   "metadata": {},
   "outputs": [],
   "source": [
    "nonorg['code'] = nonorg.crop_list.astype('category').cat.codes"
   ]
  },
  {
   "cell_type": "markdown",
   "metadata": {},
   "source": [
    "## Marcel Look Here for stuff"
   ]
  },
  {
   "cell_type": "code",
   "execution_count": 92,
   "metadata": {},
   "outputs": [],
   "source": [
    "fullx = nonorg.loc[:,['Band3std deviation','Band3median']].dropna()\n",
    "fully = nonorg.loc[fullx.index,'code']\n",
    "fully.shape\n",
    "X_train, X_test, Y_train, Y_test = train_test_split(fullx,fully,test_size = .4)"
   ]
  },
  {
   "cell_type": "code",
   "execution_count": 76,
   "metadata": {},
   "outputs": [
    {
     "data": {
      "text/html": [
       "<div>\n",
       "<style scoped>\n",
       "    .dataframe tbody tr th:only-of-type {\n",
       "        vertical-align: middle;\n",
       "    }\n",
       "\n",
       "    .dataframe tbody tr th {\n",
       "        vertical-align: top;\n",
       "    }\n",
       "\n",
       "    .dataframe thead th {\n",
       "        text-align: right;\n",
       "    }\n",
       "</style>\n",
       "<table border=\"1\" class=\"dataframe\">\n",
       "  <thead>\n",
       "    <tr style=\"text-align: right;\">\n",
       "      <th></th>\n",
       "      <th>crop_list</th>\n",
       "      <th>code</th>\n",
       "    </tr>\n",
       "  </thead>\n",
       "  <tbody>\n",
       "    <tr>\n",
       "      <th>178</th>\n",
       "      <td>CORN</td>\n",
       "      <td>2</td>\n",
       "    </tr>\n",
       "    <tr>\n",
       "      <th>194</th>\n",
       "      <td>CORN</td>\n",
       "      <td>2</td>\n",
       "    </tr>\n",
       "    <tr>\n",
       "      <th>224</th>\n",
       "      <td>CORN</td>\n",
       "      <td>2</td>\n",
       "    </tr>\n",
       "    <tr>\n",
       "      <th>739</th>\n",
       "      <td>CORN</td>\n",
       "      <td>2</td>\n",
       "    </tr>\n",
       "    <tr>\n",
       "      <th>982</th>\n",
       "      <td>CORN</td>\n",
       "      <td>2</td>\n",
       "    </tr>\n",
       "    <tr>\n",
       "      <th>983</th>\n",
       "      <td>CORN</td>\n",
       "      <td>2</td>\n",
       "    </tr>\n",
       "    <tr>\n",
       "      <th>994</th>\n",
       "      <td>CORN</td>\n",
       "      <td>2</td>\n",
       "    </tr>\n",
       "    <tr>\n",
       "      <th>1000</th>\n",
       "      <td>CORN</td>\n",
       "      <td>2</td>\n",
       "    </tr>\n",
       "    <tr>\n",
       "      <th>1005</th>\n",
       "      <td>CORN</td>\n",
       "      <td>2</td>\n",
       "    </tr>\n",
       "    <tr>\n",
       "      <th>1006</th>\n",
       "      <td>CORN</td>\n",
       "      <td>2</td>\n",
       "    </tr>\n",
       "    <tr>\n",
       "      <th>1020</th>\n",
       "      <td>CORN</td>\n",
       "      <td>2</td>\n",
       "    </tr>\n",
       "    <tr>\n",
       "      <th>1078</th>\n",
       "      <td>CORN</td>\n",
       "      <td>2</td>\n",
       "    </tr>\n",
       "    <tr>\n",
       "      <th>1083</th>\n",
       "      <td>CORN</td>\n",
       "      <td>2</td>\n",
       "    </tr>\n",
       "    <tr>\n",
       "      <th>1096</th>\n",
       "      <td>CORN</td>\n",
       "      <td>2</td>\n",
       "    </tr>\n",
       "    <tr>\n",
       "      <th>1104</th>\n",
       "      <td>CORN</td>\n",
       "      <td>2</td>\n",
       "    </tr>\n",
       "    <tr>\n",
       "      <th>1125</th>\n",
       "      <td>CORN</td>\n",
       "      <td>2</td>\n",
       "    </tr>\n",
       "    <tr>\n",
       "      <th>1176</th>\n",
       "      <td>CORN</td>\n",
       "      <td>2</td>\n",
       "    </tr>\n",
       "    <tr>\n",
       "      <th>1442</th>\n",
       "      <td>CORN</td>\n",
       "      <td>2</td>\n",
       "    </tr>\n",
       "    <tr>\n",
       "      <th>1674</th>\n",
       "      <td>CORN</td>\n",
       "      <td>2</td>\n",
       "    </tr>\n",
       "    <tr>\n",
       "      <th>1707</th>\n",
       "      <td>CORN</td>\n",
       "      <td>2</td>\n",
       "    </tr>\n",
       "    <tr>\n",
       "      <th>1739</th>\n",
       "      <td>CORN</td>\n",
       "      <td>2</td>\n",
       "    </tr>\n",
       "    <tr>\n",
       "      <th>1740</th>\n",
       "      <td>CORN</td>\n",
       "      <td>2</td>\n",
       "    </tr>\n",
       "    <tr>\n",
       "      <th>1767</th>\n",
       "      <td>CORN</td>\n",
       "      <td>2</td>\n",
       "    </tr>\n",
       "    <tr>\n",
       "      <th>1798</th>\n",
       "      <td>CORN</td>\n",
       "      <td>2</td>\n",
       "    </tr>\n",
       "    <tr>\n",
       "      <th>1799</th>\n",
       "      <td>CORN</td>\n",
       "      <td>2</td>\n",
       "    </tr>\n",
       "    <tr>\n",
       "      <th>1972</th>\n",
       "      <td>CORN</td>\n",
       "      <td>2</td>\n",
       "    </tr>\n",
       "    <tr>\n",
       "      <th>1973</th>\n",
       "      <td>CORN</td>\n",
       "      <td>2</td>\n",
       "    </tr>\n",
       "    <tr>\n",
       "      <th>2073</th>\n",
       "      <td>CORN</td>\n",
       "      <td>2</td>\n",
       "    </tr>\n",
       "    <tr>\n",
       "      <th>2153</th>\n",
       "      <td>CORN</td>\n",
       "      <td>2</td>\n",
       "    </tr>\n",
       "    <tr>\n",
       "      <th>2256</th>\n",
       "      <td>CORN</td>\n",
       "      <td>2</td>\n",
       "    </tr>\n",
       "    <tr>\n",
       "      <th>...</th>\n",
       "      <td>...</td>\n",
       "      <td>...</td>\n",
       "    </tr>\n",
       "    <tr>\n",
       "      <th>13018</th>\n",
       "      <td>CORN</td>\n",
       "      <td>2</td>\n",
       "    </tr>\n",
       "    <tr>\n",
       "      <th>13020</th>\n",
       "      <td>CORN</td>\n",
       "      <td>2</td>\n",
       "    </tr>\n",
       "    <tr>\n",
       "      <th>13022</th>\n",
       "      <td>CORN</td>\n",
       "      <td>2</td>\n",
       "    </tr>\n",
       "    <tr>\n",
       "      <th>13025</th>\n",
       "      <td>CORN</td>\n",
       "      <td>2</td>\n",
       "    </tr>\n",
       "    <tr>\n",
       "      <th>13029</th>\n",
       "      <td>CORN</td>\n",
       "      <td>2</td>\n",
       "    </tr>\n",
       "    <tr>\n",
       "      <th>13030</th>\n",
       "      <td>CORN</td>\n",
       "      <td>2</td>\n",
       "    </tr>\n",
       "    <tr>\n",
       "      <th>13038</th>\n",
       "      <td>CORN</td>\n",
       "      <td>2</td>\n",
       "    </tr>\n",
       "    <tr>\n",
       "      <th>13045</th>\n",
       "      <td>CORN</td>\n",
       "      <td>2</td>\n",
       "    </tr>\n",
       "    <tr>\n",
       "      <th>13046</th>\n",
       "      <td>CORN</td>\n",
       "      <td>2</td>\n",
       "    </tr>\n",
       "    <tr>\n",
       "      <th>13062</th>\n",
       "      <td>CORN</td>\n",
       "      <td>2</td>\n",
       "    </tr>\n",
       "    <tr>\n",
       "      <th>13070</th>\n",
       "      <td>CORN</td>\n",
       "      <td>2</td>\n",
       "    </tr>\n",
       "    <tr>\n",
       "      <th>13073</th>\n",
       "      <td>CORN</td>\n",
       "      <td>2</td>\n",
       "    </tr>\n",
       "    <tr>\n",
       "      <th>13075</th>\n",
       "      <td>CORN</td>\n",
       "      <td>2</td>\n",
       "    </tr>\n",
       "    <tr>\n",
       "      <th>13077</th>\n",
       "      <td>CORN</td>\n",
       "      <td>2</td>\n",
       "    </tr>\n",
       "    <tr>\n",
       "      <th>13078</th>\n",
       "      <td>CORN</td>\n",
       "      <td>2</td>\n",
       "    </tr>\n",
       "    <tr>\n",
       "      <th>13087</th>\n",
       "      <td>CORN</td>\n",
       "      <td>2</td>\n",
       "    </tr>\n",
       "    <tr>\n",
       "      <th>13133</th>\n",
       "      <td>CORN</td>\n",
       "      <td>2</td>\n",
       "    </tr>\n",
       "    <tr>\n",
       "      <th>13632</th>\n",
       "      <td>CORN</td>\n",
       "      <td>2</td>\n",
       "    </tr>\n",
       "    <tr>\n",
       "      <th>13634</th>\n",
       "      <td>CORN</td>\n",
       "      <td>2</td>\n",
       "    </tr>\n",
       "    <tr>\n",
       "      <th>13718</th>\n",
       "      <td>CORN</td>\n",
       "      <td>2</td>\n",
       "    </tr>\n",
       "    <tr>\n",
       "      <th>13893</th>\n",
       "      <td>CORN</td>\n",
       "      <td>2</td>\n",
       "    </tr>\n",
       "    <tr>\n",
       "      <th>13907</th>\n",
       "      <td>CORN</td>\n",
       "      <td>2</td>\n",
       "    </tr>\n",
       "    <tr>\n",
       "      <th>13915</th>\n",
       "      <td>CORN</td>\n",
       "      <td>2</td>\n",
       "    </tr>\n",
       "    <tr>\n",
       "      <th>13920</th>\n",
       "      <td>CORN</td>\n",
       "      <td>2</td>\n",
       "    </tr>\n",
       "    <tr>\n",
       "      <th>13963</th>\n",
       "      <td>CORN</td>\n",
       "      <td>2</td>\n",
       "    </tr>\n",
       "    <tr>\n",
       "      <th>13968</th>\n",
       "      <td>CORN</td>\n",
       "      <td>2</td>\n",
       "    </tr>\n",
       "    <tr>\n",
       "      <th>14949</th>\n",
       "      <td>CORN</td>\n",
       "      <td>2</td>\n",
       "    </tr>\n",
       "    <tr>\n",
       "      <th>14958</th>\n",
       "      <td>CORN</td>\n",
       "      <td>2</td>\n",
       "    </tr>\n",
       "    <tr>\n",
       "      <th>14981</th>\n",
       "      <td>CORN</td>\n",
       "      <td>2</td>\n",
       "    </tr>\n",
       "    <tr>\n",
       "      <th>15130</th>\n",
       "      <td>CORN</td>\n",
       "      <td>2</td>\n",
       "    </tr>\n",
       "  </tbody>\n",
       "</table>\n",
       "<p>374 rows × 2 columns</p>\n",
       "</div>"
      ],
      "text/plain": [
       "      crop_list  code\n",
       "178        CORN     2\n",
       "194        CORN     2\n",
       "224        CORN     2\n",
       "739        CORN     2\n",
       "982        CORN     2\n",
       "983        CORN     2\n",
       "994        CORN     2\n",
       "1000       CORN     2\n",
       "1005       CORN     2\n",
       "1006       CORN     2\n",
       "1020       CORN     2\n",
       "1078       CORN     2\n",
       "1083       CORN     2\n",
       "1096       CORN     2\n",
       "1104       CORN     2\n",
       "1125       CORN     2\n",
       "1176       CORN     2\n",
       "1442       CORN     2\n",
       "1674       CORN     2\n",
       "1707       CORN     2\n",
       "1739       CORN     2\n",
       "1740       CORN     2\n",
       "1767       CORN     2\n",
       "1798       CORN     2\n",
       "1799       CORN     2\n",
       "1972       CORN     2\n",
       "1973       CORN     2\n",
       "2073       CORN     2\n",
       "2153       CORN     2\n",
       "2256       CORN     2\n",
       "...         ...   ...\n",
       "13018      CORN     2\n",
       "13020      CORN     2\n",
       "13022      CORN     2\n",
       "13025      CORN     2\n",
       "13029      CORN     2\n",
       "13030      CORN     2\n",
       "13038      CORN     2\n",
       "13045      CORN     2\n",
       "13046      CORN     2\n",
       "13062      CORN     2\n",
       "13070      CORN     2\n",
       "13073      CORN     2\n",
       "13075      CORN     2\n",
       "13077      CORN     2\n",
       "13078      CORN     2\n",
       "13087      CORN     2\n",
       "13133      CORN     2\n",
       "13632      CORN     2\n",
       "13634      CORN     2\n",
       "13718      CORN     2\n",
       "13893      CORN     2\n",
       "13907      CORN     2\n",
       "13915      CORN     2\n",
       "13920      CORN     2\n",
       "13963      CORN     2\n",
       "13968      CORN     2\n",
       "14949      CORN     2\n",
       "14958      CORN     2\n",
       "14981      CORN     2\n",
       "15130      CORN     2\n",
       "\n",
       "[374 rows x 2 columns]"
      ]
     },
     "execution_count": 76,
     "metadata": {},
     "output_type": "execute_result"
    }
   ],
   "source": [
    "nonorg[['crop_list','code']][nonorg['crop_list'] != 0]\n",
    "\n",
    "{\"WALNUT\":9,\"ALFALFA\":0,\"OAT\":4,\"GRAPE\":3,\"ALMOND\":1,\"WHEAT\":10,\"RICE\":5,\"Corn\":2,}\n",
    "nonorg[['crop_list','code']][nonorg['code'] ==2 ]\n",
    "\n"
   ]
  },
  {
   "cell_type": "code",
   "execution_count": 93,
   "metadata": {},
   "outputs": [],
   "source": [
    "from sklearn.multiclass import OneVsOneClassifier\n",
    "from sklearn.svm import LinearSVC\n",
    "from sklearn.neighbors.nearest_centroid import NearestCentroid\n",
    "from sklearn.neighbors import RadiusNeighborsClassifier\n",
    "from sklearn.ensemble import RandomForestClassifier\n",
    "from sklearn.ensemble import ExtraTreesClassifier\n",
    "\n",
    "\n",
    "from sklearn.tree import DecisionTreeClassifier\n",
    "\n",
    "import numpy as np\n",
    "import matplotlib.pyplot as plt\n",
    "from matplotlib.colors import ListedColormap\n",
    "from sklearn import neighbors, datasets\n",
    "n_neighbors = 25\n",
    "\n",
    "RFC = RandomForestClassifier()\n",
    "DTC = DecisionTreeClassifier\n",
    "extra = ExtraTreesClassifier()\n",
    "\n",
    "\n",
    "clf = neighbors.KNeighborsClassifier(n_neighbors, weights='distance',algorithm='ball_tree')\n",
    "clf.fit(X_train, Y_train)\n",
    "neigh = RadiusNeighborsClassifier(radius=3000.0)\n",
    "RFF = RadiusNeighborsClassifier()\n",
    "extra.fit(X_train,Y_train)\n",
    "#DTC.fit(X_train,Y_train)\n",
    "RFC.fit(X_train,Y_train)\n",
    "tester = OneVsOneClassifier(LinearSVC(random_state=0)).fit(X_train, Y_train)"
   ]
  },
  {
   "cell_type": "code",
   "execution_count": 94,
   "metadata": {},
   "outputs": [
    {
     "name": "stdout",
     "output_type": "stream",
     "text": [
      "0.15817091454272864\n",
      "0.7933533233383309\n",
      "0.7918540729635183\n",
      "0.7823588205897052\n"
     ]
    }
   ],
   "source": [
    "preds = tester.predict(X_test)\n",
    "\n",
    "print(tester.score(X_test,Y_test))\n",
    "print(clf.score(X_test,Y_test))\n",
    "print(extra.score(X_test,Y_test))\n",
    "#print(DTC.score(X_test,Y_test))\n",
    "print(RFC.score(X_test,Y_test))\n",
    "\n"
   ]
  },
  {
   "cell_type": "code",
   "execution_count": 95,
   "metadata": {},
   "outputs": [
    {
     "data": {
      "text/plain": [
       "array([[538,  15,   3,   4,   6,   1,   3,  24,  20,   7,  15],\n",
       "       [ 25, 317,   1,   9,   6,   0,   3,  11,  25,   6,  15],\n",
       "       [  1,   1, 109,   3,   3,   6,   1,   5,  11,   3,   1],\n",
       "       [ 21,  16,   0, 130,   2,   1,   5,  25,  45,   2,  13],\n",
       "       [  4,   6,   0,   0, 103,   0,   0,   1,   1,   1,  21],\n",
       "       [  5,   2,   3,   0,   0, 319,   2,   0,   3,   5,   3],\n",
       "       [  9,   5,   3,   1,   2,   1,  91,   9,  14,   3,  11],\n",
       "       [  8,   6,   9,   9,   1,   4,   2, 404,  35,   5,   3],\n",
       "       [ 18,  16,  15,   8,   1,   1,   3,  44, 562,   0,   3],\n",
       "       [ 27,  17,   2,   7,   0,   7,   4,  15,  19, 144,   5],\n",
       "       [  6,  10,   0,   1,  14,   0,   4,   8,  10,   1, 458]])"
      ]
     },
     "execution_count": 95,
     "metadata": {},
     "output_type": "execute_result"
    }
   ],
   "source": [
    "confusion_matrix(Y_test,clf.predict(X_test))\n"
   ]
  },
  {
   "cell_type": "code",
   "execution_count": 83,
   "metadata": {},
   "outputs": [
    {
     "data": {
      "text/plain": [
       "array([6.71465131, 6.44217056, 5.48731338, 5.99234285, 5.52159953,\n",
       "       5.86177794, 5.48429349, 6.53914462, 6.85619385, 5.81692839,\n",
       "       6.48874162])"
      ]
     },
     "execution_count": 83,
     "metadata": {},
     "output_type": "execute_result"
    }
   ],
   "source": [
    "import scipy as sc\n",
    "entropy=sc.stats.entropy(extra.predict_proba(X_test))\n",
    "entropy"
   ]
  },
  {
   "cell_type": "code",
   "execution_count": 88,
   "metadata": {},
   "outputs": [
    {
     "name": "stderr",
     "output_type": "stream",
     "text": [
      "/home/marcel/anaconda3/lib/python3.6/site-packages/ipykernel_launcher.py:1: SettingWithCopyWarning: \n",
      "A value is trying to be set on a copy of a slice from a DataFrame.\n",
      "Try using .loc[row_indexer,col_indexer] = value instead\n",
      "\n",
      "See the caveats in the documentation: http://pandas.pydata.org/pandas-docs/stable/indexing.html#indexing-view-versus-copy\n",
      "  \"\"\"Entry point for launching an IPython kernel.\n"
     ]
    }
   ],
   "source": [
    "lottacrop['code'] = lottacrop.crop_list.astype('category').cat.codes\n",
    "fullx = lottacrop.iloc[:,1:61].dropna()\n",
    "fully = lottacrop.loc[fullx.index,'code']\n",
    "fully.shape\n",
    "X_train, X_test, Y_train, Y_test = train_test_split(fullx,fully,test_size = .4)"
   ]
  },
  {
   "cell_type": "code",
   "execution_count": 843,
   "metadata": {},
   "outputs": [],
   "source": [
    "from sklearn.multiclass import OneVsOneClassifier\n",
    "from sklearn.svm import LinearSVC\n",
    "from sklearn.neighbors.nearest_centroid import NearestCentroid\n",
    "from sklearn.neighbors import RadiusNeighborsClassifier\n",
    "from sklearn.ensemble import RandomForestClassifier\n",
    "from sklearn.ensemble import ExtraTreesClassifier\n",
    "\n",
    "\n",
    "from sklearn.tree import DecisionTreeClassifier\n",
    "\n",
    "import numpy as np\n",
    "import matplotlib.pyplot as plt\n",
    "from matplotlib.colors import ListedColormap\n",
    "from sklearn import neighbors, datasets\n",
    "n_neighbors = 25\n",
    "\n",
    "RFC = RandomForestClassifier()\n",
    "DTC = DecisionTreeClassifier\n",
    "extra = ExtraTreesClassifier()\n",
    "\n",
    "\n",
    "clf = neighbors.KNeighborsClassifier(n_neighbors, weights='distance',algorithm='ball_tree')\n",
    "clf.fit(X_train, Y_train)\n",
    "neigh = RadiusNeighborsClassifier(radius=3000.0)\n",
    "RFF = RadiusNeighborsClassifier()\n",
    "extra.fit(X_train,Y_train)\n",
    "#DTC.fit(X_train,Y_train)\n",
    "RFC.fit(X_train,Y_train)\n",
    "\n",
    "\n",
    "tester = OneVsOneClassifier(LinearSVC(random_state=0)).fit(X_train, Y_train)"
   ]
  },
  {
   "cell_type": "code",
   "execution_count": 797,
   "metadata": {},
   "outputs": [],
   "source": [
    "importances = extra.feature_importances_\n",
    "std = np.std([extra.feature_importances_ for tree in extra.estimators_],\n",
    "             axis=0)\n",
    "indices = np.argsort(importances)[::-1]\n"
   ]
  },
  {
   "cell_type": "code",
   "execution_count": 809,
   "metadata": {},
   "outputs": [
    {
     "data": {
      "text/plain": [
       "array([0.04290905, 0.0390709 , 0.03494634, 0.03374413, 0.03222272,\n",
       "       0.03078271, 0.03074085, 0.03004672, 0.02891529, 0.02835637,\n",
       "       0.02782712, 0.02758571, 0.0272452 , 0.02721876, 0.02687348,\n",
       "       0.02592916, 0.02544191, 0.02506658, 0.02469739, 0.02301303,\n",
       "       0.02271532, 0.02265532, 0.02258652, 0.02258527, 0.02246966,\n",
       "       0.02236035, 0.02214154, 0.02141325, 0.02074555, 0.02004961,\n",
       "       0.01946737, 0.01939208, 0.01936974, 0.01898903, 0.01824556,\n",
       "       0.01809277, 0.01711648, 0.01680485, 0.01342791, 0.01327269,\n",
       "       0.011181  , 0.00070409, 0.00042863, 0.00040067, 0.00039443,\n",
       "       0.00035689, 0.        , 0.        , 0.        , 0.        ,\n",
       "       0.        , 0.        , 0.        , 0.        , 0.        ,\n",
       "       0.        , 0.        , 0.        ])"
      ]
     },
     "execution_count": 809,
     "metadata": {},
     "output_type": "execute_result"
    }
   ],
   "source": [
    "X_train.shape[1]\n",
    "importances[indices][:58]"
   ]
  },
  {
   "cell_type": "code",
   "execution_count": 829,
   "metadata": {},
   "outputs": [
    {
     "name": "stdout",
     "output_type": "stream",
     "text": [
      "Feature ranking:\n",
      "1. feature 13 (0.042909)\n",
      "2. feature 33 (0.039071)\n",
      "3. feature 8 (0.034946)\n",
      "4. feature 27 (0.033744)\n",
      "5. feature 40 (0.032223)\n"
     ]
    },
    {
     "ename": "TypeError",
     "evalue": "'int' object is not subscriptable",
     "output_type": "error",
     "traceback": [
      "\u001b[0;31m---------------------------------------------------------------------------\u001b[0m",
      "\u001b[0;31mTypeError\u001b[0m                                 Traceback (most recent call last)",
      "\u001b[0;32m<ipython-input-829-8e7fad662e4c>\u001b[0m in \u001b[0;36m<module>\u001b[0;34m()\u001b[0m\n\u001b[1;32m     12\u001b[0m \u001b[0mplt\u001b[0m\u001b[0;34m.\u001b[0m\u001b[0mylabel\u001b[0m \u001b[0;34m=\u001b[0m \u001b[0;34m'Importance'\u001b[0m\u001b[0;34m\u001b[0m\u001b[0m\n\u001b[1;32m     13\u001b[0m \u001b[0mplt\u001b[0m\u001b[0;34m.\u001b[0m\u001b[0mxlabel\u001b[0m \u001b[0;34m=\u001b[0m \u001b[0;34m'Features'\u001b[0m\u001b[0;34m\u001b[0m\u001b[0m\n\u001b[0;32m---> 14\u001b[0;31m \u001b[0mplt\u001b[0m\u001b[0;34m.\u001b[0m\u001b[0mxlim\u001b[0m\u001b[0;34m(\u001b[0m\u001b[0;34m[\u001b[0m\u001b[0;34m-\u001b[0m\u001b[0;36m1\u001b[0m\u001b[0;34m,\u001b[0m \u001b[0mX_train\u001b[0m\u001b[0;34m.\u001b[0m\u001b[0mshape\u001b[0m\u001b[0;34m[\u001b[0m\u001b[0;36m1\u001b[0m\u001b[0;34m]\u001b[0m\u001b[0;34m[\u001b[0m\u001b[0;34m:\u001b[0m\u001b[0;36m5\u001b[0m\u001b[0;34m]\u001b[0m\u001b[0;34m]\u001b[0m\u001b[0;34m)\u001b[0m\u001b[0;34m\u001b[0m\u001b[0m\n\u001b[0m\u001b[1;32m     15\u001b[0m \u001b[0;34m\u001b[0m\u001b[0m\n\u001b[1;32m     16\u001b[0m \u001b[0mplt\u001b[0m\u001b[0;34m.\u001b[0m\u001b[0mshow\u001b[0m\u001b[0;34m(\u001b[0m\u001b[0;34m)\u001b[0m\u001b[0;34m\u001b[0m\u001b[0m\n",
      "\u001b[0;31mTypeError\u001b[0m: 'int' object is not subscriptable"
     ]
    },
    {
     "data": {
      "image/png": "[encoded data removed]",
      "text/plain": [
       "<Figure size 432x288 with 1 Axes>"
      ]
     },
     "metadata": {},
     "output_type": "display_data"
    }
   ],
   "source": [
    "print(\"Feature ranking:\")\n",
    "\n",
    "for f in range(5):\n",
    "    print(\"%d. feature %d (%f)\" % (f + 1, indices[f], importances[indices[f]]))\n",
    "\n",
    "# Plot the feature importances of the forest\n",
    "plt.figure()\n",
    "plt.title(\"Feature importances for Extra Trees Model\")\n",
    "plt.bar(range(5), importances[indices][:5],\n",
    "       color=\"r\", yerr=std[indices][:5], align=\"center\")\n",
    "plt.xticks(range(5), X_train.columns[indices[:5]],rotation = 90)\n",
    "plt.ylabel = 'Importance'\n",
    "plt.xlabel = 'Features'\n",
    "plt.xlim([-1, X_train.shape[1][:5]])\n",
    "\n",
    "plt.show()"
   ]
  },
  {
   "cell_type": "code",
   "execution_count": 844,
   "metadata": {},
   "outputs": [],
   "source": [
    "extrapreds = extra.predict(X_test)"
   ]
  },
  {
   "cell_type": "code",
   "execution_count": 845,
   "metadata": {},
   "outputs": [
    {
     "data": {
      "text/plain": [
       "array([[544,   4,   0,  11,   1,   0,   0,   0,   0,   2,   5],\n",
       "       [ 21, 313,   0,  16,  11,   0,   0,   0,   0,   5,   0],\n",
       "       [  0,   2,   4,   0,   0,   0,   0,   0,   0,   1,   0],\n",
       "       [ 21,  15,   0, 219,   1,   0,   0,   0,   0,   4,   3],\n",
       "       [  6,   7,   0,   0, 130,   0,   1,   0,   0,   0,   2],\n",
       "       [  2,   2,   0,   2,   0, 142,   0,   0,   0,   0,   0],\n",
       "       [  3,   0,   0,   3,   5,   1,  16,   0,   0,   1,   1],\n",
       "       [  0,   0,   0,   0,   0,   0,   0,  12,   1,   0,   0],\n",
       "       [  6,   0,   0,   4,   0,   3,   0,   0,  22,   0,   0],\n",
       "       [ 16,  20,   0,   8,   0,   3,   0,   0,   0, 167,   1],\n",
       "       [  7,   0,   0,   1,  10,   0,   2,   0,   0,   0, 129]])"
      ]
     },
     "execution_count": 845,
     "metadata": {},
     "output_type": "execute_result"
    }
   ],
   "source": [
    "confusion_matrix(Y_test,extrapreds)"
   ]
  },
  {
   "cell_type": "code",
   "execution_count": 847,
   "metadata": {},
   "outputs": [
    {
     "name": "stdout",
     "output_type": "stream",
     "text": [
      "0.6322846828261991\n",
      "0.8313563692625064\n",
      "0.8757091284167097\n",
      "0.8607529654461062\n"
     ]
    }
   ],
   "source": [
    "preds = tester.predict(X_test)\n",
    "\n",
    "print(tester.score(X_test,Y_test))\n",
    "print(clf.score(X_test,Y_test))\n",
    "print(extra.score(X_test,Y_test))\n",
    "#print(DTC.score(X_test,Y_test))\n",
    "print(RFC.score(X_test,Y_test))\n",
    "\n",
    "\n",
    "\n",
    "\n"
   ]
  },
  {
   "cell_type": "code",
   "execution_count": 711,
   "metadata": {},
   "outputs": [
    {
     "data": {
      "text/plain": [
       "array([[555,   6,  10,   1,   0,   1,   0],\n",
       "       [ 24, 315,  10,   8,   0,   0,   9],\n",
       "       [ 20,  11, 207,   0,   0,   0,   5],\n",
       "       [  7,   6,   1,  29,   1,   0,   2],\n",
       "       [  5,   2,   2,   0, 153,   0,   1],\n",
       "       [  2,   1,   0,   0,   0,  11,   0],\n",
       "       [ 13,  21,   9,   0,   6,   0, 171]])"
      ]
     },
     "execution_count": 711,
     "metadata": {},
     "output_type": "execute_result"
    }
   ],
   "source": [
    "confusion_matrix(Y_test,preds)"
   ]
  },
  {
   "cell_type": "markdown",
   "metadata": {},
   "source": [
    "Alfalfa:0\n",
    "Almond:1\n",
    "Grape:2\n",
    "Oat:3\n",
    "Rice:4\n",
    "Sunflower:5\n",
    "Tomato:6\n",
    "Walnut :7\n"
   ]
  },
  {
   "cell_type": "code",
   "execution_count": 911,
   "metadata": {},
   "outputs": [
    {
     "data": {
      "image/png": "[encoded data removed]",
      "text/plain": [
       "<Figure size 432x288 with 1 Axes>"
      ]
     },
     "metadata": {},
     "output_type": "display_data"
    }
   ],
   "source": [
    "colors = ['b', 'c', 'y', 'm', 'r','brown','pink','teal','black','orange','purple']\n",
    "for i,j in zip(set(nonorg.crop_list),colors):\n",
    "    plt.scatter(nonorg.loc[nonorg['crop_list'] == i,['Band2thirdquart']],nonorg.loc[nonorg['crop_list'] == i,['Band2mean']],color = j)"
   ]
  }
 ],
 "metadata": {
  "kernelspec": {
   "display_name": "Python 3",
   "language": "python",
   "name": "python3"
  },
  "language_info": {
   "codemirror_mode": {
    "name": "ipython",
    "version": 3
   },
   "file_extension": ".py",
   "mimetype": "text/x-python",
   "name": "python",
   "nbconvert_exporter": "python",
   "pygments_lexer": "ipython3",
   "version": "3.6.5"
  }
 },
 "nbformat": 4,
 "nbformat_minor": 2
}
