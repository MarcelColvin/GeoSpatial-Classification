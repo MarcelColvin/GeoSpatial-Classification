{
 "cells": [
  {
   "cell_type": "code",
   "execution_count": 5,
   "metadata": {},
   "outputs": [
    {
     "name": "stdout",
     "output_type": "stream",
     "text": [
      "/shared\n"
     ]
    }
   ],
   "source": [
    "%cd home/rus/Desktop/shared/"
   ]
  },
  {
   "cell_type": "code",
   "execution_count": 6,
   "metadata": {},
   "outputs": [],
   "source": [
    "import os"
   ]
  },
  {
   "cell_type": "code",
   "execution_count": 40,
   "metadata": {},
   "outputs": [
    {
     "name": "stdout",
     "output_type": "stream",
     "text": [
      "/shared/Band4\n"
     ]
    }
   ],
   "source": [
    "%cd /home/rus/Desktop/shared/Band4/"
   ]
  },
  {
   "cell_type": "code",
   "execution_count": 30,
   "metadata": {},
   "outputs": [],
   "source": [
    "def gdalwarper(i):\n",
    "    'Function to merge Yolo county bounds'\n",
    "    jpegs = os.listdir()\n",
    "    command = 'gdalwarp ' + jpegs[0] + ' ' + jpegs[1] +' '  + 'band.jp2'\n",
    "    os.system(command)\n",
    "    command2 = 'gdalwarp '  + jpegs[2] + ' ' + 'band.jp2' + ' band' + str(i) +'.jp2'\n",
    "    print('we made it here')\n",
    "    print(command2)\n",
    "    os.system(command2)\n",
    "    'are we working yet?'"
   ]
  },
  {
   "cell_type": "code",
   "execution_count": 47,
   "metadata": {},
   "outputs": [
    {
     "name": "stdout",
     "output_type": "stream",
     "text": [
      "/shared\n",
      "/shared/Band10\n",
      "we made it here\n",
      "gdalwarp FH_B10.jp2 band.jp2 band10.jp2\n"
     ]
    }
   ],
   "source": [
    "%cd ..\n",
    "%cd Band10\n",
    "gdalwarper(10)"
   ]
  },
  {
   "cell_type": "code",
   "execution_count": 35,
   "metadata": {},
   "outputs": [
    {
     "name": "stdout",
     "output_type": "stream",
     "text": [
      "\u001b[0m\u001b[01;34mbin\u001b[0m/   \u001b[01;34metc\u001b[0m/   \u001b[01;34mlib64\u001b[0m/  \u001b[01;34mopt\u001b[0m/   \u001b[01;34mrun\u001b[0m/     \u001b[01;34msrv\u001b[0m/             \u001b[30;42mtmp\u001b[0m/\r\n",
      "\u001b[01;34mboot\u001b[0m/  \u001b[01;34mhome\u001b[0m/  \u001b[01;34mmedia\u001b[0m/  \u001b[01;34mproc\u001b[0m/  \u001b[01;34msbin\u001b[0m/    supervisord.pid  \u001b[01;34musr\u001b[0m/\r\n",
      "\u001b[01;34mdev\u001b[0m/   \u001b[01;34mlib\u001b[0m/   \u001b[01;34mmnt\u001b[0m/    \u001b[01;34mroot\u001b[0m/  \u001b[34;42mshared\u001b[0m/  \u001b[01;34msys\u001b[0m/             \u001b[01;34mvar\u001b[0m/\r\n"
     ]
    }
   ],
   "source": []
  }
 ],
 "metadata": {
  "kernelspec": {
   "display_name": "Python 3",
   "language": "python",
   "name": "python3"
  },
  "language_info": {
   "codemirror_mode": {
    "name": "ipython",
    "version": 3
   },
   "file_extension": ".py",
   "mimetype": "text/x-python",
   "name": "python",
   "nbconvert_exporter": "python",
   "pygments_lexer": "ipython3",
   "version": "3.5.2"
  }
 },
 "nbformat": 4,
 "nbformat_minor": 2
}
