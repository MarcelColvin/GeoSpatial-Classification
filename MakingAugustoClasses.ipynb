{
 "cells": [
  {
   "cell_type": "code",
   "execution_count": 1,
   "metadata": {},
   "outputs": [],
   "source": [
    "import pandas as pd\n",
    "from sklearn.model_selection import train_test_split\n",
    "from sklearn import svm\n",
    "from sklearn import tree\n",
    "import numpy as np\n",
    "from sklearn.metrics import confusion_matrix"
   ]
  },
  {
   "cell_type": "code",
   "execution_count": 4,
   "metadata": {},
   "outputs": [
    {
     "name": "stderr",
     "output_type": "stream",
     "text": [
      "/Users/ryanbrady/anaconda3/lib/python3.6/site-packages/IPython/core/interactiveshell.py:2728: DtypeWarning: Columns (84) have mixed types. Specify dtype option on import or set low_memory=False.\n",
      "  interactivity=interactivity, compiler=compiler, result=result)\n"
     ]
    }
   ],
   "source": [
    "Crops = pd.read_csv('Data/Agosto.csv').iloc[:,1:]\n"
   ]
  },
  {
   "cell_type": "code",
   "execution_count": 7,
   "metadata": {},
   "outputs": [],
   "source": [
    "Crops['crop_list']\n",
    "Active = Crops[Crops['is_active'] == 1]"
   ]
  },
  {
   "cell_type": "code",
   "execution_count": 7,
   "metadata": {},
   "outputs": [],
   "source": [
    "fullyactive = Active.drop(Active[Active['crop_list'].str.contains('UNCULTIVATED') ].index)\n",
    "\n",
    "\n",
    "nona = fullyactive.iloc[:,1:61].dropna()"
   ]
  },
  {
   "cell_type": "markdown",
   "metadata": {},
   "source": [
    "# dont' RUN FROM HERE TO "
   ]
  },
  {
   "cell_type": "code",
   "execution_count": 227,
   "metadata": {},
   "outputs": [],
   "source": [
    "Unsurestatus = Active[Active['crop_list'].str.contains('UNCULTIVATED')]"
   ]
  },
  {
   "cell_type": "code",
   "execution_count": 335,
   "metadata": {},
   "outputs": [],
   "source": [
    "Uncultivated = Active[Active['crop_list'] == 'UNCULTIVATED AG']"
   ]
  },
  {
   "cell_type": "code",
   "execution_count": 369,
   "metadata": {},
   "outputs": [],
   "source": [
    "letstrain = pd.concat([unknowns,Uncultivated])\n",
    "fullx = letstrain.iloc[:,1:61].dropna()\n",
    "fully = letstrain.loc[fullx.index,'is_active']"
   ]
  },
  {
   "cell_type": "code",
   "execution_count": 370,
   "metadata": {},
   "outputs": [
    {
     "data": {
      "text/plain": [
       "array([0, 0, 0, ..., 1, 1, 1])"
      ]
     },
     "execution_count": 370,
     "metadata": {},
     "output_type": "execute_result"
    }
   ],
   "source": [
    "fully = np.where(letstrain.loc[fullx.index,'crop_list'].str.contains('Unknown'),0,1)\n",
    "fully"
   ]
  },
  {
   "cell_type": "code",
   "execution_count": 5,
   "metadata": {},
   "outputs": [],
   "source": [
    "from sklearn.metrics import confusion_matrix"
   ]
  },
  {
   "cell_type": "code",
   "execution_count": 292,
   "metadata": {},
   "outputs": [],
   "source": [
    "tn, fp, fn, tp = confusion_matrix(Y_test,Y_pred).ravel()"
   ]
  },
  {
   "cell_type": "code",
   "execution_count": 935,
   "metadata": {},
   "outputs": [
    {
     "data": {
      "text/plain": [
       "(300, 53, 45, 2500)"
      ]
     },
     "execution_count": 935,
     "metadata": {},
     "output_type": "execute_result"
    }
   ],
   "source": [
    "(tn,fp,fn,tp)\n"
   ]
  },
  {
   "cell_type": "code",
   "execution_count": 299,
   "metadata": {},
   "outputs": [],
   "source": [
    "\n",
    "testingdf = Unsurestatus.iloc[:,1:61].dropna()\n",
    "\n",
    "preds = clf.predict(Unsurestatus.iloc[:,1:61].dropna())\n",
    "\n",
    "\n",
    "\n",
    "\n",
    "\n"
   ]
  },
  {
   "cell_type": "code",
   "execution_count": 300,
   "metadata": {},
   "outputs": [],
   "source": [
    "unsurepreds = Unsurestatus.loc[testingdf.index,:]"
   ]
  },
  {
   "cell_type": "code",
   "execution_count": 878,
   "metadata": {},
   "outputs": [
    {
     "data": {
      "text/plain": [
       "{'ALFALFA',\n",
       " 'ALFALFA GRASS M',\n",
       " 'ALFALFA, SAFFLOWER',\n",
       " 'ALFALFA, WHEAT',\n",
       " 'ALMOND',\n",
       " 'ALMOND, APRICOT, CHERRY, NECTARINE, PEACH, PRUNE',\n",
       " 'ALMOND, BEEHIVE',\n",
       " 'ALMOND, FORAGE HAY/SLGE',\n",
       " 'APPLE',\n",
       " 'APPLE, APRICOT, CHERRY, PEACH',\n",
       " 'APRICOT',\n",
       " 'APRICOT, CHERRY, PEACH',\n",
       " 'APRICOT, NECTARINE, PEACH',\n",
       " 'BARLEY',\n",
       " 'BEAN DRIED',\n",
       " 'BEAN DRIED, WHEAT',\n",
       " 'BEEHIVE',\n",
       " 'BEEHIVE, UNCUL NON-AG',\n",
       " 'BLACKBERRY',\n",
       " 'BLUEBERRY',\n",
       " 'BROCCOLI, MELON',\n",
       " 'CABBAGE SEED, ONION SEED, CARROT SEED',\n",
       " 'CANTALOUPE',\n",
       " 'CHERRY',\n",
       " 'CHESTNUT',\n",
       " 'CITRUS',\n",
       " 'COMM. FUMIGATN',\n",
       " 'CORN FOR/FOD',\n",
       " 'CORN SEED, SAFFLOWER SEED',\n",
       " 'CORN, HUMAN CON',\n",
       " 'CUCUMBER',\n",
       " 'CUCUMBER SEED',\n",
       " 'DITCH, BANK',\n",
       " 'FIG',\n",
       " 'FORAGE HAY/SLGE',\n",
       " 'FRUIT, BERRY',\n",
       " 'FRUIT, BERRY, CHERRY, POMEGRANATE',\n",
       " 'FUMIGATN, OTHER',\n",
       " 'GARBANZO BEAN',\n",
       " 'GP-FLWRNG PLANT',\n",
       " 'GRAPE',\n",
       " 'GRAPE, WINE',\n",
       " 'GRASS SEED, UNCUL NON-AG',\n",
       " 'HEMP/CANNABIS',\n",
       " 'HOPS',\n",
       " 'INDUSTRIAL SITE',\n",
       " 'KIWI',\n",
       " 'LANDSCAPE MAIN',\n",
       " 'MELON SEED',\n",
       " 'N-GRNHS PLANT',\n",
       " 'N-GRNHS TRANSPL',\n",
       " 'N-OUTDR FLOWERS, CORN, HUMAN CON',\n",
       " 'N-OUTDR PLANTS',\n",
       " 'NUTS',\n",
       " 'OAT FOR/FOD',\n",
       " 'OAT FOR/FOD, ALFALFA',\n",
       " 'OAT FOR/FOD, RYEGRAS FOR/FOD',\n",
       " 'OAT SEED',\n",
       " 'OF-FLOWER SEED, GRASS SEED, UNCUL NON-AG',\n",
       " 'OF-FLWRNG PLANT',\n",
       " 'OF-FLWRNG PLANT, STONE FRUIT, OLIVE, GRAPE, WINE',\n",
       " 'OLIVE',\n",
       " 'ONION DRY ETC',\n",
       " 'ONION SEED',\n",
       " 'OP-TURF',\n",
       " 'ORANGE',\n",
       " 'ORCHARDGRASS',\n",
       " 'ORG ALFALFA',\n",
       " 'ORG ALFALFA, ORG WHEAT',\n",
       " 'ORG ALMOND',\n",
       " 'ORG APPLE',\n",
       " 'ORG APPLE, ORG APRICOT, ORG BLACKBERRY',\n",
       " 'ORG APRICOT',\n",
       " 'ORG ASPARAGUS',\n",
       " 'ORG ASPARAGUS, ORG MELON, ORG VEGETABLE',\n",
       " 'ORG ASPARAGUS, ORG TOMATO',\n",
       " 'ORG ASPARAGUS, ORG VEGETBLE FRTNG',\n",
       " 'ORG BARLEY, ORG TOMATO',\n",
       " 'ORG BEET, ORG BROCCOLI, ORG ONION DRY',\n",
       " 'ORG CARROT',\n",
       " 'ORG CAULIFLOWER, ORG CITRUS, ORG PLUM, ORG SQUASH SUMMER, ORG STONE FRUIT',\n",
       " 'ORG CITRUS',\n",
       " 'ORG CITRUS, ORG FIG, ORG PISTACHIO, ORG STONE FRUIT',\n",
       " 'ORG CORN FOR FOD',\n",
       " 'ORG FIG',\n",
       " 'ORG GRAPE',\n",
       " 'ORG GRAPE, WINE',\n",
       " 'ORG MELON',\n",
       " 'ORG MELON, ORG PASTURELAND, ORG STRAWBERRY, ORG TOMATO, ORG VEGETABLE, ORG VEGETBLE FRTNG',\n",
       " 'ORG NECTARINE',\n",
       " 'ORG OAT FOR/FOD',\n",
       " 'ORG OAT FOR/FOD, ORG WHEAT',\n",
       " 'ORG OLIVE',\n",
       " 'ORG ONION DRY, ORG VEGETBLE FRTNG',\n",
       " 'ORG ORANGE',\n",
       " 'ORG PASTURELAND',\n",
       " 'ORG PEACH',\n",
       " 'ORG PEAR',\n",
       " 'ORG PECAN',\n",
       " 'ORG PEPPER FRUITING, ORG BEAN UNSP, ORG BEET, ORG CARROT, ORG CUCUMBER, ORG DAIKON, ORG GARLIC, ORG KALE, ORG LETTUCE LEAF, ORG MELON, ORG MUSTARD, ORG ONION DRY, ORG PEAS, ORG PUMPKIN, ORG RADISH, ORG SPICE/HERB, ORG SQUASH, ORG SQUASH WINTER, ORG TOMAT',\n",
       " 'ORG POMEGRANATE',\n",
       " 'ORG RICE',\n",
       " 'ORG RYEGRASS FOR',\n",
       " 'ORG SAFFLOWER',\n",
       " 'ORG SQUASH',\n",
       " 'ORG SQUASH SUMMER',\n",
       " 'ORG SQUASH WINTER',\n",
       " 'ORG STONE FRUIT',\n",
       " 'ORG SUNFLOWER SEED, ORG TOMATO PROCESSING',\n",
       " 'ORG TOMATO',\n",
       " 'ORG TOMATO PROCESSING',\n",
       " 'ORG VEGETABLE',\n",
       " 'ORG VEGETABLE LEAF',\n",
       " 'ORG VEGETABLE LEAF, ORG VEGETBLE FRTNG',\n",
       " 'ORG VEGETBLE FRTNG',\n",
       " 'ORG VETCH',\n",
       " 'ORG WALNUT',\n",
       " 'ORG WATERMELON',\n",
       " 'ORG WHEAT',\n",
       " 'ORG-N-GRNHS TRANSPT',\n",
       " 'ORG-Rangeland',\n",
       " 'OT-DEC. TREE',\n",
       " 'OT-ROSE',\n",
       " 'OT-ROSE, GRAPE',\n",
       " 'OT-TURF',\n",
       " 'OT-VINE',\n",
       " 'PASTURELAND',\n",
       " 'PEACH',\n",
       " 'PEAR',\n",
       " 'PECAN',\n",
       " 'PEPPER FRUIT SD',\n",
       " 'PERSIMMON',\n",
       " 'PISTACHIO',\n",
       " 'PLUM',\n",
       " 'POME FRUIT, STONE FRUIT',\n",
       " 'POMEGRANATE',\n",
       " 'PRUNE',\n",
       " 'PUMPKIN',\n",
       " 'PUMPKIN SEED',\n",
       " 'PUMPKIN, CORN, HUMAN CON',\n",
       " 'RANGELAND',\n",
       " 'RANGELAND, UNCUL NON-AG',\n",
       " 'RECREATION AREA',\n",
       " 'RESEARCH COMMOD',\n",
       " 'RESEARCH/PARK',\n",
       " 'RICE',\n",
       " 'RIGHTS OF WAY',\n",
       " 'RYE, WHEAT',\n",
       " 'RYEGRAS FOR/FOD',\n",
       " 'Rotational Crops',\n",
       " 'SAFFLOWER',\n",
       " 'SAFFLOWER SEED',\n",
       " 'SAFFLOWER, WHEAT',\n",
       " 'SOIL FUM/PREPLT',\n",
       " 'SORGHUM MILO',\n",
       " 'SOYBEAN SEED',\n",
       " 'SQUASH',\n",
       " 'SQUASH SEED',\n",
       " 'SQUASH, BEAN DRIED',\n",
       " 'STONE FRUIT',\n",
       " 'STRAWBERRY',\n",
       " 'SUDANGRASS',\n",
       " 'SUNFLOWER SEED',\n",
       " 'TOMATO',\n",
       " 'TOMATO PROCESS',\n",
       " 'TRITICALE',\n",
       " 'TURF/SOD',\n",
       " 'UNCUL NON-AG',\n",
       " 'Unknown',\n",
       " 'VEGETABLE',\n",
       " 'VEGETABLE FRTG',\n",
       " 'VEGETABLE FRTG, COLE CROP',\n",
       " 'WALNUT',\n",
       " 'WALNUT, BEAN DRIED',\n",
       " 'WALNUT, OAT FOR/FOD',\n",
       " 'WALNUT, PASTURELAND',\n",
       " 'WATERMELON',\n",
       " 'WATERMELON SEED',\n",
       " 'WATERMELON, CORN, HUMAN CON',\n",
       " 'WHEAT',\n",
       " 'WHEAT FOR/FOD',\n",
       " 'WILD RICE'}"
      ]
     },
     "execution_count": 878,
     "metadata": {},
     "output_type": "execute_result"
    }
   ],
   "source": [
    "#unsurepreds[unsurepreds['isactiveimpute'] == 0][['crop_list','OBJECTID']]\n",
    "\n",
    "\n",
    "set(fullyactive.crop_list)"
   ]
  },
  {
   "cell_type": "code",
   "execution_count": 535,
   "metadata": {},
   "outputs": [
    {
     "data": {
      "text/plain": [
       "0.8685121107266436"
      ]
     },
     "execution_count": 535,
     "metadata": {},
     "output_type": "execute_result"
    }
   ],
   "source": [
    "#CbandDensity= pd.read_csv('ColorbandsDF.csv',)\n",
    "nonones = CbandDensity[pd.notna(CbandDensity['crop_list'])]\n",
    "#hold = pd.DataFrame(['UNCULTIVATED' in i for i in nonones.crop_list ],index=nonones.index)\n",
    "\n",
    "\n",
    "tomatoandalfalfa = fullyactive[fullyactive.crop_list.str.contains('ALMOND') | fullyactive.crop_list.str.contains('WALNUT')] \n",
    "colorbands = tomatoandalfalfa.iloc[:,:61]\n",
    "colorbands['crop_list'] = tomatoandalfalfa.crop_list\n",
    "colorbands.loc[colorbands.crop_list.str.contains('ALMOND'),'crop_list']  = 'ALMOND'\n",
    "nona= colorbands.dropna()\n",
    "fullx = nona.iloc[:,1:-1]\n",
    "fully = np.where(colorbands['crop_list'] == 'ALMOND',0,1)\n",
    "X_train, X_test, Y_train, Y_test = train_test_split(fullx,fully,test_size = .4)\n",
    "clfs = LogisticRegression()\n",
    "clfs.fit(X_train,Y_train)\n",
    "sv = clfs.predict(X_test)\n",
    "clfs.score(X_test,Y_test)"
   ]
  },
  {
   "cell_type": "code",
   "execution_count": 521,
   "metadata": {},
   "outputs": [
    {
     "data": {
      "text/plain": [
       "59"
      ]
     },
     "execution_count": 521,
     "metadata": {},
     "output_type": "execute_result"
    }
   ],
   "source": [
    "clfs.coef_.argmax()"
   ]
  },
  {
   "cell_type": "code",
   "execution_count": 522,
   "metadata": {},
   "outputs": [
    {
     "data": {
      "text/plain": [
       "'Band10firstquart'"
      ]
     },
     "execution_count": 522,
     "metadata": {},
     "output_type": "execute_result"
    }
   ],
   "source": [
    "X_test.columns[59]"
   ]
  },
  {
   "cell_type": "code",
   "execution_count": 447,
   "metadata": {},
   "outputs": [
    {
     "name": "stdout",
     "output_type": "stream",
     "text": [
      "0 0.0025749447329205854\n",
      "1 0.003997120152933425\n"
     ]
    }
   ],
   "source": [
    "j = 0\n",
    "for i in clfs.coef_[0]:\n",
    "    \n",
    "    print(j,i)\n",
    "    j +=1"
   ]
  },
  {
   "cell_type": "code",
   "execution_count": 34,
   "metadata": {},
   "outputs": [
    {
     "name": "stderr",
     "output_type": "stream",
     "text": [
      "/Users/ryanbrady/anaconda3/lib/python3.6/site-packages/pandas/core/indexing.py:537: SettingWithCopyWarning: \n",
      "A value is trying to be set on a copy of a slice from a DataFrame.\n",
      "Try using .loc[row_indexer,col_indexer] = value instead\n",
      "\n",
      "See the caveats in the documentation: http://pandas.pydata.org/pandas-docs/stable/indexing.html#indexing-view-versus-copy\n",
      "  self.obj[item] = s\n"
     ]
    }
   ],
   "source": [
    "nonones.loc[nonones['crop_list'].str.contains('UNCULTIVATED'),'crop_list'] = 'UNCULTIVATED'"
   ]
  },
  {
   "cell_type": "code",
   "execution_count": 219,
   "metadata": {
    "scrolled": true
   },
   "outputs": [
    {
     "data": {
      "text/plain": [
       "0.9658385093167702"
      ]
     },
     "execution_count": 219,
     "metadata": {},
     "output_type": "execute_result"
    }
   ],
   "source": [
    "from sklearn.ensemble import ExtraTreesClassifier\n",
    "X_train, X_test, Y_train, Y_test = train_test_split(fullx,fully,test_size = .4)\n",
    "clf = ExtraTreesClassifier()\n",
    "clf.fit(X_train,Y_train)\n",
    "clf.score(X_test,Y_test)"
   ]
  },
  {
   "cell_type": "code",
   "execution_count": 552,
   "metadata": {},
   "outputs": [],
   "source": [
    "tomats = Active[Active.crop_list.str.contains('TOMATO')]"
   ]
  },
  {
   "cell_type": "code",
   "execution_count": null,
   "metadata": {},
   "outputs": [],
   "source": []
  },
  {
   "cell_type": "markdown",
   "metadata": {},
   "source": [
    "# TO HERE"
   ]
  },
  {
   "cell_type": "code",
   "execution_count": 8,
   "metadata": {},
   "outputs": [],
   "source": [
    "lottacrop = Active[Active.crop_list.str.contains('OAT')|Active.crop_list.str.contains('SUNFLOWER')  | Active.crop_list.str.contains('ALMOND') | Active.crop_list.str.contains('GRAPE') | Active.crop_list.str.contains('WALNUT') |Active.crop_list.str.contains('RICE') | Active.crop_list.str.contains('ALFALFA')| Active.crop_list.str.contains('ALFALFA') | Active.crop_list.str.contains('CORN')| Active.crop_list.str.contains('WHEAT')| Active.crop_list.str.contains('TOMATO')  | Active.crop_list.str.contains('SAFFLOWER')]\n",
    "\n",
    "\n",
    "\n",
    "\n"
   ]
  },
  {
   "cell_type": "code",
   "execution_count": 9,
   "metadata": {},
   "outputs": [],
   "source": [
    "nonorg = lottacrop.drop(lottacrop.crop_list[lottacrop.crop_list.str.contains('ORG')].index)"
   ]
  },
  {
   "cell_type": "code",
   "execution_count": 10,
   "metadata": {},
   "outputs": [
    {
     "name": "stderr",
     "output_type": "stream",
     "text": [
      "/Users/ryanbrady/anaconda3/lib/python3.6/site-packages/ipykernel_launcher.py:1: SettingWithCopyWarning: \n",
      "A value is trying to be set on a copy of a slice from a DataFrame\n",
      "\n",
      "See the caveats in the documentation: http://pandas.pydata.org/pandas-docs/stable/indexing.html#indexing-view-versus-copy\n",
      "  \"\"\"Entry point for launching an IPython kernel.\n",
      "/Users/ryanbrady/anaconda3/lib/python3.6/site-packages/pandas/core/generic.py:5984: SettingWithCopyWarning: \n",
      "A value is trying to be set on a copy of a slice from a DataFrame\n",
      "\n",
      "See the caveats in the documentation: http://pandas.pydata.org/pandas-docs/stable/indexing.html#indexing-view-versus-copy\n",
      "  self._update_inplace(new_data)\n",
      "/Users/ryanbrady/anaconda3/lib/python3.6/site-packages/IPython/core/interactiveshell.py:2910: SettingWithCopyWarning: \n",
      "A value is trying to be set on a copy of a slice from a DataFrame\n",
      "\n",
      "See the caveats in the documentation: http://pandas.pydata.org/pandas-docs/stable/indexing.html#indexing-view-versus-copy\n",
      "  exec(code_obj, self.user_global_ns, self.user_ns)\n",
      "/Users/ryanbrady/anaconda3/lib/python3.6/site-packages/ipykernel_launcher.py:2: SettingWithCopyWarning: \n",
      "A value is trying to be set on a copy of a slice from a DataFrame\n",
      "\n",
      "See the caveats in the documentation: http://pandas.pydata.org/pandas-docs/stable/indexing.html#indexing-view-versus-copy\n",
      "  \n",
      "/Users/ryanbrady/anaconda3/lib/python3.6/site-packages/ipykernel_launcher.py:3: SettingWithCopyWarning: \n",
      "A value is trying to be set on a copy of a slice from a DataFrame\n",
      "\n",
      "See the caveats in the documentation: http://pandas.pydata.org/pandas-docs/stable/indexing.html#indexing-view-versus-copy\n",
      "  This is separate from the ipykernel package so we can avoid doing imports until\n",
      "/Users/ryanbrady/anaconda3/lib/python3.6/site-packages/ipykernel_launcher.py:4: SettingWithCopyWarning: \n",
      "A value is trying to be set on a copy of a slice from a DataFrame\n",
      "\n",
      "See the caveats in the documentation: http://pandas.pydata.org/pandas-docs/stable/indexing.html#indexing-view-versus-copy\n",
      "  after removing the cwd from sys.path.\n",
      "/Users/ryanbrady/anaconda3/lib/python3.6/site-packages/ipykernel_launcher.py:5: SettingWithCopyWarning: \n",
      "A value is trying to be set on a copy of a slice from a DataFrame\n",
      "\n",
      "See the caveats in the documentation: http://pandas.pydata.org/pandas-docs/stable/indexing.html#indexing-view-versus-copy\n",
      "  \"\"\"\n",
      "/Users/ryanbrady/anaconda3/lib/python3.6/site-packages/ipykernel_launcher.py:6: SettingWithCopyWarning: \n",
      "A value is trying to be set on a copy of a slice from a DataFrame\n",
      "\n",
      "See the caveats in the documentation: http://pandas.pydata.org/pandas-docs/stable/indexing.html#indexing-view-versus-copy\n",
      "  \n",
      "/Users/ryanbrady/anaconda3/lib/python3.6/site-packages/ipykernel_launcher.py:8: SettingWithCopyWarning: \n",
      "A value is trying to be set on a copy of a slice from a DataFrame\n",
      "\n",
      "See the caveats in the documentation: http://pandas.pydata.org/pandas-docs/stable/indexing.html#indexing-view-versus-copy\n",
      "  \n",
      "/Users/ryanbrady/anaconda3/lib/python3.6/site-packages/ipykernel_launcher.py:10: SettingWithCopyWarning: \n",
      "A value is trying to be set on a copy of a slice from a DataFrame\n",
      "\n",
      "See the caveats in the documentation: http://pandas.pydata.org/pandas-docs/stable/indexing.html#indexing-view-versus-copy\n",
      "  # Remove the CWD from sys.path while we load stuff.\n",
      "/Users/ryanbrady/anaconda3/lib/python3.6/site-packages/ipykernel_launcher.py:11: SettingWithCopyWarning: \n",
      "A value is trying to be set on a copy of a slice from a DataFrame\n",
      "\n",
      "See the caveats in the documentation: http://pandas.pydata.org/pandas-docs/stable/indexing.html#indexing-view-versus-copy\n",
      "  # This is added back by InteractiveShellApp.init_path()\n",
      "/Users/ryanbrady/anaconda3/lib/python3.6/site-packages/ipykernel_launcher.py:12: SettingWithCopyWarning: \n",
      "A value is trying to be set on a copy of a slice from a DataFrame\n",
      "\n",
      "See the caveats in the documentation: http://pandas.pydata.org/pandas-docs/stable/indexing.html#indexing-view-versus-copy\n",
      "  if sys.path[0] == '':\n",
      "/Users/ryanbrady/anaconda3/lib/python3.6/site-packages/ipykernel_launcher.py:14: SettingWithCopyWarning: \n",
      "A value is trying to be set on a copy of a slice from a DataFrame\n",
      "\n",
      "See the caveats in the documentation: http://pandas.pydata.org/pandas-docs/stable/indexing.html#indexing-view-versus-copy\n",
      "  \n"
     ]
    }
   ],
   "source": [
    "lottacrop.crop_list[lottacrop['crop_list'].str.contains('ALMOND')] = 'ALMOND'\n",
    "lottacrop.crop_list[lottacrop['crop_list'].str.contains('GRAPE')] = 'GRAPE'\n",
    "lottacrop.crop_list[lottacrop['crop_list'].str.contains('OAT')] = 'OAT'\n",
    "lottacrop.crop_list[lottacrop['crop_list'].str.contains('RICE')] = 'RICE'\n",
    "lottacrop.crop_list[lottacrop['crop_list'].str.contains('SUNFLOWER')] = 'SUNFLOWER'\n",
    "lottacrop.crop_list[lottacrop['crop_list'].str.contains('WALNUT')] = 'WALNUT'\n",
    "\n",
    "lottacrop.crop_list[lottacrop['crop_list'].str.contains('ALFALFA')] = 'ALFALFA'\n",
    "\n",
    "lottacrop.crop_list[lottacrop['crop_list'].str.contains('CORN')] = 'CORN'\n",
    "lottacrop.crop_list[lottacrop['crop_list'].str.contains('WHEAT')] = 'WHEAT'\n",
    "lottacrop.crop_list[lottacrop['crop_list'].str.contains('TOMATO')] = 'TOMATO'\n",
    "\n",
    "lottacrop.crop_list[lottacrop['crop_list'].str.contains('SAFFLOWER')] = 'SAFFLOWER'\n",
    "\n",
    "\n",
    "\n",
    "\n",
    "\n",
    "\n"
   ]
  },
  {
   "cell_type": "code",
   "execution_count": 11,
   "metadata": {},
   "outputs": [
    {
     "name": "stderr",
     "output_type": "stream",
     "text": [
      "/Users/ryanbrady/anaconda3/lib/python3.6/site-packages/ipykernel_launcher.py:1: SettingWithCopyWarning: \n",
      "A value is trying to be set on a copy of a slice from a DataFrame\n",
      "\n",
      "See the caveats in the documentation: http://pandas.pydata.org/pandas-docs/stable/indexing.html#indexing-view-versus-copy\n",
      "  \"\"\"Entry point for launching an IPython kernel.\n",
      "/Users/ryanbrady/anaconda3/lib/python3.6/site-packages/ipykernel_launcher.py:2: SettingWithCopyWarning: \n",
      "A value is trying to be set on a copy of a slice from a DataFrame\n",
      "\n",
      "See the caveats in the documentation: http://pandas.pydata.org/pandas-docs/stable/indexing.html#indexing-view-versus-copy\n",
      "  \n",
      "/Users/ryanbrady/anaconda3/lib/python3.6/site-packages/ipykernel_launcher.py:3: SettingWithCopyWarning: \n",
      "A value is trying to be set on a copy of a slice from a DataFrame\n",
      "\n",
      "See the caveats in the documentation: http://pandas.pydata.org/pandas-docs/stable/indexing.html#indexing-view-versus-copy\n",
      "  This is separate from the ipykernel package so we can avoid doing imports until\n",
      "/Users/ryanbrady/anaconda3/lib/python3.6/site-packages/ipykernel_launcher.py:4: SettingWithCopyWarning: \n",
      "A value is trying to be set on a copy of a slice from a DataFrame\n",
      "\n",
      "See the caveats in the documentation: http://pandas.pydata.org/pandas-docs/stable/indexing.html#indexing-view-versus-copy\n",
      "  after removing the cwd from sys.path.\n",
      "/Users/ryanbrady/anaconda3/lib/python3.6/site-packages/ipykernel_launcher.py:5: SettingWithCopyWarning: \n",
      "A value is trying to be set on a copy of a slice from a DataFrame\n",
      "\n",
      "See the caveats in the documentation: http://pandas.pydata.org/pandas-docs/stable/indexing.html#indexing-view-versus-copy\n",
      "  \"\"\"\n",
      "/Users/ryanbrady/anaconda3/lib/python3.6/site-packages/ipykernel_launcher.py:6: SettingWithCopyWarning: \n",
      "A value is trying to be set on a copy of a slice from a DataFrame\n",
      "\n",
      "See the caveats in the documentation: http://pandas.pydata.org/pandas-docs/stable/indexing.html#indexing-view-versus-copy\n",
      "  \n",
      "/Users/ryanbrady/anaconda3/lib/python3.6/site-packages/ipykernel_launcher.py:7: SettingWithCopyWarning: \n",
      "A value is trying to be set on a copy of a slice from a DataFrame\n",
      "\n",
      "See the caveats in the documentation: http://pandas.pydata.org/pandas-docs/stable/indexing.html#indexing-view-versus-copy\n",
      "  import sys\n",
      "/Users/ryanbrady/anaconda3/lib/python3.6/site-packages/ipykernel_launcher.py:9: SettingWithCopyWarning: \n",
      "A value is trying to be set on a copy of a slice from a DataFrame\n",
      "\n",
      "See the caveats in the documentation: http://pandas.pydata.org/pandas-docs/stable/indexing.html#indexing-view-versus-copy\n",
      "  if __name__ == '__main__':\n",
      "/Users/ryanbrady/anaconda3/lib/python3.6/site-packages/ipykernel_launcher.py:10: SettingWithCopyWarning: \n",
      "A value is trying to be set on a copy of a slice from a DataFrame\n",
      "\n",
      "See the caveats in the documentation: http://pandas.pydata.org/pandas-docs/stable/indexing.html#indexing-view-versus-copy\n",
      "  # Remove the CWD from sys.path while we load stuff.\n",
      "/Users/ryanbrady/anaconda3/lib/python3.6/site-packages/ipykernel_launcher.py:11: SettingWithCopyWarning: \n",
      "A value is trying to be set on a copy of a slice from a DataFrame\n",
      "\n",
      "See the caveats in the documentation: http://pandas.pydata.org/pandas-docs/stable/indexing.html#indexing-view-versus-copy\n",
      "  # This is added back by InteractiveShellApp.init_path()\n",
      "/Users/ryanbrady/anaconda3/lib/python3.6/site-packages/ipykernel_launcher.py:13: SettingWithCopyWarning: \n",
      "A value is trying to be set on a copy of a slice from a DataFrame\n",
      "\n",
      "See the caveats in the documentation: http://pandas.pydata.org/pandas-docs/stable/indexing.html#indexing-view-versus-copy\n",
      "  del sys.path[0]\n"
     ]
    }
   ],
   "source": [
    "nonorg.crop_list[nonorg['crop_list'].str.contains('ALMOND')] = 'ALMOND'\n",
    "nonorg.crop_list[nonorg['crop_list'].str.contains('GRAPE')] = 'GRAPE'\n",
    "nonorg.crop_list[nonorg['crop_list'].str.contains('OAT')] = 'OAT'\n",
    "nonorg.crop_list[nonorg['crop_list'].str.contains('RICE')] = 'RICE'\n",
    "nonorg.crop_list[nonorg['crop_list'].str.contains('SUNFLOWER')] = 'SUNFLOWER'\n",
    "nonorg.crop_list[nonorg['crop_list'].str.contains('WALNUT')] = 'WALNUT'\n",
    "nonorg.crop_list[nonorg['crop_list'].str.contains('ALFALFA')] = 'ALFALFA'\n",
    "\n",
    "nonorg.crop_list[nonorg['crop_list'].str.contains('CORN')] = 'CORN'\n",
    "nonorg.crop_list[nonorg['crop_list'].str.contains('WHEAT')] = 'WHEAT'\n",
    "nonorg.crop_list[nonorg['crop_list'].str.contains('TOMATO')] = 'TOMATO'\n",
    "\n",
    "nonorg.crop_list[nonorg['crop_list'].str.contains('SAFFLOWER')] = 'SAFFLOWER'\n",
    "\n",
    "\n",
    "\n",
    "\n",
    "\n",
    "\n",
    "\n",
    "\n",
    "\n"
   ]
  },
  {
   "cell_type": "code",
   "execution_count": 12,
   "metadata": {},
   "outputs": [
    {
     "ename": "SyntaxError",
     "evalue": "invalid syntax (<ipython-input-12-786198a09a3c>, line 1)",
     "output_type": "error",
     "traceback": [
      "\u001b[0;36m  File \u001b[0;32m\"<ipython-input-12-786198a09a3c>\"\u001b[0;36m, line \u001b[0;32m1\u001b[0m\n\u001b[0;31m    OAT 338\u001b[0m\n\u001b[0m          ^\u001b[0m\n\u001b[0;31mSyntaxError\u001b[0m\u001b[0;31m:\u001b[0m invalid syntax\n"
     ]
    }
   ],
   "source": [
    "OAT 338\n",
    "SAFFLOWER 348\n",
    "CORN 355\n",
    "WALNUT 600\n",
    "GRAPE 676\n",
    "RICE 773\n",
    "UNKNOWN 1021\n",
    "ALMOND 1099\n",
    "SUNFLOWER SEED 1216\n",
    "WHEAT 1323\n",
    "UNCULTIVATED AG 1444\n",
    "ALFALFA 1541\n",
    "TOMATO PROCESS 1702"
   ]
  },
  {
   "cell_type": "code",
   "execution_count": 62,
   "metadata": {},
   "outputs": [
    {
     "name": "stderr",
     "output_type": "stream",
     "text": [
      "/Users/ryanbrady/anaconda3/lib/python3.6/site-packages/ipykernel_launcher.py:2: SettingWithCopyWarning: \n",
      "A value is trying to be set on a copy of a slice from a DataFrame.\n",
      "Try using .loc[row_indexer,col_indexer] = value instead\n",
      "\n",
      "See the caveats in the documentation: http://pandas.pydata.org/pandas-docs/stable/indexing.html#indexing-view-versus-copy\n",
      "  \n"
     ]
    }
   ],
   "source": [
    "nonorg['code'] = nonorg.crop_list.astype('category').cat.codes\n",
    "lottacrop['code'] = lottacrop.crop_list.astype('category').cat.codes"
   ]
  },
  {
   "cell_type": "code",
   "execution_count": 63,
   "metadata": {},
   "outputs": [],
   "source": [
    "firstx = lottacrop.iloc[:,1:61].dropna()\n",
    "secondx = lottacrop.iloc[:,85:-1].dropna()"
   ]
  },
  {
   "cell_type": "markdown",
   "metadata": {},
   "source": [
    "## Marcel Look Here for stuff"
   ]
  },
  {
   "cell_type": "code",
   "execution_count": 78,
   "metadata": {},
   "outputs": [],
   "source": [
    "fullx = firstx.join(secondx).dropna()\n",
    "fully = lottacrop.loc[fullx.index,'code']\n",
    "fully.shape\n",
    "X_train, X_test, Y_train, Y_test = train_test_split(fullx,fully,test_size = .4)"
   ]
  },
  {
   "cell_type": "code",
   "execution_count": 69,
   "metadata": {},
   "outputs": [
    {
     "data": {
      "text/plain": [
       "2         9.0\n",
       "4         6.0\n",
       "6         9.0\n",
       "9         0.0\n",
       "10        0.0\n",
       "11        0.0\n",
       "12       10.0\n",
       "13        4.0\n",
       "14        4.0\n",
       "15        0.0\n",
       "16        3.0\n",
       "17        0.0\n",
       "18        0.0\n",
       "19        0.0\n",
       "20        4.0\n",
       "21        0.0\n",
       "22        0.0\n",
       "23        0.0\n",
       "24        0.0\n",
       "25        0.0\n",
       "26        6.0\n",
       "27        6.0\n",
       "28        1.0\n",
       "29       10.0\n",
       "30       10.0\n",
       "31        7.0\n",
       "32        8.0\n",
       "33        1.0\n",
       "34        8.0\n",
       "35        8.0\n",
       "         ... \n",
       "15111     7.0\n",
       "15113     7.0\n",
       "15114     7.0\n",
       "15115     6.0\n",
       "15116    10.0\n",
       "15117     0.0\n",
       "15121    10.0\n",
       "15122    10.0\n",
       "15124    10.0\n",
       "15125     0.0\n",
       "15126     0.0\n",
       "15127     0.0\n",
       "15128     0.0\n",
       "15129     0.0\n",
       "15130     2.0\n",
       "15131    10.0\n",
       "15133     8.0\n",
       "15134     7.0\n",
       "15135     1.0\n",
       "15136     8.0\n",
       "15137     7.0\n",
       "15138    10.0\n",
       "15140     1.0\n",
       "15142     7.0\n",
       "15143     1.0\n",
       "15144     8.0\n",
       "15146     7.0\n",
       "15147    10.0\n",
       "15148     8.0\n",
       "15149    10.0\n",
       "Name: code, Length: 10358, dtype: float64"
      ]
     },
     "execution_count": 69,
     "metadata": {},
     "output_type": "execute_result"
    }
   ],
   "source": [
    "fully"
   ]
  },
  {
   "cell_type": "code",
   "execution_count": 66,
   "metadata": {},
   "outputs": [
    {
     "data": {
      "text/plain": [
       "{'ALFALFA': 0,\n",
       " 'ALMOND': 1,\n",
       " 'Corn': 2,\n",
       " 'GRAPE': 3,\n",
       " 'OAT': 4,\n",
       " 'RICE': 5,\n",
       " 'WALNUT': 9,\n",
       " 'WHEAT': 10}"
      ]
     },
     "execution_count": 66,
     "metadata": {},
     "output_type": "execute_result"
    }
   ],
   "source": [
    "nonorg[['crop_list','code']][nonorg['crop_list'] != 0]\n",
    "\n",
    "{\"WALNUT\":9,\"ALFALFA\":0,\"OAT\":4,\"GRAPE\":3,\"ALMOND\":1,\"WHEAT\":10,\"RICE\":5,\"Corn\":2,}\n",
    "\n"
   ]
  },
  {
   "cell_type": "code",
   "execution_count": 79,
   "metadata": {},
   "outputs": [],
   "source": [
    "from sklearn.multiclass import OneVsOneClassifier\n",
    "from sklearn.svm import LinearSVC\n",
    "from sklearn.neighbors.nearest_centroid import NearestCentroid\n",
    "from sklearn.neighbors import RadiusNeighborsClassifier\n",
    "from sklearn.ensemble import RandomForestClassifier\n",
    "from sklearn.ensemble import ExtraTreesClassifier\n",
    "\n",
    "\n",
    "from sklearn.tree import DecisionTreeClassifier\n",
    "\n",
    "import numpy as np\n",
    "import matplotlib.pyplot as plt\n",
    "from matplotlib.colors import ListedColormap\n",
    "from sklearn import neighbors, datasets\n",
    "n_neighbors = 25\n",
    "\n",
    "RFC = RandomForestClassifier()\n",
    "DTC = DecisionTreeClassifier\n",
    "extra = ExtraTreesClassifier()\n",
    "\n",
    "\n",
    "clf = neighbors.KNeighborsClassifier(n_neighbors, weights='distance',algorithm='ball_tree')\n",
    "clf.fit(X_train, Y_train)\n",
    "neigh = RadiusNeighborsClassifier(radius=3000.0)\n",
    "RFF = RadiusNeighborsClassifier()\n",
    "extra.fit(X_train,Y_train)\n",
    "#DTC.fit(X_train,Y_train)\n",
    "RFC.fit(X_train,Y_train)\n",
    "tester = OneVsOneClassifier(LinearSVC(random_state=0)).fit(X_train, Y_train)"
   ]
  },
  {
   "cell_type": "code",
   "execution_count": 80,
   "metadata": {},
   "outputs": [
    {
     "name": "stdout",
     "output_type": "stream",
     "text": [
      "0.7333494208494209\n",
      "0.867519305019305\n",
      "0.8812741312741312\n",
      "0.8832046332046332\n"
     ]
    }
   ],
   "source": [
    "preds = tester.predict(X_test)\n",
    "\n",
    "print(tester.score(X_test,Y_test))\n",
    "print(clf.score(X_test,Y_test))\n",
    "print(extra.score(X_test,Y_test))\n",
    "#print(DTC.score(X_test,Y_test))\n",
    "print(RFC.score(X_test,Y_test))\n",
    "\n"
   ]
  },
  {
   "cell_type": "code",
   "execution_count": 50,
   "metadata": {},
   "outputs": [
    {
     "data": {
      "text/plain": [
       "array([[590,  10,   0,   5,   2,   0,   1,   1,  15,   0,   7],\n",
       "       [  1, 404,   1,  10,   7,   0,   0,   5,   1,   4,  15],\n",
       "       [  2,   1, 107,   1,   0,   0,   0,   5,   7,   0,   5],\n",
       "       [  5,  20,   0, 208,   3,   0,   1,   4,   0,   1,   8],\n",
       "       [  2,  18,   0,   2,  96,   0,   0,   0,   2,   0,  20],\n",
       "       [  6,   0,   0,   0,   0, 309,   3,   2,   0,   4,   4],\n",
       "       [  9,   2,   3,   1,   1,   1, 107,   1,   7,   0,   8],\n",
       "       [  9,   7,   8,   2,   0,   3,   4, 420,  21,   0,   3],\n",
       "       [  6,   1,   3,   0,   0,   4,   0,  32, 625,   0,   3],\n",
       "       [  6,  42,   0,  10,   0,   0,   0,   2,   0, 173,   2],\n",
       "       [  8,   6,   1,   1,   7,   0,   6,   3,  18,   0, 499]])"
      ]
     },
     "execution_count": 50,
     "metadata": {},
     "output_type": "execute_result"
    }
   ],
   "source": [
    "confusion_matrix(Y_test,clf.predict(X_test))\n"
   ]
  },
  {
   "cell_type": "code",
   "execution_count": 81,
   "metadata": {},
   "outputs": [
    {
     "data": {
      "text/plain": [
       "array([[560,  12,   0,   6,   7,   0,   4,   2,  17,   0,   6],\n",
       "       [  3, 366,   1,  15,   5,   0,   0,   2,   2,   8,  13],\n",
       "       [  2,   5, 126,   2,   3,   1,   6,   2,  14,   0,   7],\n",
       "       [  4,  26,   0, 224,   1,   0,   0,   0,   3,   3,   5],\n",
       "       [  7,  12,   0,   2,  96,   2,   2,   0,   0,   0,  22],\n",
       "       [  7,   1,   0,   2,   0, 301,   4,   5,   3,   0,   3],\n",
       "       [  7,   2,   3,   3,   1,   0, 126,   1,  12,   0,  14],\n",
       "       [ 10,   7,   7,   0,   1,   4,   4, 414,  28,   1,   3],\n",
       "       [ 21,   2,  10,   1,   0,   0,   0,  34, 689,   0,   6],\n",
       "       [  4,  29,   0,  12,   0,   0,   0,   3,   1, 177,   3],\n",
       "       [ 12,   9,   1,   3,   6,   0,   6,   3,  16,   0, 516]])"
      ]
     },
     "execution_count": 81,
     "metadata": {},
     "output_type": "execute_result"
    }
   ],
   "source": [
    "confusion_matrix(Y_test,clf.predict(X_test))\n",
    "\n"
   ]
  },
  {
   "cell_type": "code",
   "execution_count": 82,
   "metadata": {},
   "outputs": [
    {
     "data": {
      "text/plain": [
       "array([6.61349101, 6.38744273, 5.45203446, 5.94954304, 5.26319798,\n",
       "       5.84725872, 5.42764431, 6.45612655, 6.80169754, 5.8066953 ,\n",
       "       6.51216596])"
      ]
     },
     "execution_count": 82,
     "metadata": {},
     "output_type": "execute_result"
    }
   ],
   "source": [
    "import scipy as sc\n",
    "entropy=sc.stats.entropy(extra.predict_proba(X_test))\n",
    "entropy"
   ]
  },
  {
   "cell_type": "code",
   "execution_count": 20,
   "metadata": {},
   "outputs": [
    {
     "name": "stderr",
     "output_type": "stream",
     "text": [
      "/home/marcel/anaconda3/lib/python3.6/site-packages/ipykernel_launcher.py:1: SettingWithCopyWarning: \n",
      "A value is trying to be set on a copy of a slice from a DataFrame.\n",
      "Try using .loc[row_indexer,col_indexer] = value instead\n",
      "\n",
      "See the caveats in the documentation: http://pandas.pydata.org/pandas-docs/stable/indexing.html#indexing-view-versus-copy\n",
      "  \"\"\"Entry point for launching an IPython kernel.\n"
     ]
    }
   ],
   "source": [
    "lottacrop['code'] = lottacrop.crop_list.astype('category').cat.codes\n",
    "fullx = lottacrop.iloc[:,1:61].dropna()\n",
    "fully = lottacrop.loc[fullx.index,'code']\n",
    "fully.shape\n",
    "X_train, X_test, Y_train, Y_test = train_test_split(fullx,fully,test_size = .4)"
   ]
  },
  {
   "cell_type": "code",
   "execution_count": 21,
   "metadata": {},
   "outputs": [],
   "source": [
    "from sklearn.multiclass import OneVsOneClassifier\n",
    "from sklearn.svm import LinearSVC\n",
    "from sklearn.neighbors.nearest_centroid import NearestCentroid\n",
    "from sklearn.neighbors import RadiusNeighborsClassifier\n",
    "from sklearn.ensemble import RandomForestClassifier\n",
    "from sklearn.ensemble import ExtraTreesClassifier\n",
    "\n",
    "\n",
    "from sklearn.tree import DecisionTreeClassifier\n",
    "\n",
    "import numpy as np\n",
    "import matplotlib.pyplot as plt\n",
    "from matplotlib.colors import ListedColormap\n",
    "from sklearn import neighbors, datasets\n",
    "n_neighbors = 25\n",
    "\n",
    "RFC = RandomForestClassifier()\n",
    "DTC = DecisionTreeClassifier\n",
    "extra = ExtraTreesClassifier()\n",
    "\n",
    "\n",
    "clf = neighbors.KNeighborsClassifier(n_neighbors, weights='distance',algorithm='ball_tree')\n",
    "clf.fit(X_train, Y_train)\n",
    "neigh = RadiusNeighborsClassifier(radius=3000.0)\n",
    "RFF = RadiusNeighborsClassifier()\n",
    "extra.fit(X_train,Y_train)\n",
    "#DTC.fit(X_train,Y_train)\n",
    "RFC.fit(X_train,Y_train)\n",
    "\n",
    "\n",
    "tester = OneVsOneClassifier(LinearSVC(random_state=0)).fit(X_train, Y_train)"
   ]
  },
  {
   "cell_type": "code",
   "execution_count": 24,
   "metadata": {},
   "outputs": [],
   "source": [
    "importances = extra.feature_importances_\n",
    "std = np.std([extra.feature_importances_ for tree in extra.estimators_],\n",
    "             axis=0)\n",
    "indices = np.argsort(importances)[::-1]\n"
   ]
  },
  {
   "cell_type": "code",
   "execution_count": 25,
   "metadata": {},
   "outputs": [
    {
     "data": {
      "text/plain": [
       "array([0.04307993, 0.04105589, 0.03918572, 0.03659485, 0.03359419,\n",
       "       0.03289997, 0.03277012, 0.03169145, 0.03112004, 0.02952319,\n",
       "       0.02919816, 0.02874238, 0.02767337, 0.0266987 , 0.02620187,\n",
       "       0.02607968, 0.02460791, 0.02412403, 0.02378635, 0.02307589,\n",
       "       0.02265635, 0.02247493, 0.02168421, 0.02108462, 0.02103608,\n",
       "       0.02075089, 0.02059096, 0.02024463, 0.0194381 , 0.01855488,\n",
       "       0.01837745, 0.01757303, 0.0167016 , 0.01650516, 0.01613722,\n",
       "       0.01543345, 0.01524107, 0.015197  , 0.01504396, 0.01495988,\n",
       "       0.01418389, 0.00131376, 0.00095572, 0.00088086, 0.00071299,\n",
       "       0.00056363, 0.        , 0.        , 0.        , 0.        ,\n",
       "       0.        , 0.        , 0.        , 0.        , 0.        ,\n",
       "       0.        , 0.        , 0.        ])"
      ]
     },
     "execution_count": 25,
     "metadata": {},
     "output_type": "execute_result"
    }
   ],
   "source": [
    "X_train.shape[1]\n",
    "importances[indices][:58]"
   ]
  },
  {
   "cell_type": "code",
   "execution_count": 26,
   "metadata": {},
   "outputs": [
    {
     "name": "stdout",
     "output_type": "stream",
     "text": [
      "Feature ranking:\n",
      "1. feature 7 (0.043080)\n",
      "2. feature 16 (0.041056)\n",
      "3. feature 9 (0.039186)\n",
      "4. feature 13 (0.036595)\n",
      "5. feature 15 (0.033594)\n"
     ]
    },
    {
     "ename": "TypeError",
     "evalue": "'int' object is not subscriptable",
     "output_type": "error",
     "traceback": [
      "\u001b[0;31m---------------------------------------------------------------------------\u001b[0m",
      "\u001b[0;31mTypeError\u001b[0m                                 Traceback (most recent call last)",
      "\u001b[0;32m<ipython-input-26-8e7fad662e4c>\u001b[0m in \u001b[0;36m<module>\u001b[0;34m()\u001b[0m\n\u001b[1;32m     12\u001b[0m \u001b[0mplt\u001b[0m\u001b[0;34m.\u001b[0m\u001b[0mylabel\u001b[0m \u001b[0;34m=\u001b[0m \u001b[0;34m'Importance'\u001b[0m\u001b[0;34m\u001b[0m\u001b[0m\n\u001b[1;32m     13\u001b[0m \u001b[0mplt\u001b[0m\u001b[0;34m.\u001b[0m\u001b[0mxlabel\u001b[0m \u001b[0;34m=\u001b[0m \u001b[0;34m'Features'\u001b[0m\u001b[0;34m\u001b[0m\u001b[0m\n\u001b[0;32m---> 14\u001b[0;31m \u001b[0mplt\u001b[0m\u001b[0;34m.\u001b[0m\u001b[0mxlim\u001b[0m\u001b[0;34m(\u001b[0m\u001b[0;34m[\u001b[0m\u001b[0;34m-\u001b[0m\u001b[0;36m1\u001b[0m\u001b[0;34m,\u001b[0m \u001b[0mX_train\u001b[0m\u001b[0;34m.\u001b[0m\u001b[0mshape\u001b[0m\u001b[0;34m[\u001b[0m\u001b[0;36m1\u001b[0m\u001b[0;34m]\u001b[0m\u001b[0;34m[\u001b[0m\u001b[0;34m:\u001b[0m\u001b[0;36m5\u001b[0m\u001b[0;34m]\u001b[0m\u001b[0;34m]\u001b[0m\u001b[0;34m)\u001b[0m\u001b[0;34m\u001b[0m\u001b[0m\n\u001b[0m\u001b[1;32m     15\u001b[0m \u001b[0;34m\u001b[0m\u001b[0m\n\u001b[1;32m     16\u001b[0m \u001b[0mplt\u001b[0m\u001b[0;34m.\u001b[0m\u001b[0mshow\u001b[0m\u001b[0;34m(\u001b[0m\u001b[0;34m)\u001b[0m\u001b[0;34m\u001b[0m\u001b[0m\n",
      "\u001b[0;31mTypeError\u001b[0m: 'int' object is not subscriptable"
     ]
    },
    {
     "data": {
      "image/png": "[encoded data removed]",
      "text/plain": [
       "<Figure size 432x288 with 1 Axes>"
      ]
     },
     "metadata": {},
     "output_type": "display_data"
    }
   ],
   "source": [
    "print(\"Feature ranking:\")\n",
    "\n",
    "for f in range(5):\n",
    "    print(\"%d. feature %d (%f)\" % (f + 1, indices[f], importances[indices[f]]))\n",
    "\n",
    "# Plot the feature importances of the forest\n",
    "plt.figure()\n",
    "plt.title(\"Feature importances for Extra Trees Model\")\n",
    "plt.bar(range(5), importances[indices][:5],\n",
    "       color=\"r\", yerr=std[indices][:5], align=\"center\")\n",
    "plt.xticks(range(5), X_train.columns[indices[:5]],rotation = 90)\n",
    "plt.ylabel = 'Importance'\n",
    "plt.xlabel = 'Features'\n",
    "plt.xlim([-1, X_train.shape[1][:5]])\n",
    "\n",
    "plt.show()"
   ]
  },
  {
   "cell_type": "code",
   "execution_count": 27,
   "metadata": {},
   "outputs": [],
   "source": [
    "extrapreds = extra.predict(X_test)"
   ]
  },
  {
   "cell_type": "code",
   "execution_count": 28,
   "metadata": {},
   "outputs": [
    {
     "data": {
      "text/plain": [
       "array([[565,  11,   0,   9,   5,   0,   3,   3,   6,   0,  13],\n",
       "       [ 11, 407,   0,   6,   3,   0,   0,   3,   1,   7,   7],\n",
       "       [  3,   4, 124,   1,   6,   0,   0,   3,   3,   3,   4],\n",
       "       [ 21,  14,   0, 214,   3,   1,   0,   3,   6,   3,   4],\n",
       "       [  5,   5,   0,   0, 121,   0,   0,   0,   0,   0,  18],\n",
       "       [  2,   0,   2,   1,   1, 303,   4,   4,   0,   0,   1],\n",
       "       [  9,   0,   5,   4,   3,   1, 126,   6,   4,   0,  11],\n",
       "       [ 10,   2,   8,   0,   2,   2,   6, 434,  23,   0,   9],\n",
       "       [ 15,   1,   9,   3,   3,   2,   2,  36, 683,   0,  10],\n",
       "       [ 21,  36,   0,   3,   2,   2,   1,   0,   4, 165,   3],\n",
       "       [  8,  14,   4,   1,   9,   0,   3,   6,   8,   0, 478]])"
      ]
     },
     "execution_count": 28,
     "metadata": {},
     "output_type": "execute_result"
    }
   ],
   "source": [
    "confusion_matrix(Y_test,extrapreds)"
   ]
  },
  {
   "cell_type": "code",
   "execution_count": 29,
   "metadata": {},
   "outputs": [
    {
     "name": "stdout",
     "output_type": "stream",
     "text": [
      "0.6247586872586872\n",
      "0.8458011583011583\n",
      "0.8735521235521235\n",
      "0.8638996138996139\n"
     ]
    }
   ],
   "source": [
    "preds = tester.predict(X_test)\n",
    "print(tester.score(X_test,Y_test))\n",
    "print(clf.score(X_test,Y_test))\n",
    "print(extra.score(X_test,Y_test))\n",
    "#print(DTC.score(X_test,Y_test))\n",
    "print(RFC.score(X_test,Y_test))"
   ]
  },
  {
   "cell_type": "code",
   "execution_count": 30,
   "metadata": {},
   "outputs": [
    {
     "data": {
      "text/plain": [
       "array([6.71656357, 6.45089349, 5.44641355, 6.00467072, 5.4610132 ,\n",
       "       5.87926263, 5.41568224, 6.51701202, 6.83283049, 5.83653683,\n",
       "       6.49077292])"
      ]
     },
     "execution_count": 30,
     "metadata": {},
     "output_type": "execute_result"
    }
   ],
   "source": [
    "import scipy as sc\n",
    "entropy=sc.stats.entropy(extra.predict_proba(X_test))\n",
    "entropy"
   ]
  },
  {
   "cell_type": "code",
   "execution_count": 711,
   "metadata": {},
   "outputs": [
    {
     "data": {
      "text/plain": [
       "array([[555,   6,  10,   1,   0,   1,   0],\n",
       "       [ 24, 315,  10,   8,   0,   0,   9],\n",
       "       [ 20,  11, 207,   0,   0,   0,   5],\n",
       "       [  7,   6,   1,  29,   1,   0,   2],\n",
       "       [  5,   2,   2,   0, 153,   0,   1],\n",
       "       [  2,   1,   0,   0,   0,  11,   0],\n",
       "       [ 13,  21,   9,   0,   6,   0, 171]])"
      ]
     },
     "execution_count": 711,
     "metadata": {},
     "output_type": "execute_result"
    }
   ],
   "source": [
    "confusion_matrix(Y_test,preds)"
   ]
  },
  {
   "cell_type": "markdown",
   "metadata": {},
   "source": [
    "Alfalfa:0\n",
    "Almond:1\n",
    "Grape:2\n",
    "Oat:3\n",
    "Rice:4\n",
    "Sunflower:5\n",
    "Tomato:6\n",
    "Walnut :7\n"
   ]
  },
  {
   "cell_type": "code",
   "execution_count": 911,
   "metadata": {},
   "outputs": [
    {
     "data": {
      "image/png": "[encoded data removed]",
      "text/plain": [
       "<Figure size 432x288 with 1 Axes>"
      ]
     },
     "metadata": {},
     "output_type": "display_data"
    }
   ],
   "source": [
    "colors = ['b', 'c', 'y', 'm', 'r','brown','pink','teal','black','orange','purple']\n",
    "for i,j in zip(set(nonorg.crop_list),colors):\n",
    "    plt.scatter(nonorg.loc[nonorg['crop_list'] == i,['Band2thirdquart']],nonorg.loc[nonorg['crop_list'] == i,['Band2mean']],color = j)"
   ]
  }
 ],
 "metadata": {
  "kernelspec": {
   "display_name": "Python 3",
   "language": "python",
   "name": "python3"
  },
  "language_info": {
   "codemirror_mode": {
    "name": "ipython",
    "version": 3
   },
   "file_extension": ".py",
   "mimetype": "text/x-python",
   "name": "python",
   "nbconvert_exporter": "python",
   "pygments_lexer": "ipython3",
   "version": "3.6.4"
  }
 },
 "nbformat": 4,
 "nbformat_minor": 2
}
