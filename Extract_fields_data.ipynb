{
 "cells": [
  {
   "cell_type": "code",
   "execution_count": 1,
   "metadata": {},
   "outputs": [],
   "source": [
    "import pandas as pd\n",
    "import shapely.geometry as geom\n",
    "import matplotlib.pyplot as plt\n",
    "import geopandas as gpd\n",
    "from shapely.geometry import mapping\n",
    "import rasterio\n",
    "from rasterio.mask import mask\n",
    "import numpy as np\n",
    "from PIL import Image\n",
    "import os\n",
    "%matplotlib inline"
   ]
  },
  {
   "cell_type": "code",
   "execution_count": 2,
   "metadata": {},
   "outputs": [],
   "source": [
    "pics = gpd.read_file(\"Picture_coords/pic_coords.shp\")\n",
    "fields = gpd.read_file(\"Crops_2016/Crops_2016_26910.shp\")\n",
    "pics.crs = {\"init\":\"epsg:4326\"}\n",
    "pics = pics.to_crs('+proj=utm +zone=10 +ellps=GRS80 +datum=NAD83 +units=m +no_defs' )"
   ]
  },
  {
   "cell_type": "code",
   "execution_count": 3,
   "metadata": {},
   "outputs": [],
   "source": [
    "pic1= pics.iloc[0][\"geometry\"]\n",
    "def container(x):\n",
    "    \"\"\"This function applies the contain function which \n",
    "    determins if the coordinates of crop field are in a photo\n",
    "    \"\"\"\n",
    "    return(pic1.intersects(x))\n",
    "intersect_fields = fields[fields['geometry'].apply(container)]"
   ]
  },
  {
   "cell_type": "code",
   "execution_count": null,
   "metadata": {},
   "outputs": [],
   "source": [
    "geoms = intersect_fields.geometry.values\n",
    "field1 =geoms[35]\n"
   ]
  }
 ],
 "metadata": {
  "kernelspec": {
   "display_name": "Python 3",
   "language": "python",
   "name": "python3"
  },
  "language_info": {
   "codemirror_mode": {
    "name": "ipython",
    "version": 3
   },
   "file_extension": ".py",
   "mimetype": "text/x-python",
   "name": "python",
   "nbconvert_exporter": "python",
   "pygments_lexer": "ipython3",
   "version": "3.6.5"
  }
 },
 "nbformat": 4,
 "nbformat_minor": 2
}
