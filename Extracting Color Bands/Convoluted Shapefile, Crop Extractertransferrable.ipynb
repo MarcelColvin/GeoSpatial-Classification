{
 "cells": [
  {
   "cell_type": "code",
   "execution_count": 1,
   "metadata": {
    "scrolled": true
   },
   "outputs": [
    {
     "data": {
      "text/plain": [
       "'+proj=utm +zone=10 +ellps=WGS84 +datum=WGS84 +units=m +no_defs'"
      ]
     },
     "execution_count": 1,
     "metadata": {},
     "output_type": "execute_result"
    }
   ],
   "source": [
    "import rasterio\n",
    "import rasterio.features\n",
    "import rasterio.warp\n",
    "import rasterio.plot\n",
    "from rasterio.mask import mask\n",
    "import matplotlib.pyplot as plt\n",
    "import numpy as np\n",
    "import geopandas as gpd\n",
    "import os\n",
    "cropshape = gpd.read_file('Crops_2016/Crops_2016_26910.shp')\n",
    "cropshape.crs = {\"init\": 'epsg:26910'}\n",
    "cropshape = cropshape.to_crs('+proj=utm +zone=10 +ellps=WGS84 +datum=WGS84 +units=m +no_defs')\n",
    "cropshape.crs"
   ]
  },
  {
   "cell_type": "code",
   "execution_count": 2,
   "metadata": {},
   "outputs": [
    {
     "data": {
      "text/plain": [
       "10"
      ]
     },
     "execution_count": 2,
     "metadata": {},
     "output_type": "execute_result"
    }
   ],
   "source": [
    "5 + 5\n"
   ]
  },
  {
   "cell_type": "code",
   "execution_count": 5,
   "metadata": {},
   "outputs": [
    {
     "name": "stdout",
     "output_type": "stream",
     "text": [
      "/shared\n"
     ]
    }
   ],
   "source": [
    "%cd Desktop/shared/"
   ]
  },
  {
   "cell_type": "code",
   "execution_count": 3,
   "metadata": {},
   "outputs": [
    {
     "data": {
      "text/plain": [
       "'/home/rus/GeoSpatial-Classification'"
      ]
     },
     "execution_count": 3,
     "metadata": {},
     "output_type": "execute_result"
    }
   ],
   "source": [
    "%pwd"
   ]
  },
  {
   "cell_type": "code",
   "execution_count": 4,
   "metadata": {},
   "outputs": [],
   "source": [
    "shapefiles = ['.shp','.shx','.dbf','.cpg','.prj']\n",
    "for i in cropshape.OBJECTID.unique():\n",
    "    shape = str(i) + \".shp\"\n",
    "    cropshape[cropshape['OBJECTID'] == i ].to_file(shape)\n",
    "    command = \"gdalwarp -cutline \" +shape + \" -crop_to_cutline -dstalpha Band1.jp2 \" +str(i)+\".jp2\"\n",
    "    os.system(command)\n",
    "    for j in shapefiles:\n",
    "        command2 = \"rm \" + str(i) + j\n",
    "        os.system(command2)\n"
   ]
  },
  {
   "cell_type": "code",
   "execution_count": 153,
   "metadata": {},
   "outputs": [
    {
     "name": "stdout",
     "output_type": "stream",
     "text": [
      "/shared\n",
      "/shared/Band2\n"
     ]
    }
   ],
   "source": [
    "%cd ..\n",
    "%cd Band2/\n",
    "shapefiles = ['.shp','.shx','.dbf','.cpg','.prj']\n",
    "for i in cropshape.OBJECTID.unique():\n",
    "    shape = str(i) + \".shp\"\n",
    "    cropshape[cropshape['OBJECTID'] == i ].to_file(shape)\n",
    "    command = \"gdalwarp -cutline \" +shape + \" -crop_to_cutline -dstalpha band2.jp2 \" +str(i)+\".jp2\"\n",
    "    os.system(command)\n",
    "    for j in shapefiles:\n",
    "        command2 = \"rm \" + str(i) + j\n",
    "        os.system(command2)\n"
   ]
  },
  {
   "cell_type": "code",
   "execution_count": 141,
   "metadata": {},
   "outputs": [
    {
     "name": "stdout",
     "output_type": "stream",
     "text": [
      "/shared\n",
      "/shared/Band3\n"
     ]
    }
   ],
   "source": [
    "%cd ..\n",
    "%cd Band3/\n",
    "shapefiles = ['.shp','.shx','.dbf','.cpg','.prj']\n",
    "for i in cropshape.OBJECTID.unique():\n",
    "    shape = str(i) + \".shp\"\n",
    "    cropshape[cropshape['OBJECTID'] == i ].to_file(shape)\n",
    "    command = \"gdalwarp -cutline \" +shape + \" -crop_to_cutline -dstalpha band3.jp2 \" +str(i)+\".jp2\"\n",
    "    os.system(command)\n",
    "    for j in shapefiles:\n",
    "        command2 = \"rm \" + str(i) + j\n",
    "        os.system(command2)\n"
   ]
  },
  {
   "cell_type": "code",
   "execution_count": 149,
   "metadata": {},
   "outputs": [
    {
     "name": "stdout",
     "output_type": "stream",
     "text": [
      "/shared\n",
      "/shared/Band4\n"
     ]
    }
   ],
   "source": [
    "%cd ..\n",
    "%cd Band4/\n",
    "shapefiles = ['.shp','.shx','.dbf','.cpg','.prj']\n",
    "for i in cropshape.OBJECTID.unique():\n",
    "    shape = str(i) + \".shp\"\n",
    "    cropshape[cropshape['OBJECTID'] == i ].to_file(shape)\n",
    "    command = \"gdalwarp -cutline \" +shape + \" -crop_to_cutline -dstalpha band4.jp2 \" +str(i)+\".jp2\"\n",
    "    os.system(command)\n",
    "    for j in shapefiles:\n",
    "        command2 = \"rm \" + str(i) + j\n",
    "        os.system(command2)\n"
   ]
  },
  {
   "cell_type": "code",
   "execution_count": 143,
   "metadata": {},
   "outputs": [
    {
     "name": "stdout",
     "output_type": "stream",
     "text": [
      "/shared\n",
      "/shared/Band5\n"
     ]
    }
   ],
   "source": [
    "%cd ..\n",
    "%cd Band5/\n",
    "shapefiles = ['.shp','.shx','.dbf','.cpg','.prj']\n",
    "for i in cropshape.OBJECTID.unique():\n",
    "    shape = str(i) + \".shp\"\n",
    "    cropshape[cropshape['OBJECTID'] == i ].to_file(shape)\n",
    "    command = \"gdalwarp -cutline \" +shape + \" -crop_to_cutline -dstalpha band5.jp2 \" +str(i)+\".jp2\"\n",
    "    os.system(command)\n",
    "    for j in shapefiles:\n",
    "        command2 = \"rm \" + str(i) + j\n",
    "        os.system(command2)\n"
   ]
  },
  {
   "cell_type": "code",
   "execution_count": 144,
   "metadata": {},
   "outputs": [
    {
     "name": "stdout",
     "output_type": "stream",
     "text": [
      "/shared\n",
      "/shared/Band6\n"
     ]
    }
   ],
   "source": [
    "%cd ..\n",
    "%cd Band6/\n",
    "shapefiles = ['.shp','.shx','.dbf','.cpg','.prj']\n",
    "for i in cropshape.OBJECTID.unique():\n",
    "    shape = str(i) + \".shp\"\n",
    "    cropshape[cropshape['OBJECTID'] == i ].to_file(shape)\n",
    "    command = \"gdalwarp -cutline \" +shape + \" -crop_to_cutline -dstalpha band6.jp2 \" +str(i)+\".jp2\"\n",
    "    os.system(command)\n",
    "    for j in shapefiles:\n",
    "        command2 = \"rm \" + str(i) + j\n",
    "        os.system(command2)\n"
   ]
  },
  {
   "cell_type": "code",
   "execution_count": 145,
   "metadata": {},
   "outputs": [
    {
     "name": "stdout",
     "output_type": "stream",
     "text": [
      "/shared\n",
      "/shared/Band7\n"
     ]
    }
   ],
   "source": [
    "%cd ..\n",
    "%cd Band7/\n",
    "shapefiles = ['.shp','.shx','.dbf','.cpg','.prj']\n",
    "for i in cropshape.OBJECTID.unique():\n",
    "    shape = str(i) + \".shp\"\n",
    "    cropshape[cropshape['OBJECTID'] == i ].to_file(shape)\n",
    "    command = \"gdalwarp -cutline \" +shape + \" -crop_to_cutline -dstalpha band7.jp2 \" +str(i)+\".jp2\"\n",
    "    os.system(command)\n",
    "    for j in shapefiles:\n",
    "        command2 = \"rm \" + str(i) + j\n",
    "        os.system(command2)\n"
   ]
  },
  {
   "cell_type": "code",
   "execution_count": 146,
   "metadata": {},
   "outputs": [
    {
     "name": "stdout",
     "output_type": "stream",
     "text": [
      "/shared\n",
      "/shared/Band8\n"
     ]
    }
   ],
   "source": [
    "%cd ..\n",
    "%cd Band8/\n",
    "shapefiles = ['.shp','.shx','.dbf','.cpg','.prj']\n",
    "for i in cropshape.OBJECTID.unique():\n",
    "    shape = str(i) + \".shp\"\n",
    "    cropshape[cropshape['OBJECTID'] == i ].to_file(shape)\n",
    "    command = \"gdalwarp -cutline \" +shape + \" -crop_to_cutline -dstalpha band8.jp2 \" +str(i)+\".jp2\"\n",
    "    os.system(command)\n",
    "    for j in shapefiles:\n",
    "        command2 = \"rm \" + str(i) + j\n",
    "        os.system(command2)\n"
   ]
  },
  {
   "cell_type": "code",
   "execution_count": 147,
   "metadata": {},
   "outputs": [
    {
     "name": "stdout",
     "output_type": "stream",
     "text": [
      "/shared\n",
      "/shared/Band9\n"
     ]
    }
   ],
   "source": [
    "%cd ..\n",
    "%cd Band9/\n",
    "shapefiles = ['.shp','.shx','.dbf','.cpg','.prj']\n",
    "for i in cropshape.OBJECTID.unique():\n",
    "    shape = str(i) + \".shp\"\n",
    "    cropshape[cropshape['OBJECTID'] == i ].to_file(shape)\n",
    "    command = \"gdalwarp -cutline \" +shape + \" -crop_to_cutline -dstalpha band9.jp2 \" +str(i)+\".jp2\"\n",
    "    os.system(command)\n",
    "    for j in shapefiles:\n",
    "        command2 = \"rm \" + str(i) + j\n",
    "        os.system(command2)\n"
   ]
  },
  {
   "cell_type": "code",
   "execution_count": 148,
   "metadata": {
    "scrolled": true
   },
   "outputs": [
    {
     "name": "stdout",
     "output_type": "stream",
     "text": [
      "/shared\n",
      "/shared/Band10\n"
     ]
    }
   ],
   "source": [
    "%cd ..\n",
    "%cd Band10/\n",
    "shapefiles = ['.shp','.shx','.dbf','.cpg','.prj']\n",
    "for i in cropshape.OBJECTID.unique():\n",
    "    shape = str(i) + \".shp\"\n",
    "    cropshape[cropshape['OBJECTID'] == i ].to_file(shape)\n",
    "    command = \"gdalwarp -cutline \" +shape + \" -crop_to_cutline -dstalpha band10.jp2 \" +str(i)+\".jp2\"\n",
    "    os.system(command)\n",
    "    for j in shapefiles:\n",
    "        command2 = \"rm \" + str(i) + j\n",
    "        os.system(command2)\n"
   ]
  },
  {
   "cell_type": "code",
   "execution_count": 6,
   "metadata": {},
   "outputs": [
    {
     "name": "stdout",
     "output_type": "stream",
     "text": [
      "/shared/augband1\n"
     ]
    }
   ],
   "source": [
    "%cd augband1/\n",
    "shapefiles = ['.shp','.shx','.dbf','.cpg','.prj']\n",
    "for i in cropshape.OBJECTID.unique():\n",
    "    shape = str(i) + \".shp\"\n",
    "    cropshape[cropshape['OBJECTID'] == i ].to_file(shape)\n",
    "    command = \"gdalwarp -cutline \" +shape + \" -crop_to_cutline -dstalpha band1.jp2 \" +str(i)+\".jp2\"\n",
    "    os.system(command)\n",
    "    for j in shapefiles:\n",
    "        command2 = \"rm \" + str(i) + j\n",
    "        os.system(command2)\n"
   ]
  },
  {
   "cell_type": "code",
   "execution_count": 7,
   "metadata": {},
   "outputs": [
    {
     "name": "stdout",
     "output_type": "stream",
     "text": [
      "/shared\n",
      "/shared/augband2\n"
     ]
    }
   ],
   "source": [
    "%cd ..\n",
    "%cd augband2/\n",
    "shapefiles = ['.shp','.shx','.dbf','.cpg','.prj']\n",
    "for i in cropshape.OBJECTID.unique():\n",
    "    shape = str(i) + \".shp\"\n",
    "    cropshape[cropshape['OBJECTID'] == i ].to_file(shape)\n",
    "    command = \"gdalwarp -cutline \" +shape + \" -crop_to_cutline -dstalpha band2.jp2 \" +str(i)+\".jp2\"\n",
    "    os.system(command)\n",
    "    for j in shapefiles:\n",
    "        command2 = \"rm \" + str(i) + j\n",
    "        os.system(command2)\n"
   ]
  },
  {
   "cell_type": "code",
   "execution_count": 8,
   "metadata": {},
   "outputs": [
    {
     "name": "stdout",
     "output_type": "stream",
     "text": [
      "/shared\n",
      "/shared/augband3\n"
     ]
    }
   ],
   "source": [
    "%cd ..\n",
    "%cd augband3/\n",
    "shapefiles = ['.shp','.shx','.dbf','.cpg','.prj']\n",
    "for i in cropshape.OBJECTID.unique():\n",
    "    shape = str(i) + \".shp\"\n",
    "    cropshape[cropshape['OBJECTID'] == i ].to_file(shape)\n",
    "    command = \"gdalwarp -cutline \" +shape + \" -crop_to_cutline -dstalpha band3.jp2 \" +str(i)+\".jp2\"\n",
    "    os.system(command)\n",
    "    for j in shapefiles:\n",
    "        command2 = \"rm \" + str(i) + j\n",
    "        os.system(command2)\n"
   ]
  },
  {
   "cell_type": "code",
   "execution_count": 9,
   "metadata": {},
   "outputs": [
    {
     "name": "stdout",
     "output_type": "stream",
     "text": [
      "/shared\n",
      "/shared/augband4\n"
     ]
    }
   ],
   "source": [
    "%cd ..\n",
    "%cd augband4/\n",
    "shapefiles = ['.shp','.shx','.dbf','.cpg','.prj']\n",
    "for i in cropshape.OBJECTID.unique():\n",
    "    shape = str(i) + \".shp\"\n",
    "    cropshape[cropshape['OBJECTID'] == i ].to_file(shape)\n",
    "    command = \"gdalwarp -cutline \" +shape + \" -crop_to_cutline -dstalpha band4.jp2 \" +str(i)+\".jp2\"\n",
    "    os.system(command)\n",
    "    for j in shapefiles:\n",
    "        command2 = \"rm \" + str(i) + j\n",
    "        os.system(command2)\n"
   ]
  },
  {
   "cell_type": "code",
   "execution_count": 10,
   "metadata": {},
   "outputs": [
    {
     "name": "stdout",
     "output_type": "stream",
     "text": [
      "/shared\n",
      "/shared/augband5\n"
     ]
    }
   ],
   "source": [
    "%cd ..\n",
    "%cd augband5/\n",
    "shapefiles = ['.shp','.shx','.dbf','.cpg','.prj']\n",
    "for i in cropshape.OBJECTID.unique():\n",
    "    shape = str(i) + \".shp\"\n",
    "    cropshape[cropshape['OBJECTID'] == i ].to_file(shape)\n",
    "    command = \"gdalwarp -cutline \" +shape + \" -crop_to_cutline -dstalpha band5.jp2 \" +str(i)+\".jp2\"\n",
    "    os.system(command)\n",
    "    for j in shapefiles:\n",
    "        command2 = \"rm \" + str(i) + j\n",
    "        os.system(command2)"
   ]
  },
  {
   "cell_type": "code",
   "execution_count": 11,
   "metadata": {},
   "outputs": [
    {
     "name": "stdout",
     "output_type": "stream",
     "text": [
      "/shared\n",
      "/shared/augband6\n"
     ]
    }
   ],
   "source": [
    "%cd ..\n",
    "%cd augband6/\n",
    "shapefiles = ['.shp','.shx','.dbf','.cpg','.prj']\n",
    "for i in cropshape.OBJECTID.unique():\n",
    "    shape = str(i) + \".shp\"\n",
    "    cropshape[cropshape['OBJECTID'] == i ].to_file(shape)\n",
    "    command = \"gdalwarp -cutline \" +shape + \" -crop_to_cutline -dstalpha band6.jp2 \" +str(i)+\".jp2\"\n",
    "    os.system(command)\n",
    "    for j in shapefiles:\n",
    "        command2 = \"rm \" + str(i) + j\n",
    "        os.system(command2)"
   ]
  },
  {
   "cell_type": "code",
   "execution_count": 12,
   "metadata": {},
   "outputs": [
    {
     "name": "stdout",
     "output_type": "stream",
     "text": [
      "/shared\n",
      "/shared/augband7\n"
     ]
    }
   ],
   "source": [
    "%cd ..\n",
    "%cd augband7/\n",
    "shapefiles = ['.shp','.shx','.dbf','.cpg','.prj']\n",
    "for i in cropshape.OBJECTID.unique():\n",
    "    shape = str(i) + \".shp\"\n",
    "    cropshape[cropshape['OBJECTID'] == i ].to_file(shape)\n",
    "    command = \"gdalwarp -cutline \" +shape + \" -crop_to_cutline -dstalpha band7.jp2 \" +str(i)+\".jp2\"\n",
    "    os.system(command)\n",
    "    for j in shapefiles:\n",
    "        command2 = \"rm \" + str(i) + j\n",
    "        os.system(command2)"
   ]
  },
  {
   "cell_type": "code",
   "execution_count": 13,
   "metadata": {},
   "outputs": [
    {
     "name": "stdout",
     "output_type": "stream",
     "text": [
      "/shared\n",
      "/shared/augband8\n"
     ]
    }
   ],
   "source": [
    "%cd ..\n",
    "%cd augband8/\n",
    "shapefiles = ['.shp','.shx','.dbf','.cpg','.prj']\n",
    "for i in cropshape.OBJECTID.unique():\n",
    "    shape = str(i) + \".shp\"\n",
    "    cropshape[cropshape['OBJECTID'] == i ].to_file(shape)\n",
    "    command = \"gdalwarp -cutline \" +shape + \" -crop_to_cutline -dstalpha band8.jp2 \" +str(i)+\".jp2\"\n",
    "    os.system(command)\n",
    "    for j in shapefiles:\n",
    "        command2 = \"rm \" + str(i) + j\n",
    "        os.system(command2)"
   ]
  }
 ],
 "metadata": {
  "kernelspec": {
   "display_name": "Python 3",
   "language": "python",
   "name": "python3"
  },
  "language_info": {
   "codemirror_mode": {
    "name": "ipython",
    "version": 3
   },
   "file_extension": ".py",
   "mimetype": "text/x-python",
   "name": "python",
   "nbconvert_exporter": "python",
   "pygments_lexer": "ipython3",
   "version": "3.5.2"
  }
 },
 "nbformat": 4,
 "nbformat_minor": 2
}
