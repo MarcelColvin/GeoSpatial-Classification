{
 "cells": [
  {
   "cell_type": "code",
   "execution_count": 2,
   "metadata": {},
   "outputs": [
    {
     "name": "stdout",
     "output_type": "stream",
     "text": [
      "/home/rus\n"
     ]
    },
    {
     "data": {
      "text/plain": [
       "'+proj=utm +zone=10 +ellps=WGS84 +datum=WGS84 +units=m +no_defs'"
      ]
     },
     "execution_count": 2,
     "metadata": {},
     "output_type": "execute_result"
    }
   ],
   "source": [
    "import rasterio\n",
    "import rasterio.features\n",
    "import rasterio.warp\n",
    "import rasterio.plot\n",
    "from rasterio.mask import mask\n",
    "import matplotlib.pyplot as plt\n",
    "import numpy as np\n",
    "import geopandas as gpd\n",
    "cropshape = gpd.read_file('newshape.shp')\n",
    "cropshape.crs = {\"init\": 'epsg:26910'}\n",
    "cropshape = cropshape.to_crs('+proj=utm +zone=10 +ellps=WGS84 +datum=WGS84 +units=m +no_defs')\n",
    "cropshape.crs"
   ]
  },
  {
   "cell_type": "code",
   "execution_count": 137,
   "metadata": {},
   "outputs": [
    {
     "name": "stdout",
     "output_type": "stream",
     "text": [
      "/shared\n",
      "/shared/Band1\n"
     ]
    }
   ],
   "source": [
    "%cd ..\n",
    "%cd Band1/"
   ]
  },
  {
   "cell_type": "code",
   "execution_count": 138,
   "metadata": {},
   "outputs": [
    {
     "name": "stdout",
     "output_type": "stream",
     "text": [
      "b1.jp2     Band1.jp2.aux.xml  EJ_B01.jp2  Onecrop.jp2\r\n",
      "Band1.jp2  EH_B01.jp2         FH_B01.jp2  Onecrop.jp2.aux.xml\r\n"
     ]
    }
   ],
   "source": [
    "%ls"
   ]
  },
  {
   "cell_type": "code",
   "execution_count": 139,
   "metadata": {},
   "outputs": [],
   "source": [
    "shapefiles = ['.shp','.shx','.dbf','.cpg','.prj']\n",
    "for i in cropshape.OBJECTID.unique():\n",
    "    shape = str(i) + \".shp\"\n",
    "    cropshape[cropshape['OBJECTID'] == i ].to_file(shape)\n",
    "    command = \"gdalwarp -cutline \" +shape + \" -crop_to_cutline -dstalpha band1.jp2 \" +str(i)+\".jp2\"\n",
    "    os.system(command)\n",
    "    for j in shapefiles:\n",
    "        command2 = \"rm \" + str(i) + j\n",
    "        os.system(command2)\n"
   ]
  },
  {
   "cell_type": "code",
   "execution_count": 140,
   "metadata": {},
   "outputs": [
    {
     "name": "stdout",
     "output_type": "stream",
     "text": [
      "/shared\n",
      "/shared/Band2\n"
     ]
    }
   ],
   "source": [
    "%cd ..\n",
    "%cd Band2/\n",
    "shapefiles = ['.shp','.shx','.dbf','.cpg','.prj']\n",
    "for i in cropshape.OBJECTID.unique():\n",
    "    shape = str(i) + \".shp\"\n",
    "    cropshape[cropshape['OBJECTID'] == i ].to_file(shape)\n",
    "    command = \"gdalwarp -cutline \" +shape + \" -crop_to_cutline -dstalpha band2.jp2 \" +str(i)+\".jp2\"\n",
    "    os.system(command)\n",
    "    for j in shapefiles:\n",
    "        command2 = \"rm \" + str(i) + j\n",
    "        os.system(command2)\n"
   ]
  },
  {
   "cell_type": "code",
   "execution_count": 141,
   "metadata": {},
   "outputs": [
    {
     "name": "stdout",
     "output_type": "stream",
     "text": [
      "/shared\n",
      "/shared/Band3\n"
     ]
    }
   ],
   "source": [
    "%cd ..\n",
    "%cd Band3/\n",
    "shapefiles = ['.shp','.shx','.dbf','.cpg','.prj']\n",
    "for i in cropshape.OBJECTID.unique():\n",
    "    shape = str(i) + \".shp\"\n",
    "    cropshape[cropshape['OBJECTID'] == i ].to_file(shape)\n",
    "    command = \"gdalwarp -cutline \" +shape + \" -crop_to_cutline -dstalpha band3.jp2 \" +str(i)+\".jp2\"\n",
    "    os.system(command)\n",
    "    for j in shapefiles:\n",
    "        command2 = \"rm \" + str(i) + j\n",
    "        os.system(command2)\n"
   ]
  },
  {
   "cell_type": "code",
   "execution_count": 149,
   "metadata": {},
   "outputs": [
    {
     "name": "stdout",
     "output_type": "stream",
     "text": [
      "/shared\n",
      "/shared/Band4\n"
     ]
    }
   ],
   "source": [
    "%cd ..\n",
    "%cd Band4/\n",
    "shapefiles = ['.shp','.shx','.dbf','.cpg','.prj']\n",
    "for i in cropshape.OBJECTID.unique():\n",
    "    shape = str(i) + \".shp\"\n",
    "    cropshape[cropshape['OBJECTID'] == i ].to_file(shape)\n",
    "    command = \"gdalwarp -cutline \" +shape + \" -crop_to_cutline -dstalpha band4.jp2 \" +str(i)+\".jp2\"\n",
    "    os.system(command)\n",
    "    for j in shapefiles:\n",
    "        command2 = \"rm \" + str(i) + j\n",
    "        os.system(command2)\n"
   ]
  },
  {
   "cell_type": "code",
   "execution_count": 143,
   "metadata": {},
   "outputs": [
    {
     "name": "stdout",
     "output_type": "stream",
     "text": [
      "/shared\n",
      "/shared/Band5\n"
     ]
    }
   ],
   "source": [
    "%cd ..\n",
    "%cd Band5/\n",
    "shapefiles = ['.shp','.shx','.dbf','.cpg','.prj']\n",
    "for i in cropshape.OBJECTID.unique():\n",
    "    shape = str(i) + \".shp\"\n",
    "    cropshape[cropshape['OBJECTID'] == i ].to_file(shape)\n",
    "    command = \"gdalwarp -cutline \" +shape + \" -crop_to_cutline -dstalpha band5.jp2 \" +str(i)+\".jp2\"\n",
    "    os.system(command)\n",
    "    for j in shapefiles:\n",
    "        command2 = \"rm \" + str(i) + j\n",
    "        os.system(command2)\n"
   ]
  },
  {
   "cell_type": "code",
   "execution_count": 144,
   "metadata": {},
   "outputs": [
    {
     "name": "stdout",
     "output_type": "stream",
     "text": [
      "/shared\n",
      "/shared/Band6\n"
     ]
    }
   ],
   "source": [
    "%cd ..\n",
    "%cd Band6/\n",
    "shapefiles = ['.shp','.shx','.dbf','.cpg','.prj']\n",
    "for i in cropshape.OBJECTID.unique():\n",
    "    shape = str(i) + \".shp\"\n",
    "    cropshape[cropshape['OBJECTID'] == i ].to_file(shape)\n",
    "    command = \"gdalwarp -cutline \" +shape + \" -crop_to_cutline -dstalpha band6.jp2 \" +str(i)+\".jp2\"\n",
    "    os.system(command)\n",
    "    for j in shapefiles:\n",
    "        command2 = \"rm \" + str(i) + j\n",
    "        os.system(command2)\n"
   ]
  },
  {
   "cell_type": "code",
   "execution_count": 145,
   "metadata": {},
   "outputs": [
    {
     "name": "stdout",
     "output_type": "stream",
     "text": [
      "/shared\n",
      "/shared/Band7\n"
     ]
    }
   ],
   "source": [
    "%cd ..\n",
    "%cd Band7/\n",
    "shapefiles = ['.shp','.shx','.dbf','.cpg','.prj']\n",
    "for i in cropshape.OBJECTID.unique():\n",
    "    shape = str(i) + \".shp\"\n",
    "    cropshape[cropshape['OBJECTID'] == i ].to_file(shape)\n",
    "    command = \"gdalwarp -cutline \" +shape + \" -crop_to_cutline -dstalpha band7.jp2 \" +str(i)+\".jp2\"\n",
    "    os.system(command)\n",
    "    for j in shapefiles:\n",
    "        command2 = \"rm \" + str(i) + j\n",
    "        os.system(command2)\n"
   ]
  },
  {
   "cell_type": "code",
   "execution_count": 146,
   "metadata": {},
   "outputs": [
    {
     "name": "stdout",
     "output_type": "stream",
     "text": [
      "/shared\n",
      "/shared/Band8\n"
     ]
    }
   ],
   "source": [
    "%cd ..\n",
    "%cd Band8/\n",
    "shapefiles = ['.shp','.shx','.dbf','.cpg','.prj']\n",
    "for i in cropshape.OBJECTID.unique():\n",
    "    shape = str(i) + \".shp\"\n",
    "    cropshape[cropshape['OBJECTID'] == i ].to_file(shape)\n",
    "    command = \"gdalwarp -cutline \" +shape + \" -crop_to_cutline -dstalpha band8.jp2 \" +str(i)+\".jp2\"\n",
    "    os.system(command)\n",
    "    for j in shapefiles:\n",
    "        command2 = \"rm \" + str(i) + j\n",
    "        os.system(command2)\n"
   ]
  },
  {
   "cell_type": "code",
   "execution_count": 147,
   "metadata": {},
   "outputs": [
    {
     "name": "stdout",
     "output_type": "stream",
     "text": [
      "/shared\n",
      "/shared/Band9\n"
     ]
    }
   ],
   "source": [
    "%cd ..\n",
    "%cd Band9/\n",
    "shapefiles = ['.shp','.shx','.dbf','.cpg','.prj']\n",
    "for i in cropshape.OBJECTID.unique():\n",
    "    shape = str(i) + \".shp\"\n",
    "    cropshape[cropshape['OBJECTID'] == i ].to_file(shape)\n",
    "    command = \"gdalwarp -cutline \" +shape + \" -crop_to_cutline -dstalpha band9.jp2 \" +str(i)+\".jp2\"\n",
    "    os.system(command)\n",
    "    for j in shapefiles:\n",
    "        command2 = \"rm \" + str(i) + j\n",
    "        os.system(command2)\n"
   ]
  },
  {
   "cell_type": "code",
   "execution_count": 148,
   "metadata": {},
   "outputs": [
    {
     "name": "stdout",
     "output_type": "stream",
     "text": [
      "/shared\n",
      "/shared/Band10\n"
     ]
    }
   ],
   "source": [
    "%cd ..\n",
    "%cd Band10/\n",
    "shapefiles = ['.shp','.shx','.dbf','.cpg','.prj']\n",
    "for i in cropshape.OBJECTID.unique():\n",
    "    shape = str(i) + \".shp\"\n",
    "    cropshape[cropshape['OBJECTID'] == i ].to_file(shape)\n",
    "    command = \"gdalwarp -cutline \" +shape + \" -crop_to_cutline -dstalpha band10.jp2 \" +str(i)+\".jp2\"\n",
    "    os.system(command)\n",
    "    for j in shapefiles:\n",
    "        command2 = \"rm \" + str(i) + j\n",
    "        os.system(command2)\n"
   ]
  },
  {
   "cell_type": "code",
   "execution_count": 67,
   "metadata": {},
   "outputs": [
    {
     "name": "stdout",
     "output_type": "stream",
     "text": [
      "0    627126.051511\n",
      "Name: minx, dtype: float64\n",
      "1    622850.269442\n",
      "Name: minx, dtype: float64\n",
      "2    623081.141847\n",
      "Name: minx, dtype: float64\n",
      "3    622150.693194\n",
      "Name: minx, dtype: float64\n",
      "4    622347.125774\n",
      "Name: minx, dtype: float64\n"
     ]
    }
   ],
   "source": [
    "j = 0\n",
    "for i in cropshape.OBJECTID.unique()[:5]:\n",
    "    minx,miny,maxx,maxy = [cropshape[cropshape['OBJECTID'] == i].bounds['minx'],cropshape[cropshape['OBJECTID'] == i].bounds['miny'],cropshape[cropshape['OBJECTID'] == i].bounds['maxx'],cropshape[cropshape['OBJECTID'] == i].bounds['maxy']]\n",
    "    print(minx)\n",
    "    minx = pd.DataFrame()\n",
    "    j += 1"
   ]
  },
  {
   "cell_type": "code",
   "execution_count": null,
   "metadata": {},
   "outputs": [],
   "source": []
  },
  {
   "cell_type": "code",
   "execution_count": 82,
   "metadata": {},
   "outputs": [
    {
     "name": "stdout",
     "output_type": "stream",
     "text": [
      "/shared/Tester\n"
     ]
    }
   ],
   "source": [
    "%cd Desktop/shared/Tester/"
   ]
  }
 ],
 "metadata": {
  "kernelspec": {
   "display_name": "Python 3",
   "language": "python",
   "name": "python3"
  },
  "language_info": {
   "codemirror_mode": {
    "name": "ipython",
    "version": 3
   },
   "file_extension": ".py",
   "mimetype": "text/x-python",
   "name": "python",
   "nbconvert_exporter": "python",
   "pygments_lexer": "ipython3",
   "version": "3.5.2"
  }
 },
 "nbformat": 4,
 "nbformat_minor": 2
}
