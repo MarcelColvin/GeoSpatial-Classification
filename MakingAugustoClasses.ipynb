{
 "cells": [
  {
   "cell_type": "code",
   "execution_count": 1,
   "metadata": {},
   "outputs": [],
   "source": [
    "import pandas as pd\n",
    "from sklearn.model_selection import train_test_split\n",
    "from sklearn import svm\n",
    "from sklearn import tree\n",
    "import numpy as np\n",
    "from sklearn.metrics import confusion_matrix"
   ]
  },
  {
   "cell_type": "code",
   "execution_count": 2,
   "metadata": {},
   "outputs": [
    {
     "name": "stderr",
     "output_type": "stream",
     "text": [
      "C:\\Users\\marce\\Anaconda3\\lib\\site-packages\\IPython\\core\\interactiveshell.py:2785: DtypeWarning: Columns (84) have mixed types. Specify dtype option on import or set low_memory=False.\n",
      "  interactivity=interactivity, compiler=compiler, result=result)\n"
     ]
    }
   ],
   "source": [
    "Crops = pd.read_csv('Data/Agosto.csv').iloc[:,1:]\n"
   ]
  },
  {
   "cell_type": "code",
   "execution_count": 3,
   "metadata": {},
   "outputs": [],
   "source": [
    "Crops['crop_list']\n",
    "Active = Crops[Crops['is_active'] == 1]"
   ]
  },
  {
   "cell_type": "code",
   "execution_count": 7,
   "metadata": {},
   "outputs": [],
   "source": [
    "#fullyactive = Active.drop(Active[Active['crop_list'].str.contains('UNCULTIVATED') ].index)\n",
    "\n",
    "\n",
    "#nona = fullyactive.iloc[:,1:61].dropna()"
   ]
  },
  {
   "cell_type": "markdown",
   "metadata": {},
   "source": [
    "# dont' RUN FROM HERE TO "
   ]
  },
  {
   "cell_type": "code",
   "execution_count": 227,
   "metadata": {},
   "outputs": [],
   "source": [
    "Unsurestatus = Active[Active['crop_list'].str.contains('UNCULTIVATED')]"
   ]
  },
  {
   "cell_type": "code",
   "execution_count": 335,
   "metadata": {},
   "outputs": [],
   "source": [
    "Uncultivated = Active[Active['crop_list'] == 'UNCULTIVATED AG']"
   ]
  },
  {
   "cell_type": "code",
   "execution_count": 369,
   "metadata": {},
   "outputs": [],
   "source": [
    "letstrain = pd.concat([unknowns,Uncultivated])\n",
    "fullx = letstrain.iloc[:,1:61].dropna()\n",
    "fully = letstrain.loc[fullx.index,'is_active']"
   ]
  },
  {
   "cell_type": "code",
   "execution_count": 370,
   "metadata": {},
   "outputs": [
    {
     "data": {
      "text/plain": [
       "array([0, 0, 0, ..., 1, 1, 1])"
      ]
     },
     "execution_count": 370,
     "metadata": {},
     "output_type": "execute_result"
    }
   ],
   "source": [
    "fully = np.where(letstrain.loc[fullx.index,'crop_list'].str.contains('Unknown'),0,1)\n",
    "fully"
   ]
  },
  {
   "cell_type": "code",
   "execution_count": 5,
   "metadata": {},
   "outputs": [],
   "source": [
    "from sklearn.metrics import confusion_matrix"
   ]
  },
  {
   "cell_type": "code",
   "execution_count": 292,
   "metadata": {},
   "outputs": [],
   "source": [
    "tn, fp, fn, tp = confusion_matrix(Y_test,Y_pred).ravel()"
   ]
  },
  {
   "cell_type": "code",
   "execution_count": 935,
   "metadata": {},
   "outputs": [
    {
     "data": {
      "text/plain": [
       "(300, 53, 45, 2500)"
      ]
     },
     "execution_count": 935,
     "metadata": {},
     "output_type": "execute_result"
    }
   ],
   "source": [
    "(tn,fp,fn,tp)\n"
   ]
  },
  {
   "cell_type": "code",
   "execution_count": 299,
   "metadata": {},
   "outputs": [],
   "source": [
    "\n",
    "testingdf = Unsurestatus.iloc[:,1:61].dropna()\n",
    "\n",
    "preds = clf.predict(Unsurestatus.iloc[:,1:61].dropna())\n",
    "\n",
    "\n",
    "\n",
    "\n",
    "\n"
   ]
  },
  {
   "cell_type": "code",
   "execution_count": 300,
   "metadata": {},
   "outputs": [],
   "source": [
    "unsurepreds = Unsurestatus.loc[testingdf.index,:]"
   ]
  },
  {
   "cell_type": "code",
   "execution_count": 878,
   "metadata": {},
   "outputs": [
    {
     "data": {
      "text/plain": [
       "{'ALFALFA',\n",
       " 'ALFALFA GRASS M',\n",
       " 'ALFALFA, SAFFLOWER',\n",
       " 'ALFALFA, WHEAT',\n",
       " 'ALMOND',\n",
       " 'ALMOND, APRICOT, CHERRY, NECTARINE, PEACH, PRUNE',\n",
       " 'ALMOND, BEEHIVE',\n",
       " 'ALMOND, FORAGE HAY/SLGE',\n",
       " 'APPLE',\n",
       " 'APPLE, APRICOT, CHERRY, PEACH',\n",
       " 'APRICOT',\n",
       " 'APRICOT, CHERRY, PEACH',\n",
       " 'APRICOT, NECTARINE, PEACH',\n",
       " 'BARLEY',\n",
       " 'BEAN DRIED',\n",
       " 'BEAN DRIED, WHEAT',\n",
       " 'BEEHIVE',\n",
       " 'BEEHIVE, UNCUL NON-AG',\n",
       " 'BLACKBERRY',\n",
       " 'BLUEBERRY',\n",
       " 'BROCCOLI, MELON',\n",
       " 'CABBAGE SEED, ONION SEED, CARROT SEED',\n",
       " 'CANTALOUPE',\n",
       " 'CHERRY',\n",
       " 'CHESTNUT',\n",
       " 'CITRUS',\n",
       " 'COMM. FUMIGATN',\n",
       " 'CORN FOR/FOD',\n",
       " 'CORN SEED, SAFFLOWER SEED',\n",
       " 'CORN, HUMAN CON',\n",
       " 'CUCUMBER',\n",
       " 'CUCUMBER SEED',\n",
       " 'DITCH, BANK',\n",
       " 'FIG',\n",
       " 'FORAGE HAY/SLGE',\n",
       " 'FRUIT, BERRY',\n",
       " 'FRUIT, BERRY, CHERRY, POMEGRANATE',\n",
       " 'FUMIGATN, OTHER',\n",
       " 'GARBANZO BEAN',\n",
       " 'GP-FLWRNG PLANT',\n",
       " 'GRAPE',\n",
       " 'GRAPE, WINE',\n",
       " 'GRASS SEED, UNCUL NON-AG',\n",
       " 'HEMP/CANNABIS',\n",
       " 'HOPS',\n",
       " 'INDUSTRIAL SITE',\n",
       " 'KIWI',\n",
       " 'LANDSCAPE MAIN',\n",
       " 'MELON SEED',\n",
       " 'N-GRNHS PLANT',\n",
       " 'N-GRNHS TRANSPL',\n",
       " 'N-OUTDR FLOWERS, CORN, HUMAN CON',\n",
       " 'N-OUTDR PLANTS',\n",
       " 'NUTS',\n",
       " 'OAT FOR/FOD',\n",
       " 'OAT FOR/FOD, ALFALFA',\n",
       " 'OAT FOR/FOD, RYEGRAS FOR/FOD',\n",
       " 'OAT SEED',\n",
       " 'OF-FLOWER SEED, GRASS SEED, UNCUL NON-AG',\n",
       " 'OF-FLWRNG PLANT',\n",
       " 'OF-FLWRNG PLANT, STONE FRUIT, OLIVE, GRAPE, WINE',\n",
       " 'OLIVE',\n",
       " 'ONION DRY ETC',\n",
       " 'ONION SEED',\n",
       " 'OP-TURF',\n",
       " 'ORANGE',\n",
       " 'ORCHARDGRASS',\n",
       " 'ORG ALFALFA',\n",
       " 'ORG ALFALFA, ORG WHEAT',\n",
       " 'ORG ALMOND',\n",
       " 'ORG APPLE',\n",
       " 'ORG APPLE, ORG APRICOT, ORG BLACKBERRY',\n",
       " 'ORG APRICOT',\n",
       " 'ORG ASPARAGUS',\n",
       " 'ORG ASPARAGUS, ORG MELON, ORG VEGETABLE',\n",
       " 'ORG ASPARAGUS, ORG TOMATO',\n",
       " 'ORG ASPARAGUS, ORG VEGETBLE FRTNG',\n",
       " 'ORG BARLEY, ORG TOMATO',\n",
       " 'ORG BEET, ORG BROCCOLI, ORG ONION DRY',\n",
       " 'ORG CARROT',\n",
       " 'ORG CAULIFLOWER, ORG CITRUS, ORG PLUM, ORG SQUASH SUMMER, ORG STONE FRUIT',\n",
       " 'ORG CITRUS',\n",
       " 'ORG CITRUS, ORG FIG, ORG PISTACHIO, ORG STONE FRUIT',\n",
       " 'ORG CORN FOR FOD',\n",
       " 'ORG FIG',\n",
       " 'ORG GRAPE',\n",
       " 'ORG GRAPE, WINE',\n",
       " 'ORG MELON',\n",
       " 'ORG MELON, ORG PASTURELAND, ORG STRAWBERRY, ORG TOMATO, ORG VEGETABLE, ORG VEGETBLE FRTNG',\n",
       " 'ORG NECTARINE',\n",
       " 'ORG OAT FOR/FOD',\n",
       " 'ORG OAT FOR/FOD, ORG WHEAT',\n",
       " 'ORG OLIVE',\n",
       " 'ORG ONION DRY, ORG VEGETBLE FRTNG',\n",
       " 'ORG ORANGE',\n",
       " 'ORG PASTURELAND',\n",
       " 'ORG PEACH',\n",
       " 'ORG PEAR',\n",
       " 'ORG PECAN',\n",
       " 'ORG PEPPER FRUITING, ORG BEAN UNSP, ORG BEET, ORG CARROT, ORG CUCUMBER, ORG DAIKON, ORG GARLIC, ORG KALE, ORG LETTUCE LEAF, ORG MELON, ORG MUSTARD, ORG ONION DRY, ORG PEAS, ORG PUMPKIN, ORG RADISH, ORG SPICE/HERB, ORG SQUASH, ORG SQUASH WINTER, ORG TOMAT',\n",
       " 'ORG POMEGRANATE',\n",
       " 'ORG RICE',\n",
       " 'ORG RYEGRASS FOR',\n",
       " 'ORG SAFFLOWER',\n",
       " 'ORG SQUASH',\n",
       " 'ORG SQUASH SUMMER',\n",
       " 'ORG SQUASH WINTER',\n",
       " 'ORG STONE FRUIT',\n",
       " 'ORG SUNFLOWER SEED, ORG TOMATO PROCESSING',\n",
       " 'ORG TOMATO',\n",
       " 'ORG TOMATO PROCESSING',\n",
       " 'ORG VEGETABLE',\n",
       " 'ORG VEGETABLE LEAF',\n",
       " 'ORG VEGETABLE LEAF, ORG VEGETBLE FRTNG',\n",
       " 'ORG VEGETBLE FRTNG',\n",
       " 'ORG VETCH',\n",
       " 'ORG WALNUT',\n",
       " 'ORG WATERMELON',\n",
       " 'ORG WHEAT',\n",
       " 'ORG-N-GRNHS TRANSPT',\n",
       " 'ORG-Rangeland',\n",
       " 'OT-DEC. TREE',\n",
       " 'OT-ROSE',\n",
       " 'OT-ROSE, GRAPE',\n",
       " 'OT-TURF',\n",
       " 'OT-VINE',\n",
       " 'PASTURELAND',\n",
       " 'PEACH',\n",
       " 'PEAR',\n",
       " 'PECAN',\n",
       " 'PEPPER FRUIT SD',\n",
       " 'PERSIMMON',\n",
       " 'PISTACHIO',\n",
       " 'PLUM',\n",
       " 'POME FRUIT, STONE FRUIT',\n",
       " 'POMEGRANATE',\n",
       " 'PRUNE',\n",
       " 'PUMPKIN',\n",
       " 'PUMPKIN SEED',\n",
       " 'PUMPKIN, CORN, HUMAN CON',\n",
       " 'RANGELAND',\n",
       " 'RANGELAND, UNCUL NON-AG',\n",
       " 'RECREATION AREA',\n",
       " 'RESEARCH COMMOD',\n",
       " 'RESEARCH/PARK',\n",
       " 'RICE',\n",
       " 'RIGHTS OF WAY',\n",
       " 'RYE, WHEAT',\n",
       " 'RYEGRAS FOR/FOD',\n",
       " 'Rotational Crops',\n",
       " 'SAFFLOWER',\n",
       " 'SAFFLOWER SEED',\n",
       " 'SAFFLOWER, WHEAT',\n",
       " 'SOIL FUM/PREPLT',\n",
       " 'SORGHUM MILO',\n",
       " 'SOYBEAN SEED',\n",
       " 'SQUASH',\n",
       " 'SQUASH SEED',\n",
       " 'SQUASH, BEAN DRIED',\n",
       " 'STONE FRUIT',\n",
       " 'STRAWBERRY',\n",
       " 'SUDANGRASS',\n",
       " 'SUNFLOWER SEED',\n",
       " 'TOMATO',\n",
       " 'TOMATO PROCESS',\n",
       " 'TRITICALE',\n",
       " 'TURF/SOD',\n",
       " 'UNCUL NON-AG',\n",
       " 'Unknown',\n",
       " 'VEGETABLE',\n",
       " 'VEGETABLE FRTG',\n",
       " 'VEGETABLE FRTG, COLE CROP',\n",
       " 'WALNUT',\n",
       " 'WALNUT, BEAN DRIED',\n",
       " 'WALNUT, OAT FOR/FOD',\n",
       " 'WALNUT, PASTURELAND',\n",
       " 'WATERMELON',\n",
       " 'WATERMELON SEED',\n",
       " 'WATERMELON, CORN, HUMAN CON',\n",
       " 'WHEAT',\n",
       " 'WHEAT FOR/FOD',\n",
       " 'WILD RICE'}"
      ]
     },
     "execution_count": 878,
     "metadata": {},
     "output_type": "execute_result"
    }
   ],
   "source": [
    "#unsurepreds[unsurepreds['isactiveimpute'] == 0][['crop_list','OBJECTID']]\n",
    "\n",
    "\n",
    "set(fullyactive.crop_list)"
   ]
  },
  {
   "cell_type": "code",
   "execution_count": 535,
   "metadata": {},
   "outputs": [
    {
     "data": {
      "text/plain": [
       "0.8685121107266436"
      ]
     },
     "execution_count": 535,
     "metadata": {},
     "output_type": "execute_result"
    }
   ],
   "source": [
    "#CbandDensity= pd.read_csv('ColorbandsDF.csv',)\n",
    "nonones = CbandDensity[pd.notna(CbandDensity['crop_list'])]\n",
    "#hold = pd.DataFrame(['UNCULTIVATED' in i for i in nonones.crop_list ],index=nonones.index)\n",
    "\n",
    "\n",
    "tomatoandalfalfa = fullyactive[fullyactive.crop_list.str.contains('ALMOND') | fullyactive.crop_list.str.contains('WALNUT')] \n",
    "colorbands = tomatoandalfalfa.iloc[:,:61]\n",
    "colorbands['crop_list'] = tomatoandalfalfa.crop_list\n",
    "colorbands.loc[colorbands.crop_list.str.contains('ALMOND'),'crop_list']  = 'ALMOND'\n",
    "nona= colorbands.dropna()\n",
    "fullx = nona.iloc[:,1:-1]\n",
    "fully = np.where(colorbands['crop_list'] == 'ALMOND',0,1)\n",
    "X_train, X_test, Y_train, Y_test = train_test_split(fullx,fully,test_size = .4)\n",
    "clfs = LogisticRegression()\n",
    "clfs.fit(X_train,Y_train)\n",
    "sv = clfs.predict(X_test)\n",
    "clfs.score(X_test,Y_test)"
   ]
  },
  {
   "cell_type": "code",
   "execution_count": 521,
   "metadata": {},
   "outputs": [
    {
     "data": {
      "text/plain": [
       "59"
      ]
     },
     "execution_count": 521,
     "metadata": {},
     "output_type": "execute_result"
    }
   ],
   "source": [
    "clfs.coef_.argmax()"
   ]
  },
  {
   "cell_type": "code",
   "execution_count": 522,
   "metadata": {},
   "outputs": [
    {
     "data": {
      "text/plain": [
       "'Band10firstquart'"
      ]
     },
     "execution_count": 522,
     "metadata": {},
     "output_type": "execute_result"
    }
   ],
   "source": [
    "X_test.columns[59]"
   ]
  },
  {
   "cell_type": "code",
   "execution_count": 447,
   "metadata": {},
   "outputs": [
    {
     "name": "stdout",
     "output_type": "stream",
     "text": [
      "0 0.0025749447329205854\n",
      "1 0.003997120152933425\n"
     ]
    }
   ],
   "source": [
    "j = 0\n",
    "for i in clfs.coef_[0]:\n",
    "    \n",
    "    print(j,i)\n",
    "    j +=1"
   ]
  },
  {
   "cell_type": "code",
   "execution_count": 34,
   "metadata": {},
   "outputs": [
    {
     "name": "stderr",
     "output_type": "stream",
     "text": [
      "/Users/ryanbrady/anaconda3/lib/python3.6/site-packages/pandas/core/indexing.py:537: SettingWithCopyWarning: \n",
      "A value is trying to be set on a copy of a slice from a DataFrame.\n",
      "Try using .loc[row_indexer,col_indexer] = value instead\n",
      "\n",
      "See the caveats in the documentation: http://pandas.pydata.org/pandas-docs/stable/indexing.html#indexing-view-versus-copy\n",
      "  self.obj[item] = s\n"
     ]
    }
   ],
   "source": [
    "nonones.loc[nonones['crop_list'].str.contains('UNCULTIVATED'),'crop_list'] = 'UNCULTIVATED'"
   ]
  },
  {
   "cell_type": "code",
   "execution_count": 219,
   "metadata": {
    "scrolled": true
   },
   "outputs": [
    {
     "data": {
      "text/plain": [
       "0.9658385093167702"
      ]
     },
     "execution_count": 219,
     "metadata": {},
     "output_type": "execute_result"
    }
   ],
   "source": [
    "from sklearn.ensemble import ExtraTreesClassifier\n",
    "X_train, X_test, Y_train, Y_test = train_test_split(fullx,fully,test_size = .4)\n",
    "clf = ExtraTreesClassifier()\n",
    "clf.fit(X_train,Y_train)\n",
    "clf.score(X_test,Y_test)"
   ]
  },
  {
   "cell_type": "code",
   "execution_count": 552,
   "metadata": {},
   "outputs": [],
   "source": [
    "tomats = Active[Active.crop_list.str.contains('TOMATO')]"
   ]
  },
  {
   "cell_type": "code",
   "execution_count": null,
   "metadata": {},
   "outputs": [],
   "source": []
  },
  {
   "cell_type": "markdown",
   "metadata": {},
   "source": [
    "# TO HERE"
   ]
  },
  {
   "cell_type": "code",
   "execution_count": 4,
   "metadata": {},
   "outputs": [],
   "source": [
    "lottacrop = Active[Active.crop_list.str.contains('OAT')|Active.crop_list.str.contains('SUNFLOWER')  | Active.crop_list.str.contains('ALMOND') | Active.crop_list.str.contains('GRAPE') | Active.crop_list.str.contains('WALNUT') |Active.crop_list.str.contains('RICE') | Active.crop_list.str.contains('ALFALFA')| Active.crop_list.str.contains('ALFALFA') | Active.crop_list.str.contains('CORN')| Active.crop_list.str.contains('WHEAT')| Active.crop_list.str.contains('TOMATO')  | Active.crop_list.str.contains('SAFFLOWER')]"
   ]
  },
  {
   "cell_type": "code",
   "execution_count": 5,
   "metadata": {},
   "outputs": [],
   "source": [
    "nonorg = lottacrop.drop(lottacrop.crop_list[lottacrop.crop_list.str.contains('ORG')].index)"
   ]
  },
  {
   "cell_type": "code",
   "execution_count": 6,
   "metadata": {},
   "outputs": [
    {
     "name": "stderr",
     "output_type": "stream",
     "text": [
      "C:\\Users\\marce\\Anaconda3\\lib\\site-packages\\ipykernel_launcher.py:1: SettingWithCopyWarning: \n",
      "A value is trying to be set on a copy of a slice from a DataFrame\n",
      "\n",
      "See the caveats in the documentation: http://pandas.pydata.org/pandas-docs/stable/indexing.html#indexing-view-versus-copy\n",
      "  \"\"\"Entry point for launching an IPython kernel.\n",
      "C:\\Users\\marce\\Anaconda3\\lib\\site-packages\\pandas\\core\\generic.py:5984: SettingWithCopyWarning: \n",
      "A value is trying to be set on a copy of a slice from a DataFrame\n",
      "\n",
      "See the caveats in the documentation: http://pandas.pydata.org/pandas-docs/stable/indexing.html#indexing-view-versus-copy\n",
      "  self._update_inplace(new_data)\n",
      "C:\\Users\\marce\\Anaconda3\\lib\\site-packages\\IPython\\core\\interactiveshell.py:2963: SettingWithCopyWarning: \n",
      "A value is trying to be set on a copy of a slice from a DataFrame\n",
      "\n",
      "See the caveats in the documentation: http://pandas.pydata.org/pandas-docs/stable/indexing.html#indexing-view-versus-copy\n",
      "  exec(code_obj, self.user_global_ns, self.user_ns)\n",
      "C:\\Users\\marce\\Anaconda3\\lib\\site-packages\\ipykernel_launcher.py:2: SettingWithCopyWarning: \n",
      "A value is trying to be set on a copy of a slice from a DataFrame\n",
      "\n",
      "See the caveats in the documentation: http://pandas.pydata.org/pandas-docs/stable/indexing.html#indexing-view-versus-copy\n",
      "  \n",
      "C:\\Users\\marce\\Anaconda3\\lib\\site-packages\\ipykernel_launcher.py:3: SettingWithCopyWarning: \n",
      "A value is trying to be set on a copy of a slice from a DataFrame\n",
      "\n",
      "See the caveats in the documentation: http://pandas.pydata.org/pandas-docs/stable/indexing.html#indexing-view-versus-copy\n",
      "  This is separate from the ipykernel package so we can avoid doing imports until\n",
      "C:\\Users\\marce\\Anaconda3\\lib\\site-packages\\ipykernel_launcher.py:4: SettingWithCopyWarning: \n",
      "A value is trying to be set on a copy of a slice from a DataFrame\n",
      "\n",
      "See the caveats in the documentation: http://pandas.pydata.org/pandas-docs/stable/indexing.html#indexing-view-versus-copy\n",
      "  after removing the cwd from sys.path.\n",
      "C:\\Users\\marce\\Anaconda3\\lib\\site-packages\\ipykernel_launcher.py:5: SettingWithCopyWarning: \n",
      "A value is trying to be set on a copy of a slice from a DataFrame\n",
      "\n",
      "See the caveats in the documentation: http://pandas.pydata.org/pandas-docs/stable/indexing.html#indexing-view-versus-copy\n",
      "  \"\"\"\n",
      "C:\\Users\\marce\\Anaconda3\\lib\\site-packages\\ipykernel_launcher.py:6: SettingWithCopyWarning: \n",
      "A value is trying to be set on a copy of a slice from a DataFrame\n",
      "\n",
      "See the caveats in the documentation: http://pandas.pydata.org/pandas-docs/stable/indexing.html#indexing-view-versus-copy\n",
      "  \n",
      "C:\\Users\\marce\\Anaconda3\\lib\\site-packages\\ipykernel_launcher.py:8: SettingWithCopyWarning: \n",
      "A value is trying to be set on a copy of a slice from a DataFrame\n",
      "\n",
      "See the caveats in the documentation: http://pandas.pydata.org/pandas-docs/stable/indexing.html#indexing-view-versus-copy\n",
      "  \n",
      "C:\\Users\\marce\\Anaconda3\\lib\\site-packages\\ipykernel_launcher.py:10: SettingWithCopyWarning: \n",
      "A value is trying to be set on a copy of a slice from a DataFrame\n",
      "\n",
      "See the caveats in the documentation: http://pandas.pydata.org/pandas-docs/stable/indexing.html#indexing-view-versus-copy\n",
      "  # Remove the CWD from sys.path while we load stuff.\n",
      "C:\\Users\\marce\\Anaconda3\\lib\\site-packages\\ipykernel_launcher.py:11: SettingWithCopyWarning: \n",
      "A value is trying to be set on a copy of a slice from a DataFrame\n",
      "\n",
      "See the caveats in the documentation: http://pandas.pydata.org/pandas-docs/stable/indexing.html#indexing-view-versus-copy\n",
      "  # This is added back by InteractiveShellApp.init_path()\n",
      "C:\\Users\\marce\\Anaconda3\\lib\\site-packages\\ipykernel_launcher.py:12: SettingWithCopyWarning: \n",
      "A value is trying to be set on a copy of a slice from a DataFrame\n",
      "\n",
      "See the caveats in the documentation: http://pandas.pydata.org/pandas-docs/stable/indexing.html#indexing-view-versus-copy\n",
      "  if sys.path[0] == '':\n",
      "C:\\Users\\marce\\Anaconda3\\lib\\site-packages\\ipykernel_launcher.py:14: SettingWithCopyWarning: \n",
      "A value is trying to be set on a copy of a slice from a DataFrame\n",
      "\n",
      "See the caveats in the documentation: http://pandas.pydata.org/pandas-docs/stable/indexing.html#indexing-view-versus-copy\n",
      "  \n"
     ]
    }
   ],
   "source": [
    "lottacrop.crop_list[lottacrop['crop_list'].str.contains('ALMOND')] = 'ALMOND'\n",
    "lottacrop.crop_list[lottacrop['crop_list'].str.contains('GRAPE')] = 'GRAPE'\n",
    "lottacrop.crop_list[lottacrop['crop_list'].str.contains('OAT')] = 'OAT'\n",
    "lottacrop.crop_list[lottacrop['crop_list'].str.contains('RICE')] = 'RICE'\n",
    "lottacrop.crop_list[lottacrop['crop_list'].str.contains('SUNFLOWER')] = 'SUNFLOWER'\n",
    "lottacrop.crop_list[lottacrop['crop_list'].str.contains('WALNUT')] = 'WALNUT'\n",
    "\n",
    "lottacrop.crop_list[lottacrop['crop_list'].str.contains('ALFALFA')] = 'ALFALFA'\n",
    "\n",
    "lottacrop.crop_list[lottacrop['crop_list'].str.contains('CORN')] = 'CORN'\n",
    "lottacrop.crop_list[lottacrop['crop_list'].str.contains('WHEAT')] = 'WHEAT'\n",
    "lottacrop.crop_list[lottacrop['crop_list'].str.contains('TOMATO')] = 'TOMATO'\n",
    "\n",
    "lottacrop.crop_list[lottacrop['crop_list'].str.contains('SAFFLOWER')] = 'SAFFLOWER'\n",
    "\n",
    "\n",
    "\n",
    "\n",
    "\n",
    "\n"
   ]
  },
  {
   "cell_type": "code",
   "execution_count": 7,
   "metadata": {},
   "outputs": [
    {
     "name": "stderr",
     "output_type": "stream",
     "text": [
      "C:\\Users\\marce\\Anaconda3\\lib\\site-packages\\ipykernel_launcher.py:1: SettingWithCopyWarning: \n",
      "A value is trying to be set on a copy of a slice from a DataFrame\n",
      "\n",
      "See the caveats in the documentation: http://pandas.pydata.org/pandas-docs/stable/indexing.html#indexing-view-versus-copy\n",
      "  \"\"\"Entry point for launching an IPython kernel.\n",
      "C:\\Users\\marce\\Anaconda3\\lib\\site-packages\\ipykernel_launcher.py:2: SettingWithCopyWarning: \n",
      "A value is trying to be set on a copy of a slice from a DataFrame\n",
      "\n",
      "See the caveats in the documentation: http://pandas.pydata.org/pandas-docs/stable/indexing.html#indexing-view-versus-copy\n",
      "  \n",
      "C:\\Users\\marce\\Anaconda3\\lib\\site-packages\\ipykernel_launcher.py:3: SettingWithCopyWarning: \n",
      "A value is trying to be set on a copy of a slice from a DataFrame\n",
      "\n",
      "See the caveats in the documentation: http://pandas.pydata.org/pandas-docs/stable/indexing.html#indexing-view-versus-copy\n",
      "  This is separate from the ipykernel package so we can avoid doing imports until\n",
      "C:\\Users\\marce\\Anaconda3\\lib\\site-packages\\ipykernel_launcher.py:4: SettingWithCopyWarning: \n",
      "A value is trying to be set on a copy of a slice from a DataFrame\n",
      "\n",
      "See the caveats in the documentation: http://pandas.pydata.org/pandas-docs/stable/indexing.html#indexing-view-versus-copy\n",
      "  after removing the cwd from sys.path.\n",
      "C:\\Users\\marce\\Anaconda3\\lib\\site-packages\\ipykernel_launcher.py:5: SettingWithCopyWarning: \n",
      "A value is trying to be set on a copy of a slice from a DataFrame\n",
      "\n",
      "See the caveats in the documentation: http://pandas.pydata.org/pandas-docs/stable/indexing.html#indexing-view-versus-copy\n",
      "  \"\"\"\n",
      "C:\\Users\\marce\\Anaconda3\\lib\\site-packages\\ipykernel_launcher.py:6: SettingWithCopyWarning: \n",
      "A value is trying to be set on a copy of a slice from a DataFrame\n",
      "\n",
      "See the caveats in the documentation: http://pandas.pydata.org/pandas-docs/stable/indexing.html#indexing-view-versus-copy\n",
      "  \n",
      "C:\\Users\\marce\\Anaconda3\\lib\\site-packages\\ipykernel_launcher.py:7: SettingWithCopyWarning: \n",
      "A value is trying to be set on a copy of a slice from a DataFrame\n",
      "\n",
      "See the caveats in the documentation: http://pandas.pydata.org/pandas-docs/stable/indexing.html#indexing-view-versus-copy\n",
      "  import sys\n",
      "C:\\Users\\marce\\Anaconda3\\lib\\site-packages\\ipykernel_launcher.py:9: SettingWithCopyWarning: \n",
      "A value is trying to be set on a copy of a slice from a DataFrame\n",
      "\n",
      "See the caveats in the documentation: http://pandas.pydata.org/pandas-docs/stable/indexing.html#indexing-view-versus-copy\n",
      "  if __name__ == '__main__':\n",
      "C:\\Users\\marce\\Anaconda3\\lib\\site-packages\\ipykernel_launcher.py:10: SettingWithCopyWarning: \n",
      "A value is trying to be set on a copy of a slice from a DataFrame\n",
      "\n",
      "See the caveats in the documentation: http://pandas.pydata.org/pandas-docs/stable/indexing.html#indexing-view-versus-copy\n",
      "  # Remove the CWD from sys.path while we load stuff.\n",
      "C:\\Users\\marce\\Anaconda3\\lib\\site-packages\\ipykernel_launcher.py:11: SettingWithCopyWarning: \n",
      "A value is trying to be set on a copy of a slice from a DataFrame\n",
      "\n",
      "See the caveats in the documentation: http://pandas.pydata.org/pandas-docs/stable/indexing.html#indexing-view-versus-copy\n",
      "  # This is added back by InteractiveShellApp.init_path()\n",
      "C:\\Users\\marce\\Anaconda3\\lib\\site-packages\\ipykernel_launcher.py:13: SettingWithCopyWarning: \n",
      "A value is trying to be set on a copy of a slice from a DataFrame\n",
      "\n",
      "See the caveats in the documentation: http://pandas.pydata.org/pandas-docs/stable/indexing.html#indexing-view-versus-copy\n",
      "  del sys.path[0]\n"
     ]
    }
   ],
   "source": [
    "nonorg.crop_list[nonorg['crop_list'].str.contains('ALMOND')] = 'ALMOND'\n",
    "nonorg.crop_list[nonorg['crop_list'].str.contains('GRAPE')] = 'GRAPE'\n",
    "nonorg.crop_list[nonorg['crop_list'].str.contains('OAT')] = 'OAT'\n",
    "nonorg.crop_list[nonorg['crop_list'].str.contains('RICE')] = 'RICE'\n",
    "nonorg.crop_list[nonorg['crop_list'].str.contains('SUNFLOWER')] = 'SUNFLOWER'\n",
    "nonorg.crop_list[nonorg['crop_list'].str.contains('WALNUT')] = 'WALNUT'\n",
    "nonorg.crop_list[nonorg['crop_list'].str.contains('ALFALFA')] = 'ALFALFA'\n",
    "\n",
    "nonorg.crop_list[nonorg['crop_list'].str.contains('CORN')] = 'CORN'\n",
    "nonorg.crop_list[nonorg['crop_list'].str.contains('WHEAT')] = 'WHEAT'\n",
    "nonorg.crop_list[nonorg['crop_list'].str.contains('TOMATO')] = 'TOMATO'\n",
    "\n",
    "nonorg.crop_list[nonorg['crop_list'].str.contains('SAFFLOWER')] = 'SAFFLOWER'\n",
    "\n",
    "\n",
    "\n",
    "\n",
    "\n",
    "\n",
    "\n",
    "\n",
    "\n"
   ]
  },
  {
   "cell_type": "code",
   "execution_count": 8,
   "metadata": {
    "scrolled": true
   },
   "outputs": [
    {
     "ename": "SyntaxError",
     "evalue": "invalid syntax (<ipython-input-8-786198a09a3c>, line 1)",
     "output_type": "error",
     "traceback": [
      "\u001b[1;36m  File \u001b[1;32m\"<ipython-input-8-786198a09a3c>\"\u001b[1;36m, line \u001b[1;32m1\u001b[0m\n\u001b[1;33m    OAT 338\u001b[0m\n\u001b[1;37m          ^\u001b[0m\n\u001b[1;31mSyntaxError\u001b[0m\u001b[1;31m:\u001b[0m invalid syntax\n"
     ]
    }
   ],
   "source": [
    "OAT 338\n",
    "SAFFLOWER 348\n",
    "CORN 355\n",
    "WALNUT 600\n",
    "GRAPE 676\n",
    "RICE 773\n",
    "UNKNOWN 1021\n",
    "ALMOND 1099\n",
    "SUNFLOWER SEED 1216\n",
    "WHEAT 1323\n",
    "UNCULTIVATED AG 1444\n",
    "ALFALFA 1541\n",
    "TOMATO PROCESS 1702"
   ]
  },
  {
   "cell_type": "code",
   "execution_count": 9,
   "metadata": {},
   "outputs": [
    {
     "name": "stderr",
     "output_type": "stream",
     "text": [
      "C:\\Users\\marce\\Anaconda3\\lib\\site-packages\\ipykernel_launcher.py:2: SettingWithCopyWarning: \n",
      "A value is trying to be set on a copy of a slice from a DataFrame.\n",
      "Try using .loc[row_indexer,col_indexer] = value instead\n",
      "\n",
      "See the caveats in the documentation: http://pandas.pydata.org/pandas-docs/stable/indexing.html#indexing-view-versus-copy\n",
      "  \n"
     ]
    }
   ],
   "source": [
    "nonorg['code'] = nonorg.crop_list.astype('category').cat.codes\n",
    "lottacrop['code'] = lottacrop.crop_list.astype('category').cat.codes"
   ]
  },
  {
   "cell_type": "code",
   "execution_count": 10,
   "metadata": {},
   "outputs": [],
   "source": [
    "firstx = lottacrop.iloc[:,1:61].dropna()\n",
    "secondx = lottacrop.iloc[:,85:-1].dropna()"
   ]
  },
  {
   "cell_type": "markdown",
   "metadata": {},
   "source": [
    "## Marcel Look Here for stuff"
   ]
  },
  {
   "cell_type": "code",
   "execution_count": 11,
   "metadata": {},
   "outputs": [],
   "source": [
    "fullx = firstx.join(secondx).dropna()\n",
    "fully = lottacrop.loc[fullx.index,'code']\n",
    "fully.shape\n",
    "X_train, X_test, Y_train, Y_test = train_test_split(fullx,fully,test_size = .4)"
   ]
  },
  {
   "cell_type": "code",
   "execution_count": 14,
   "metadata": {},
   "outputs": [
    {
     "data": {
      "text/plain": [
       "{'WALNUT': 9,\n",
       " 'ALFALFA': 0,\n",
       " 'OAT': 4,\n",
       " 'GRAPE': 3,\n",
       " 'ALMOND': 1,\n",
       " 'WHEAT': 10,\n",
       " 'RICE': 5,\n",
       " 'Corn': 2}"
      ]
     },
     "execution_count": 14,
     "metadata": {},
     "output_type": "execute_result"
    }
   ],
   "source": [
    "nonorg[['crop_list','code']][nonorg['crop_list'] != 0]\n",
    "\n",
    "{\"WALNUT\":9,\"ALFALFA\":0,\"OAT\":4,\"GRAPE\":3,\"ALMOND\":1,\"WHEAT\":10,\"RICE\":5,\"Corn\":2,}"
   ]
  },
  {
   "cell_type": "code",
   "execution_count": 15,
   "metadata": {},
   "outputs": [],
   "source": [
    "from sklearn.multiclass import OneVsOneClassifier\n",
    "from sklearn.svm import LinearSVC\n",
    "from sklearn.neighbors.nearest_centroid import NearestCentroid\n",
    "from sklearn.neighbors import RadiusNeighborsClassifier\n",
    "from sklearn.ensemble import RandomForestClassifier\n",
    "from sklearn.ensemble import ExtraTreesClassifier\n",
    "from sklearn.neural_network import MLPClassifier\n",
    "\n",
    "from sklearn.tree import DecisionTreeClassifier\n",
    "\n",
    "import numpy as np\n",
    "import matplotlib.pyplot as plt\n",
    "from matplotlib.colors import ListedColormap\n",
    "from sklearn import neighbors, datasets\n",
    "n_neighbors = 25\n",
    "\n",
    "RFC = RandomForestClassifier()\n",
    "DTC = DecisionTreeClassifier\n",
    "extra = ExtraTreesClassifier()\n",
    "\n",
    "m = MLPClassifier(hidden_layer_sizes=(30,30,30), random_state=1)\n",
    "\n",
    "clf = neighbors.KNeighborsClassifier(n_neighbors, weights='distance',algorithm='ball_tree')\n",
    "clf.fit(X_train, Y_train)\n",
    "neigh = RadiusNeighborsClassifier(radius=3000.0)\n",
    "RFF = RadiusNeighborsClassifier()\n",
    "extra.fit(X_train,Y_train)\n",
    "#DTC.fit(X_train,Y_train)\n",
    "RFC.fit(X_train,Y_train)\n",
    "tester = OneVsOneClassifier(LinearSVC(random_state=0)).fit(X_train, Y_train)"
   ]
  },
  {
   "cell_type": "code",
   "execution_count": 16,
   "metadata": {},
   "outputs": [
    {
     "name": "stdout",
     "output_type": "stream",
     "text": [
      "0.6281370656370656\n",
      "0.880550193050193\n",
      "0.8923745173745173\n",
      "0.8800675675675675\n"
     ]
    }
   ],
   "source": [
    "preds = tester.predict(X_test)\n",
    "\n",
    "print(tester.score(X_test,Y_test))\n",
    "print(clf.score(X_test,Y_test))\n",
    "print(extra.score(X_test,Y_test))\n",
    "#print(DTC.score(X_test,Y_test))\n",
    "print(RFC.score(X_test,Y_test))\n",
    "\n"
   ]
  },
  {
   "cell_type": "code",
   "execution_count": 17,
   "metadata": {},
   "outputs": [],
   "source": [
    "misclassified = np.where(Y_test != RFC.predict(X_test))\n"
   ]
  },
  {
   "cell_type": "code",
   "execution_count": 18,
   "metadata": {},
   "outputs": [],
   "source": [
    "a = X_test.iloc[misclassified].index"
   ]
  },
  {
   "cell_type": "code",
   "execution_count": 111,
   "metadata": {},
   "outputs": [
    {
     "data": {
      "text/html": [
       "<div>\n",
       "<style scoped>\n",
       "    .dataframe tbody tr th:only-of-type {\n",
       "        vertical-align: middle;\n",
       "    }\n",
       "\n",
       "    .dataframe tbody tr th {\n",
       "        vertical-align: top;\n",
       "    }\n",
       "\n",
       "    .dataframe thead th {\n",
       "        text-align: right;\n",
       "    }\n",
       "</style>\n",
       "<table border=\"1\" class=\"dataframe\">\n",
       "  <thead>\n",
       "    <tr style=\"text-align: right;\">\n",
       "      <th></th>\n",
       "      <th>OBJECTID</th>\n",
       "      <th>crop_list</th>\n",
       "    </tr>\n",
       "  </thead>\n",
       "  <tbody>\n",
       "    <tr>\n",
       "      <th>0</th>\n",
       "      <td>2428538</td>\n",
       "      <td>SAFFLOWER</td>\n",
       "    </tr>\n",
       "    <tr>\n",
       "      <th>1</th>\n",
       "      <td>2443847</td>\n",
       "      <td>WALNUT</td>\n",
       "    </tr>\n",
       "    <tr>\n",
       "      <th>2</th>\n",
       "      <td>2770079</td>\n",
       "      <td>ALFALFA</td>\n",
       "    </tr>\n",
       "    <tr>\n",
       "      <th>3</th>\n",
       "      <td>2771103</td>\n",
       "      <td>ALFALFA</td>\n",
       "    </tr>\n",
       "    <tr>\n",
       "      <th>4</th>\n",
       "      <td>2771489</td>\n",
       "      <td>ALFALFA</td>\n",
       "    </tr>\n",
       "    <tr>\n",
       "      <th>5</th>\n",
       "      <td>2875156</td>\n",
       "      <td>ALMOND</td>\n",
       "    </tr>\n",
       "    <tr>\n",
       "      <th>6</th>\n",
       "      <td>2875159</td>\n",
       "      <td>SUNFLOWER</td>\n",
       "    </tr>\n",
       "    <tr>\n",
       "      <th>7</th>\n",
       "      <td>2875946</td>\n",
       "      <td>ALMOND</td>\n",
       "    </tr>\n",
       "    <tr>\n",
       "      <th>8</th>\n",
       "      <td>2875950</td>\n",
       "      <td>WHEAT</td>\n",
       "    </tr>\n",
       "    <tr>\n",
       "      <th>9</th>\n",
       "      <td>2876572</td>\n",
       "      <td>TOMATO</td>\n",
       "    </tr>\n",
       "    <tr>\n",
       "      <th>10</th>\n",
       "      <td>2877284</td>\n",
       "      <td>TOMATO</td>\n",
       "    </tr>\n",
       "    <tr>\n",
       "      <th>11</th>\n",
       "      <td>2886973</td>\n",
       "      <td>TOMATO</td>\n",
       "    </tr>\n",
       "    <tr>\n",
       "      <th>12</th>\n",
       "      <td>2886975</td>\n",
       "      <td>TOMATO</td>\n",
       "    </tr>\n",
       "    <tr>\n",
       "      <th>13</th>\n",
       "      <td>2886976</td>\n",
       "      <td>TOMATO</td>\n",
       "    </tr>\n",
       "    <tr>\n",
       "      <th>14</th>\n",
       "      <td>2888365</td>\n",
       "      <td>SUNFLOWER</td>\n",
       "    </tr>\n",
       "    <tr>\n",
       "      <th>15</th>\n",
       "      <td>2916743</td>\n",
       "      <td>SUNFLOWER</td>\n",
       "    </tr>\n",
       "    <tr>\n",
       "      <th>16</th>\n",
       "      <td>2916744</td>\n",
       "      <td>TOMATO</td>\n",
       "    </tr>\n",
       "    <tr>\n",
       "      <th>17</th>\n",
       "      <td>3004416</td>\n",
       "      <td>GRAPE</td>\n",
       "    </tr>\n",
       "    <tr>\n",
       "      <th>18</th>\n",
       "      <td>3018191</td>\n",
       "      <td>TOMATO</td>\n",
       "    </tr>\n",
       "    <tr>\n",
       "      <th>19</th>\n",
       "      <td>3018192</td>\n",
       "      <td>WHEAT</td>\n",
       "    </tr>\n",
       "    <tr>\n",
       "      <th>20</th>\n",
       "      <td>3020083</td>\n",
       "      <td>GRAPE</td>\n",
       "    </tr>\n",
       "    <tr>\n",
       "      <th>21</th>\n",
       "      <td>3021057</td>\n",
       "      <td>GRAPE</td>\n",
       "    </tr>\n",
       "    <tr>\n",
       "      <th>22</th>\n",
       "      <td>3030805</td>\n",
       "      <td>ALFALFA</td>\n",
       "    </tr>\n",
       "    <tr>\n",
       "      <th>23</th>\n",
       "      <td>3031609</td>\n",
       "      <td>ALFALFA</td>\n",
       "    </tr>\n",
       "    <tr>\n",
       "      <th>24</th>\n",
       "      <td>3031887</td>\n",
       "      <td>SUNFLOWER</td>\n",
       "    </tr>\n",
       "    <tr>\n",
       "      <th>25</th>\n",
       "      <td>3033021</td>\n",
       "      <td>ALMOND</td>\n",
       "    </tr>\n",
       "    <tr>\n",
       "      <th>26</th>\n",
       "      <td>3033297</td>\n",
       "      <td>TOMATO</td>\n",
       "    </tr>\n",
       "    <tr>\n",
       "      <th>27</th>\n",
       "      <td>3037376</td>\n",
       "      <td>GRAPE</td>\n",
       "    </tr>\n",
       "    <tr>\n",
       "      <th>28</th>\n",
       "      <td>3038310</td>\n",
       "      <td>RICE</td>\n",
       "    </tr>\n",
       "    <tr>\n",
       "      <th>29</th>\n",
       "      <td>3039132</td>\n",
       "      <td>ALFALFA</td>\n",
       "    </tr>\n",
       "    <tr>\n",
       "      <th>...</th>\n",
       "      <td>...</td>\n",
       "      <td>...</td>\n",
       "    </tr>\n",
       "    <tr>\n",
       "      <th>467</th>\n",
       "      <td>3456037</td>\n",
       "      <td>RICE</td>\n",
       "    </tr>\n",
       "    <tr>\n",
       "      <th>468</th>\n",
       "      <td>3456163</td>\n",
       "      <td>TOMATO</td>\n",
       "    </tr>\n",
       "    <tr>\n",
       "      <th>469</th>\n",
       "      <td>3456168</td>\n",
       "      <td>ALFALFA</td>\n",
       "    </tr>\n",
       "    <tr>\n",
       "      <th>470</th>\n",
       "      <td>3456172</td>\n",
       "      <td>WHEAT</td>\n",
       "    </tr>\n",
       "    <tr>\n",
       "      <th>471</th>\n",
       "      <td>3456808</td>\n",
       "      <td>SUNFLOWER</td>\n",
       "    </tr>\n",
       "    <tr>\n",
       "      <th>472</th>\n",
       "      <td>3457863</td>\n",
       "      <td>SUNFLOWER</td>\n",
       "    </tr>\n",
       "    <tr>\n",
       "      <th>473</th>\n",
       "      <td>3457971</td>\n",
       "      <td>TOMATO</td>\n",
       "    </tr>\n",
       "    <tr>\n",
       "      <th>474</th>\n",
       "      <td>3458366</td>\n",
       "      <td>TOMATO</td>\n",
       "    </tr>\n",
       "    <tr>\n",
       "      <th>475</th>\n",
       "      <td>3458372</td>\n",
       "      <td>TOMATO</td>\n",
       "    </tr>\n",
       "    <tr>\n",
       "      <th>476</th>\n",
       "      <td>3458941</td>\n",
       "      <td>SUNFLOWER</td>\n",
       "    </tr>\n",
       "    <tr>\n",
       "      <th>477</th>\n",
       "      <td>3459241</td>\n",
       "      <td>ALMOND</td>\n",
       "    </tr>\n",
       "    <tr>\n",
       "      <th>478</th>\n",
       "      <td>3459341</td>\n",
       "      <td>SAFFLOWER</td>\n",
       "    </tr>\n",
       "    <tr>\n",
       "      <th>479</th>\n",
       "      <td>3459344</td>\n",
       "      <td>TOMATO</td>\n",
       "    </tr>\n",
       "    <tr>\n",
       "      <th>480</th>\n",
       "      <td>3459347</td>\n",
       "      <td>ALFALFA</td>\n",
       "    </tr>\n",
       "    <tr>\n",
       "      <th>481</th>\n",
       "      <td>3459350</td>\n",
       "      <td>TOMATO</td>\n",
       "    </tr>\n",
       "    <tr>\n",
       "      <th>482</th>\n",
       "      <td>3460121</td>\n",
       "      <td>WHEAT</td>\n",
       "    </tr>\n",
       "    <tr>\n",
       "      <th>483</th>\n",
       "      <td>3460271</td>\n",
       "      <td>WHEAT</td>\n",
       "    </tr>\n",
       "    <tr>\n",
       "      <th>484</th>\n",
       "      <td>3460697</td>\n",
       "      <td>CORN</td>\n",
       "    </tr>\n",
       "    <tr>\n",
       "      <th>485</th>\n",
       "      <td>3461430</td>\n",
       "      <td>SUNFLOWER</td>\n",
       "    </tr>\n",
       "    <tr>\n",
       "      <th>486</th>\n",
       "      <td>3461518</td>\n",
       "      <td>GRAPE</td>\n",
       "    </tr>\n",
       "    <tr>\n",
       "      <th>487</th>\n",
       "      <td>3461632</td>\n",
       "      <td>ALMOND</td>\n",
       "    </tr>\n",
       "    <tr>\n",
       "      <th>488</th>\n",
       "      <td>3461750</td>\n",
       "      <td>CORN</td>\n",
       "    </tr>\n",
       "    <tr>\n",
       "      <th>489</th>\n",
       "      <td>3461936</td>\n",
       "      <td>WHEAT</td>\n",
       "    </tr>\n",
       "    <tr>\n",
       "      <th>490</th>\n",
       "      <td>3462443</td>\n",
       "      <td>WHEAT</td>\n",
       "    </tr>\n",
       "    <tr>\n",
       "      <th>491</th>\n",
       "      <td>3462444</td>\n",
       "      <td>GRAPE</td>\n",
       "    </tr>\n",
       "    <tr>\n",
       "      <th>492</th>\n",
       "      <td>3462446</td>\n",
       "      <td>SAFFLOWER</td>\n",
       "    </tr>\n",
       "    <tr>\n",
       "      <th>493</th>\n",
       "      <td>3462449</td>\n",
       "      <td>OAT</td>\n",
       "    </tr>\n",
       "    <tr>\n",
       "      <th>494</th>\n",
       "      <td>3463303</td>\n",
       "      <td>SAFFLOWER</td>\n",
       "    </tr>\n",
       "    <tr>\n",
       "      <th>495</th>\n",
       "      <td>3466393</td>\n",
       "      <td>TOMATO</td>\n",
       "    </tr>\n",
       "    <tr>\n",
       "      <th>496</th>\n",
       "      <td>3467175</td>\n",
       "      <td>SAFFLOWER</td>\n",
       "    </tr>\n",
       "  </tbody>\n",
       "</table>\n",
       "<p>497 rows × 2 columns</p>\n",
       "</div>"
      ],
      "text/plain": [
       "     OBJECTID  crop_list\n",
       "0     2428538  SAFFLOWER\n",
       "1     2443847     WALNUT\n",
       "2     2770079    ALFALFA\n",
       "3     2771103    ALFALFA\n",
       "4     2771489    ALFALFA\n",
       "5     2875156     ALMOND\n",
       "6     2875159  SUNFLOWER\n",
       "7     2875946     ALMOND\n",
       "8     2875950      WHEAT\n",
       "9     2876572     TOMATO\n",
       "10    2877284     TOMATO\n",
       "11    2886973     TOMATO\n",
       "12    2886975     TOMATO\n",
       "13    2886976     TOMATO\n",
       "14    2888365  SUNFLOWER\n",
       "15    2916743  SUNFLOWER\n",
       "16    2916744     TOMATO\n",
       "17    3004416      GRAPE\n",
       "18    3018191     TOMATO\n",
       "19    3018192      WHEAT\n",
       "20    3020083      GRAPE\n",
       "21    3021057      GRAPE\n",
       "22    3030805    ALFALFA\n",
       "23    3031609    ALFALFA\n",
       "24    3031887  SUNFLOWER\n",
       "25    3033021     ALMOND\n",
       "26    3033297     TOMATO\n",
       "27    3037376      GRAPE\n",
       "28    3038310       RICE\n",
       "29    3039132    ALFALFA\n",
       "..        ...        ...\n",
       "467   3456037       RICE\n",
       "468   3456163     TOMATO\n",
       "469   3456168    ALFALFA\n",
       "470   3456172      WHEAT\n",
       "471   3456808  SUNFLOWER\n",
       "472   3457863  SUNFLOWER\n",
       "473   3457971     TOMATO\n",
       "474   3458366     TOMATO\n",
       "475   3458372     TOMATO\n",
       "476   3458941  SUNFLOWER\n",
       "477   3459241     ALMOND\n",
       "478   3459341  SAFFLOWER\n",
       "479   3459344     TOMATO\n",
       "480   3459347    ALFALFA\n",
       "481   3459350     TOMATO\n",
       "482   3460121      WHEAT\n",
       "483   3460271      WHEAT\n",
       "484   3460697       CORN\n",
       "485   3461430  SUNFLOWER\n",
       "486   3461518      GRAPE\n",
       "487   3461632     ALMOND\n",
       "488   3461750       CORN\n",
       "489   3461936      WHEAT\n",
       "490   3462443      WHEAT\n",
       "491   3462444      GRAPE\n",
       "492   3462446  SAFFLOWER\n",
       "493   3462449        OAT\n",
       "494   3463303  SAFFLOWER\n",
       "495   3466393     TOMATO\n",
       "496   3467175  SAFFLOWER\n",
       "\n",
       "[497 rows x 2 columns]"
      ]
     },
     "execution_count": 111,
     "metadata": {},
     "output_type": "execute_result"
    }
   ],
   "source": [
    "b = pd.DataFrame(lottacrop.iloc[misclassified][[\"OBJECTID\", \"crop_list\"]]).reset_index(drop = True)\n",
    "b"
   ]
  },
  {
   "cell_type": "code",
   "execution_count": 100,
   "metadata": {},
   "outputs": [
    {
     "name": "stderr",
     "output_type": "stream",
     "text": [
      "C:\\Users\\marce\\Anaconda3\\lib\\site-packages\\ipykernel_launcher.py:2: SettingWithCopyWarning: \n",
      "A value is trying to be set on a copy of a slice from a DataFrame\n",
      "\n",
      "See the caveats in the documentation: http://pandas.pydata.org/pandas-docs/stable/indexing.html#indexing-view-versus-copy\n",
      "  \n",
      "C:\\Users\\marce\\Anaconda3\\lib\\site-packages\\pandas\\core\\generic.py:5984: SettingWithCopyWarning: \n",
      "A value is trying to be set on a copy of a slice from a DataFrame\n",
      "\n",
      "See the caveats in the documentation: http://pandas.pydata.org/pandas-docs/stable/indexing.html#indexing-view-versus-copy\n",
      "  self._update_inplace(new_data)\n",
      "C:\\Users\\marce\\Anaconda3\\lib\\site-packages\\IPython\\core\\interactiveshell.py:2963: SettingWithCopyWarning: \n",
      "A value is trying to be set on a copy of a slice from a DataFrame\n",
      "\n",
      "See the caveats in the documentation: http://pandas.pydata.org/pandas-docs/stable/indexing.html#indexing-view-versus-copy\n",
      "  exec(code_obj, self.user_global_ns, self.user_ns)\n",
      "C:\\Users\\marce\\Anaconda3\\lib\\site-packages\\ipykernel_launcher.py:3: SettingWithCopyWarning: \n",
      "A value is trying to be set on a copy of a slice from a DataFrame\n",
      "\n",
      "See the caveats in the documentation: http://pandas.pydata.org/pandas-docs/stable/indexing.html#indexing-view-versus-copy\n",
      "  This is separate from the ipykernel package so we can avoid doing imports until\n",
      "C:\\Users\\marce\\Anaconda3\\lib\\site-packages\\ipykernel_launcher.py:4: SettingWithCopyWarning: \n",
      "A value is trying to be set on a copy of a slice from a DataFrame\n",
      "\n",
      "See the caveats in the documentation: http://pandas.pydata.org/pandas-docs/stable/indexing.html#indexing-view-versus-copy\n",
      "  after removing the cwd from sys.path.\n",
      "C:\\Users\\marce\\Anaconda3\\lib\\site-packages\\ipykernel_launcher.py:5: SettingWithCopyWarning: \n",
      "A value is trying to be set on a copy of a slice from a DataFrame\n",
      "\n",
      "See the caveats in the documentation: http://pandas.pydata.org/pandas-docs/stable/indexing.html#indexing-view-versus-copy\n",
      "  \"\"\"\n",
      "C:\\Users\\marce\\Anaconda3\\lib\\site-packages\\ipykernel_launcher.py:6: SettingWithCopyWarning: \n",
      "A value is trying to be set on a copy of a slice from a DataFrame\n",
      "\n",
      "See the caveats in the documentation: http://pandas.pydata.org/pandas-docs/stable/indexing.html#indexing-view-versus-copy\n",
      "  \n",
      "C:\\Users\\marce\\Anaconda3\\lib\\site-packages\\ipykernel_launcher.py:7: SettingWithCopyWarning: \n",
      "A value is trying to be set on a copy of a slice from a DataFrame\n",
      "\n",
      "See the caveats in the documentation: http://pandas.pydata.org/pandas-docs/stable/indexing.html#indexing-view-versus-copy\n",
      "  import sys\n",
      "C:\\Users\\marce\\Anaconda3\\lib\\site-packages\\ipykernel_launcher.py:8: SettingWithCopyWarning: \n",
      "A value is trying to be set on a copy of a slice from a DataFrame\n",
      "\n",
      "See the caveats in the documentation: http://pandas.pydata.org/pandas-docs/stable/indexing.html#indexing-view-versus-copy\n",
      "  \n",
      "C:\\Users\\marce\\Anaconda3\\lib\\site-packages\\ipykernel_launcher.py:10: SettingWithCopyWarning: \n",
      "A value is trying to be set on a copy of a slice from a DataFrame\n",
      "\n",
      "See the caveats in the documentation: http://pandas.pydata.org/pandas-docs/stable/indexing.html#indexing-view-versus-copy\n",
      "  # Remove the CWD from sys.path while we load stuff.\n",
      "C:\\Users\\marce\\Anaconda3\\lib\\site-packages\\ipykernel_launcher.py:11: SettingWithCopyWarning: \n",
      "A value is trying to be set on a copy of a slice from a DataFrame\n",
      "\n",
      "See the caveats in the documentation: http://pandas.pydata.org/pandas-docs/stable/indexing.html#indexing-view-versus-copy\n",
      "  # This is added back by InteractiveShellApp.init_path()\n",
      "C:\\Users\\marce\\Anaconda3\\lib\\site-packages\\ipykernel_launcher.py:12: SettingWithCopyWarning: \n",
      "A value is trying to be set on a copy of a slice from a DataFrame\n",
      "\n",
      "See the caveats in the documentation: http://pandas.pydata.org/pandas-docs/stable/indexing.html#indexing-view-versus-copy\n",
      "  if sys.path[0] == '':\n",
      "C:\\Users\\marce\\Anaconda3\\lib\\site-packages\\ipykernel_launcher.py:14: SettingWithCopyWarning: \n",
      "A value is trying to be set on a copy of a slice from a DataFrame\n",
      "\n",
      "See the caveats in the documentation: http://pandas.pydata.org/pandas-docs/stable/indexing.html#indexing-view-versus-copy\n",
      "  \n"
     ]
    }
   ],
   "source": [
    "b = b.dropna()\n",
    "b.crop_list[b['crop_list'].str.contains('ALMOND')] = 'ALMOND'\n",
    "b.crop_list[b['crop_list'].str.contains('GRAPE')] = 'GRAPE'\n",
    "b.crop_list[b['crop_list'].str.contains('OAT')] = 'OAT'\n",
    "b.crop_list[b['crop_list'].str.contains('RICE')] = 'RICE'\n",
    "b.crop_list[b['crop_list'].str.contains('SUNFLOWER')] = 'SUNFLOWER'\n",
    "b.crop_list[b['crop_list'].str.contains('WALNUT')] = 'WALNUT'\n",
    "b.crop_list[b['crop_list'].str.contains('ALFALFA')] = 'ALFALFA'\n",
    "\n",
    "b.crop_list[b['crop_list'].str.contains('CORN')] = 'CORN'\n",
    "b.crop_list[b['crop_list'].str.contains('WHEAT')] = 'WHEAT'\n",
    "b.crop_list[b['crop_list'].str.contains('TOMATO')] = 'TOMATO'\n",
    "\n",
    "b.crop_list[b['crop_list'].str.contains('SAFFLOWER')] = 'SAFFLOWER'"
   ]
  },
  {
   "cell_type": "code",
   "execution_count": 101,
   "metadata": {},
   "outputs": [],
   "source": [
    "import geopandas as gpd"
   ]
  },
  {
   "cell_type": "code",
   "execution_count": 112,
   "metadata": {},
   "outputs": [
    {
     "data": {
      "text/plain": [
       "numpy.int64"
      ]
     },
     "execution_count": 112,
     "metadata": {},
     "output_type": "execute_result"
    }
   ],
   "source": [
    "cropfields = gpd.read_file(\"Crops_2016/Crops_2016_26910.shp\")\n",
    "cropfields1 = cropfields[[\"OBJECTID\", \"geometry\"]]\n",
    "type(cropfields1[\"OBJECTID\"][0])"
   ]
  },
  {
   "cell_type": "code",
   "execution_count": 113,
   "metadata": {},
   "outputs": [
    {
     "data": {
      "text/plain": [
       "numpy.int64"
      ]
     },
     "execution_count": 113,
     "metadata": {},
     "output_type": "execute_result"
    }
   ],
   "source": [
    "type(b[\"OBJECTID\"][0])"
   ]
  },
  {
   "cell_type": "code",
   "execution_count": 114,
   "metadata": {},
   "outputs": [
    {
     "data": {
      "text/html": [
       "<div>\n",
       "<style scoped>\n",
       "    .dataframe tbody tr th:only-of-type {\n",
       "        vertical-align: middle;\n",
       "    }\n",
       "\n",
       "    .dataframe tbody tr th {\n",
       "        vertical-align: top;\n",
       "    }\n",
       "\n",
       "    .dataframe thead th {\n",
       "        text-align: right;\n",
       "    }\n",
       "</style>\n",
       "<table border=\"1\" class=\"dataframe\">\n",
       "  <thead>\n",
       "    <tr style=\"text-align: right;\">\n",
       "      <th></th>\n",
       "      <th>OBJECTID</th>\n",
       "      <th>geometry</th>\n",
       "    </tr>\n",
       "  </thead>\n",
       "  <tbody>\n",
       "    <tr>\n",
       "      <th>27</th>\n",
       "      <td>2428538</td>\n",
       "      <td>POLYGON ((595424.7293462916 4266354.60629323, ...</td>\n",
       "    </tr>\n",
       "  </tbody>\n",
       "</table>\n",
       "</div>"
      ],
      "text/plain": [
       "    OBJECTID                                           geometry\n",
       "27   2428538  POLYGON ((595424.7293462916 4266354.60629323, ..."
      ]
     },
     "execution_count": 114,
     "metadata": {},
     "output_type": "execute_result"
    }
   ],
   "source": [
    "cropfields1.loc[cropfields1[\"OBJECTID\"] == b[\"OBJECTID\"][0]]"
   ]
  },
  {
   "cell_type": "code",
   "execution_count": 115,
   "metadata": {},
   "outputs": [],
   "source": [
    "c =gpd.GeoDataFrame(b.merge(cropfields1, on = ['OBJECTID'], how = 'left'))\n",
    "c.crs = {'init': 'epsg:26910'}"
   ]
  },
  {
   "cell_type": "code",
   "execution_count": 116,
   "metadata": {},
   "outputs": [],
   "source": [
    "c= c.to_crs(\"+proj=longlat +datum=WGS84 +no_defs \")"
   ]
  },
  {
   "cell_type": "code",
   "execution_count": 117,
   "metadata": {},
   "outputs": [
    {
     "data": {
      "text/plain": [
       "0      SAFFLOWER\n",
       "1         WALNUT\n",
       "2        ALFALFA\n",
       "3        ALFALFA\n",
       "4        ALFALFA\n",
       "5         ALMOND\n",
       "6      SUNFLOWER\n",
       "7         ALMOND\n",
       "8          WHEAT\n",
       "9         TOMATO\n",
       "10        TOMATO\n",
       "11        TOMATO\n",
       "12        TOMATO\n",
       "13        TOMATO\n",
       "14     SUNFLOWER\n",
       "15     SUNFLOWER\n",
       "16        TOMATO\n",
       "17         GRAPE\n",
       "18        TOMATO\n",
       "19         WHEAT\n",
       "20         GRAPE\n",
       "21         GRAPE\n",
       "22       ALFALFA\n",
       "23       ALFALFA\n",
       "24     SUNFLOWER\n",
       "25        ALMOND\n",
       "26        TOMATO\n",
       "27         GRAPE\n",
       "28          RICE\n",
       "29       ALFALFA\n",
       "         ...    \n",
       "467         RICE\n",
       "468       TOMATO\n",
       "469      ALFALFA\n",
       "470        WHEAT\n",
       "471    SUNFLOWER\n",
       "472    SUNFLOWER\n",
       "473       TOMATO\n",
       "474       TOMATO\n",
       "475       TOMATO\n",
       "476    SUNFLOWER\n",
       "477       ALMOND\n",
       "478    SAFFLOWER\n",
       "479       TOMATO\n",
       "480      ALFALFA\n",
       "481       TOMATO\n",
       "482        WHEAT\n",
       "483        WHEAT\n",
       "484         CORN\n",
       "485    SUNFLOWER\n",
       "486        GRAPE\n",
       "487       ALMOND\n",
       "488         CORN\n",
       "489        WHEAT\n",
       "490        WHEAT\n",
       "491        GRAPE\n",
       "492    SAFFLOWER\n",
       "493          OAT\n",
       "494    SAFFLOWER\n",
       "495       TOMATO\n",
       "496    SAFFLOWER\n",
       "Name: crop_list, Length: 497, dtype: object"
      ]
     },
     "execution_count": 117,
     "metadata": {},
     "output_type": "execute_result"
    }
   ],
   "source": [
    "c[\"crop_list\"]"
   ]
  },
  {
   "cell_type": "code",
   "execution_count": 118,
   "metadata": {},
   "outputs": [],
   "source": [
    "counties = gpd.read_file(\"cb_2016_us_county_500k/cb_2016_us_county_500k.shp\")\n",
    "cali = counties[counties.STATEFP == \"06\"]\n",
    "keep = [\"Yolo\", \"Lake\", \"Colusa\", \"Sutter\", \"Sacramento\", \"Solano\", \"Napa\"]\n",
    "yolo = cali[cali.NAME.isin(keep)]"
   ]
  },
  {
   "cell_type": "code",
   "execution_count": 119,
   "metadata": {},
   "outputs": [
    {
     "data": {
      "text/plain": [
       "Text(44.3617,0.5,'Longitude')"
      ]
     },
     "execution_count": 119,
     "metadata": {},
     "output_type": "execute_result"
    },
    {
     "data": {
      "image/png": "[encoded data removed]",
      "text/plain": [
       "<Figure size 432x288 with 1 Axes>"
      ]
     },
     "metadata": {},
     "output_type": "display_data"
    }
   ],
   "source": [
    "ax = yolo.plot(color = \"white\", edgecolor = \"gray\")\n",
    "c.plot(ax =ax, edgecolor = 'black',color = 'blue', alpha = 0.5)\n",
    "ax.set_xlim([-122.5, -121.3])\n",
    "ax.set_ylim([38.2, 39])\n",
    "ax.set_title(\"Locations of Misclassified Crops\", fontsize = 18)\n",
    "ax.set_xlabel(\"Latitude\", fontsize = 12)\n",
    "ax.set_ylabel(\"Longitude\", fontsize = 12)"
   ]
  },
  {
   "cell_type": "code",
   "execution_count": 121,
   "metadata": {},
   "outputs": [
    {
     "data": {
      "text/plain": [
       "Text(44.3617,0.5,'Longitude')"
      ]
     },
     "execution_count": 121,
     "metadata": {},
     "output_type": "execute_result"
    },
    {
     "data": {
      "image/png": "[encoded data removed]",
      "text/plain": [
       "<Figure size 432x288 with 1 Axes>"
      ]
     },
     "metadata": {},
     "output_type": "display_data"
    }
   ],
   "source": [
    "tomato_mis = c[c[\"crop_list\"] == \"TOMATO\"]\n",
    "ax = yolo.plot(color = \"white\", edgecolor = \"gray\")\n",
    "tomato_mis.plot(ax =ax, edgecolor = 'black',color = 'blue', alpha = 0.5)\n",
    "ax.set_xlim([-122.5, -121.3])\n",
    "ax.set_ylim([38.2, 39])\n",
    "ax.set_title(\"Locations of Misclassified Crops\", fontsize = 18)\n",
    "ax.set_xlabel(\"Latitude\", fontsize = 12)\n",
    "ax.set_ylabel(\"Longitude\", fontsize = 12)"
   ]
  },
  {
   "cell_type": "code",
   "execution_count": 75,
   "metadata": {},
   "outputs": [
    {
     "data": {
      "text/plain": [
       "<matplotlib.axes._subplots.AxesSubplot at 0x163bce50240>"
      ]
     },
     "execution_count": 75,
     "metadata": {},
     "output_type": "execute_result"
    },
    {
     "data": {
      "image/png": "[encoded data removed]",
      "text/plain": [
       "<Figure size 432x288 with 1 Axes>"
      ]
     },
     "metadata": {},
     "output_type": "display_data"
    }
   ],
   "source": [
    "#tomato, alfalfa, sunflower"
   ]
  },
  {
   "cell_type": "code",
   "execution_count": 20,
   "metadata": {},
   "outputs": [
    {
     "data": {
      "text/plain": [
       "array([[588,  13,   0,   4,   0,   0,   3,   0,  13,   0,   5],\n",
       "       [  2, 387,   0,  12,   1,   0,   0,   2,   0,   3,   8],\n",
       "       [  5,   2, 130,   1,   7,   1,   5,   4,  15,   1,   3],\n",
       "       [  8,  25,   0, 219,   2,   0,   1,   0,   1,   5,   8],\n",
       "       [  4,   8,   0,   1, 105,   2,   1,   0,   0,   0,  22],\n",
       "       [  6,   1,   0,   1,   3, 281,   3,   5,   8,   2,   3],\n",
       "       [  4,   2,   2,   3,   3,   0, 114,   3,  12,   0,  12],\n",
       "       [  9,   8,   7,   0,   0,   3,   5, 424,  26,   0,   3],\n",
       "       [ 11,   1,  11,   0,   0,   1,   0,  43, 687,   0,   6],\n",
       "       [  7,  42,   0,  16,   0,   0,   0,   0,   2, 181,   3],\n",
       "       [ 11,   6,   1,   2,   1,   0,   5,   4,  12,   1, 510]])"
      ]
     },
     "execution_count": 20,
     "metadata": {},
     "output_type": "execute_result"
    }
   ],
   "source": [
    "confusion_matrix(Y_test,clf.predict(X_test))"
   ]
  },
  {
   "cell_type": "code",
   "execution_count": 81,
   "metadata": {},
   "outputs": [
    {
     "data": {
      "text/plain": [
       "array([[560,  12,   0,   6,   7,   0,   4,   2,  17,   0,   6],\n",
       "       [  3, 366,   1,  15,   5,   0,   0,   2,   2,   8,  13],\n",
       "       [  2,   5, 126,   2,   3,   1,   6,   2,  14,   0,   7],\n",
       "       [  4,  26,   0, 224,   1,   0,   0,   0,   3,   3,   5],\n",
       "       [  7,  12,   0,   2,  96,   2,   2,   0,   0,   0,  22],\n",
       "       [  7,   1,   0,   2,   0, 301,   4,   5,   3,   0,   3],\n",
       "       [  7,   2,   3,   3,   1,   0, 126,   1,  12,   0,  14],\n",
       "       [ 10,   7,   7,   0,   1,   4,   4, 414,  28,   1,   3],\n",
       "       [ 21,   2,  10,   1,   0,   0,   0,  34, 689,   0,   6],\n",
       "       [  4,  29,   0,  12,   0,   0,   0,   3,   1, 177,   3],\n",
       "       [ 12,   9,   1,   3,   6,   0,   6,   3,  16,   0, 516]])"
      ]
     },
     "execution_count": 81,
     "metadata": {},
     "output_type": "execute_result"
    }
   ],
   "source": [
    "confusion_matrix(Y_test,clf.predict(X_test))"
   ]
  },
  {
   "cell_type": "code",
   "execution_count": 21,
   "metadata": {},
   "outputs": [
    {
     "data": {
      "text/plain": [
       "array([6.68290773, 6.3773884 , 5.42152768, 6.00651255, 5.40756109,\n",
       "       5.78165692, 5.3790177 , 6.4844199 , 6.8418155 , 5.81146366,\n",
       "       6.47171971])"
      ]
     },
     "execution_count": 21,
     "metadata": {},
     "output_type": "execute_result"
    }
   ],
   "source": [
    "import scipy as sc\n",
    "entropy=sc.stats.entropy(extra.predict_proba(X_test))\n",
    "entropy"
   ]
  },
  {
   "cell_type": "code",
   "execution_count": 122,
   "metadata": {},
   "outputs": [
    {
     "ename": "NameError",
     "evalue": "name 'log' is not defined",
     "output_type": "error",
     "traceback": [
      "\u001b[1;31m---------------------------------------------------------------------------\u001b[0m",
      "\u001b[1;31mNameError\u001b[0m                                 Traceback (most recent call last)",
      "\u001b[1;32m<ipython-input-122-34f5b855dba7>\u001b[0m in \u001b[0;36m<module>\u001b[1;34m()\u001b[0m\n\u001b[0;32m      1\u001b[0m \u001b[0mpk\u001b[0m \u001b[1;33m=\u001b[0m \u001b[0mextra\u001b[0m\u001b[1;33m.\u001b[0m\u001b[0mpredict_proba\u001b[0m\u001b[1;33m(\u001b[0m\u001b[0mX_test\u001b[0m\u001b[1;33m)\u001b[0m\u001b[1;33m\u001b[0m\u001b[0m\n\u001b[1;32m----> 2\u001b[1;33m \u001b[0mpk\u001b[0m \u001b[1;33m*\u001b[0m \u001b[0mlog\u001b[0m\u001b[1;33m(\u001b[0m\u001b[0mpk\u001b[0m\u001b[1;33m)\u001b[0m\u001b[1;33m\u001b[0m\u001b[0m\n\u001b[0m",
      "\u001b[1;31mNameError\u001b[0m: name 'log' is not defined"
     ]
    }
   ],
   "source": [
    "pk = extra.predict_proba(X_test)\n",
    "pk * log(pk)"
   ]
  },
  {
   "cell_type": "code",
   "execution_count": 20,
   "metadata": {},
   "outputs": [
    {
     "name": "stderr",
     "output_type": "stream",
     "text": [
      "/home/marcel/anaconda3/lib/python3.6/site-packages/ipykernel_launcher.py:1: SettingWithCopyWarning: \n",
      "A value is trying to be set on a copy of a slice from a DataFrame.\n",
      "Try using .loc[row_indexer,col_indexer] = value instead\n",
      "\n",
      "See the caveats in the documentation: http://pandas.pydata.org/pandas-docs/stable/indexing.html#indexing-view-versus-copy\n",
      "  \"\"\"Entry point for launching an IPython kernel.\n"
     ]
    }
   ],
   "source": [
    "lottacrop['code'] = lottacrop.crop_list.astype('category').cat.codes\n",
    "fullx = lottacrop.iloc[:,1:61].dropna()\n",
    "fully = lottacrop.loc[fullx.index,'code']\n",
    "fully.shape\n",
    "X_train, X_test, Y_train, Y_test = train_test_split(fullx,fully,test_size = .4)"
   ]
  },
  {
   "cell_type": "code",
   "execution_count": 21,
   "metadata": {},
   "outputs": [],
   "source": [
    "from sklearn.multiclass import OneVsOneClassifier\n",
    "from sklearn.svm import LinearSVC\n",
    "from sklearn.neighbors.nearest_centroid import NearestCentroid\n",
    "from sklearn.neighbors import RadiusNeighborsClassifier\n",
    "from sklearn.ensemble import RandomForestClassifier\n",
    "from sklearn.ensemble import ExtraTreesClassifier\n",
    "\n",
    "\n",
    "from sklearn.tree import DecisionTreeClassifier\n",
    "\n",
    "import numpy as np\n",
    "import matplotlib.pyplot as plt\n",
    "from matplotlib.colors import ListedColormap\n",
    "from sklearn import neighbors, datasets\n",
    "n_neighbors = 25\n",
    "\n",
    "RFC = RandomForestClassifier()\n",
    "DTC = DecisionTreeClassifier\n",
    "extra = ExtraTreesClassifier()\n",
    "\n",
    "\n",
    "clf = neighbors.KNeighborsClassifier(n_neighbors, weights='distance',algorithm='ball_tree')\n",
    "clf.fit(X_train, Y_train)\n",
    "neigh = RadiusNeighborsClassifier(radius=3000.0)\n",
    "RFF = RadiusNeighborsClassifier()\n",
    "extra.fit(X_train,Y_train)\n",
    "#DTC.fit(X_train,Y_train)\n",
    "RFC.fit(X_train,Y_train)\n",
    "\n",
    "\n",
    "tester = OneVsOneClassifier(LinearSVC(random_state=0)).fit(X_train, Y_train)"
   ]
  },
  {
   "cell_type": "code",
   "execution_count": 24,
   "metadata": {},
   "outputs": [],
   "source": [
    "importances = extra.feature_importances_\n",
    "std = np.std([extra.feature_importances_ for tree in extra.estimators_],\n",
    "             axis=0)\n",
    "indices = np.argsort(importances)[::-1]\n"
   ]
  },
  {
   "cell_type": "code",
   "execution_count": 25,
   "metadata": {},
   "outputs": [
    {
     "data": {
      "text/plain": [
       "array([0.04307993, 0.04105589, 0.03918572, 0.03659485, 0.03359419,\n",
       "       0.03289997, 0.03277012, 0.03169145, 0.03112004, 0.02952319,\n",
       "       0.02919816, 0.02874238, 0.02767337, 0.0266987 , 0.02620187,\n",
       "       0.02607968, 0.02460791, 0.02412403, 0.02378635, 0.02307589,\n",
       "       0.02265635, 0.02247493, 0.02168421, 0.02108462, 0.02103608,\n",
       "       0.02075089, 0.02059096, 0.02024463, 0.0194381 , 0.01855488,\n",
       "       0.01837745, 0.01757303, 0.0167016 , 0.01650516, 0.01613722,\n",
       "       0.01543345, 0.01524107, 0.015197  , 0.01504396, 0.01495988,\n",
       "       0.01418389, 0.00131376, 0.00095572, 0.00088086, 0.00071299,\n",
       "       0.00056363, 0.        , 0.        , 0.        , 0.        ,\n",
       "       0.        , 0.        , 0.        , 0.        , 0.        ,\n",
       "       0.        , 0.        , 0.        ])"
      ]
     },
     "execution_count": 25,
     "metadata": {},
     "output_type": "execute_result"
    }
   ],
   "source": [
    "X_train.shape[1]\n",
    "importances[indices][:58]"
   ]
  },
  {
   "cell_type": "code",
   "execution_count": 26,
   "metadata": {},
   "outputs": [
    {
     "name": "stdout",
     "output_type": "stream",
     "text": [
      "Feature ranking:\n",
      "1. feature 7 (0.043080)\n",
      "2. feature 16 (0.041056)\n",
      "3. feature 9 (0.039186)\n",
      "4. feature 13 (0.036595)\n",
      "5. feature 15 (0.033594)\n"
     ]
    },
    {
     "ename": "TypeError",
     "evalue": "'int' object is not subscriptable",
     "output_type": "error",
     "traceback": [
      "\u001b[0;31m---------------------------------------------------------------------------\u001b[0m",
      "\u001b[0;31mTypeError\u001b[0m                                 Traceback (most recent call last)",
      "\u001b[0;32m<ipython-input-26-8e7fad662e4c>\u001b[0m in \u001b[0;36m<module>\u001b[0;34m()\u001b[0m\n\u001b[1;32m     12\u001b[0m \u001b[0mplt\u001b[0m\u001b[0;34m.\u001b[0m\u001b[0mylabel\u001b[0m \u001b[0;34m=\u001b[0m \u001b[0;34m'Importance'\u001b[0m\u001b[0;34m\u001b[0m\u001b[0m\n\u001b[1;32m     13\u001b[0m \u001b[0mplt\u001b[0m\u001b[0;34m.\u001b[0m\u001b[0mxlabel\u001b[0m \u001b[0;34m=\u001b[0m \u001b[0;34m'Features'\u001b[0m\u001b[0;34m\u001b[0m\u001b[0m\n\u001b[0;32m---> 14\u001b[0;31m \u001b[0mplt\u001b[0m\u001b[0;34m.\u001b[0m\u001b[0mxlim\u001b[0m\u001b[0;34m(\u001b[0m\u001b[0;34m[\u001b[0m\u001b[0;34m-\u001b[0m\u001b[0;36m1\u001b[0m\u001b[0;34m,\u001b[0m \u001b[0mX_train\u001b[0m\u001b[0;34m.\u001b[0m\u001b[0mshape\u001b[0m\u001b[0;34m[\u001b[0m\u001b[0;36m1\u001b[0m\u001b[0;34m]\u001b[0m\u001b[0;34m[\u001b[0m\u001b[0;34m:\u001b[0m\u001b[0;36m5\u001b[0m\u001b[0;34m]\u001b[0m\u001b[0;34m]\u001b[0m\u001b[0;34m)\u001b[0m\u001b[0;34m\u001b[0m\u001b[0m\n\u001b[0m\u001b[1;32m     15\u001b[0m \u001b[0;34m\u001b[0m\u001b[0m\n\u001b[1;32m     16\u001b[0m \u001b[0mplt\u001b[0m\u001b[0;34m.\u001b[0m\u001b[0mshow\u001b[0m\u001b[0;34m(\u001b[0m\u001b[0;34m)\u001b[0m\u001b[0;34m\u001b[0m\u001b[0m\n",
      "\u001b[0;31mTypeError\u001b[0m: 'int' object is not subscriptable"
     ]
    },
    {
     "data": {
      "image/png": "[encoded data removed]",
      "text/plain": [
       "<Figure size 432x288 with 1 Axes>"
      ]
     },
     "metadata": {},
     "output_type": "display_data"
    }
   ],
   "source": [
    "print(\"Feature ranking:\")\n",
    "\n",
    "for f in range(5):\n",
    "    print(\"%d. feature %d (%f)\" % (f + 1, indices[f], importances[indices[f]]))\n",
    "\n",
    "# Plot the feature importances of the forest\n",
    "plt.figure()\n",
    "plt.title(\"Feature importances for Extra Trees Model\")\n",
    "plt.bar(range(5), importances[indices][:5],\n",
    "       color=\"r\", yerr=std[indices][:5], align=\"center\")\n",
    "plt.xticks(range(5), X_train.columns[indices[:5]],rotation = 90)\n",
    "plt.ylabel = 'Importance'\n",
    "plt.xlabel = 'Features'\n",
    "plt.xlim([-1, X_train.shape[1][:5]])\n",
    "\n",
    "plt.show()"
   ]
  },
  {
   "cell_type": "code",
   "execution_count": 27,
   "metadata": {},
   "outputs": [],
   "source": [
    "extrapreds = extra.predict(X_test)"
   ]
  },
  {
   "cell_type": "code",
   "execution_count": 28,
   "metadata": {},
   "outputs": [
    {
     "data": {
      "text/plain": [
       "array([[565,  11,   0,   9,   5,   0,   3,   3,   6,   0,  13],\n",
       "       [ 11, 407,   0,   6,   3,   0,   0,   3,   1,   7,   7],\n",
       "       [  3,   4, 124,   1,   6,   0,   0,   3,   3,   3,   4],\n",
       "       [ 21,  14,   0, 214,   3,   1,   0,   3,   6,   3,   4],\n",
       "       [  5,   5,   0,   0, 121,   0,   0,   0,   0,   0,  18],\n",
       "       [  2,   0,   2,   1,   1, 303,   4,   4,   0,   0,   1],\n",
       "       [  9,   0,   5,   4,   3,   1, 126,   6,   4,   0,  11],\n",
       "       [ 10,   2,   8,   0,   2,   2,   6, 434,  23,   0,   9],\n",
       "       [ 15,   1,   9,   3,   3,   2,   2,  36, 683,   0,  10],\n",
       "       [ 21,  36,   0,   3,   2,   2,   1,   0,   4, 165,   3],\n",
       "       [  8,  14,   4,   1,   9,   0,   3,   6,   8,   0, 478]])"
      ]
     },
     "execution_count": 28,
     "metadata": {},
     "output_type": "execute_result"
    }
   ],
   "source": [
    "confusion_matrix(Y_test,extrapreds)"
   ]
  },
  {
   "cell_type": "code",
   "execution_count": 29,
   "metadata": {},
   "outputs": [
    {
     "name": "stdout",
     "output_type": "stream",
     "text": [
      "0.6247586872586872\n",
      "0.8458011583011583\n",
      "0.8735521235521235\n",
      "0.8638996138996139\n"
     ]
    }
   ],
   "source": [
    "preds = tester.predict(X_test)\n",
    "print(tester.score(X_test,Y_test))\n",
    "print(clf.score(X_test,Y_test))\n",
    "print(extra.score(X_test,Y_test))\n",
    "#print(DTC.score(X_test,Y_test))\n",
    "print(RFC.score(X_test,Y_test))"
   ]
  },
  {
   "cell_type": "code",
   "execution_count": 30,
   "metadata": {},
   "outputs": [
    {
     "data": {
      "text/plain": [
       "array([6.71656357, 6.45089349, 5.44641355, 6.00467072, 5.4610132 ,\n",
       "       5.87926263, 5.41568224, 6.51701202, 6.83283049, 5.83653683,\n",
       "       6.49077292])"
      ]
     },
     "execution_count": 30,
     "metadata": {},
     "output_type": "execute_result"
    }
   ],
   "source": [
    "import scipy as sc\n",
    "entropy=sc.stats.entropy(extra.predict_proba(X_test))\n",
    "entropy"
   ]
  },
  {
   "cell_type": "code",
   "execution_count": 711,
   "metadata": {},
   "outputs": [
    {
     "data": {
      "text/plain": [
       "array([[555,   6,  10,   1,   0,   1,   0],\n",
       "       [ 24, 315,  10,   8,   0,   0,   9],\n",
       "       [ 20,  11, 207,   0,   0,   0,   5],\n",
       "       [  7,   6,   1,  29,   1,   0,   2],\n",
       "       [  5,   2,   2,   0, 153,   0,   1],\n",
       "       [  2,   1,   0,   0,   0,  11,   0],\n",
       "       [ 13,  21,   9,   0,   6,   0, 171]])"
      ]
     },
     "execution_count": 711,
     "metadata": {},
     "output_type": "execute_result"
    }
   ],
   "source": [
    "confusion_matrix(Y_test,preds)"
   ]
  },
  {
   "cell_type": "markdown",
   "metadata": {},
   "source": [
    "Alfalfa:0\n",
    "Almond:1\n",
    "Grape:2\n",
    "Oat:3\n",
    "Rice:4\n",
    "Sunflower:5\n",
    "Tomato:6\n",
    "Walnut :7\n"
   ]
  },
  {
   "cell_type": "code",
   "execution_count": 911,
   "metadata": {},
   "outputs": [
    {
     "data": {
      "image/png": "[encoded data removed]",
      "text/plain": [
       "<Figure size 432x288 with 1 Axes>"
      ]
     },
     "metadata": {},
     "output_type": "display_data"
    }
   ],
   "source": [
    "colors = ['b', 'c', 'y', 'm', 'r','brown','pink','teal','black','orange','purple']\n",
    "for i,j in zip(set(nonorg.crop_list),colors):\n",
    "    plt.scatter(nonorg.loc[nonorg['crop_list'] == i,['Band2thirdquart']],nonorg.loc[nonorg['crop_list'] == i,['Band2mean']],color = j)"
   ]
  }
 ],
 "metadata": {
  "kernelspec": {
   "display_name": "Python 3",
   "language": "python",
   "name": "python3"
  },
  "language_info": {
   "codemirror_mode": {
    "name": "ipython",
    "version": 3
   },
   "file_extension": ".py",
   "mimetype": "text/x-python",
   "name": "python",
   "nbconvert_exporter": "python",
   "pygments_lexer": "ipython3",
   "version": "3.6.5"
  }
 },
 "nbformat": 4,
 "nbformat_minor": 2
}
