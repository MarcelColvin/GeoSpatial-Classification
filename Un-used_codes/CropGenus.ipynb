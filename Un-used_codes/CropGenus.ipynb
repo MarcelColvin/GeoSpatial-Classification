{
 "cells": [
  {
   "cell_type": "code",
   "execution_count": 9,
   "metadata": {},
   "outputs": [],
   "source": [
    "import shapefile\n",
    "from collections import Counter"
   ]
  },
  {
   "cell_type": "code",
   "execution_count": 25,
   "metadata": {},
   "outputs": [
    {
     "name": "stdout",
     "output_type": "stream",
     "text": [
      "/home/marcel/Github/GeoSpatial-Classification/Un-used_codes\r\n"
     ]
    }
   ],
   "source": [
    "!pwd"
   ]
  },
  {
   "cell_type": "code",
   "execution_count": 26,
   "metadata": {},
   "outputs": [],
   "source": [
    "sf = shapefile.Reader('/home/marcel/Github/GeoSpatial-Classification/Crops_2016/2016_Crops.dbf')"
   ]
  },
  {
   "cell_type": "code",
   "execution_count": 27,
   "metadata": {},
   "outputs": [],
   "source": [
    "shapes = sf.shapes()"
   ]
  },
  {
   "cell_type": "code",
   "execution_count": 28,
   "metadata": {},
   "outputs": [],
   "source": [
    "fields =sf.fields"
   ]
  },
  {
   "cell_type": "code",
   "execution_count": 29,
   "metadata": {},
   "outputs": [],
   "source": [
    "records = sf.records()"
   ]
  },
  {
   "cell_type": "code",
   "execution_count": 30,
   "metadata": {},
   "outputs": [],
   "source": [
    "totalcropfields = [records[i][-5] for i in range(len(records))]"
   ]
  },
  {
   "cell_type": "code",
   "execution_count": 31,
   "metadata": {},
   "outputs": [],
   "source": [
    "import re\n",
    "try:\n",
    "    m = re.search('^([^,]+),',totalcropfields[397])\n",
    "except:\n",
    "    m.group(0)"
   ]
  },
  {
   "cell_type": "code",
   "execution_count": 32,
   "metadata": {},
   "outputs": [],
   "source": [
    "q= re.search('.*',totalcropfields[1])\n",
    "a = []"
   ]
  },
  {
   "cell_type": "code",
   "execution_count": 33,
   "metadata": {},
   "outputs": [],
   "source": [
    "finalcrops = []\n",
    "for i in range(len(totalcropfields)):\n",
    "    m = re.search('^([^,]+)[^,]',totalcropfields[i])\n",
    "    if m is None:\n",
    "        m = re.search('.*',totalcropfields[i])\n",
    "    finalcrops.append(m.group(0))\n",
    "    if m is None:\n",
    "        finalcrops.append('')\n",
    "for i in range(len(finalcrops)):\n",
    "    finalcrops[i] = re.sub('ORG ','',finalcrops[i])\n",
    "for i in range(len(finalcrops)):\n",
    "    finalcrops[i] = re.sub(' FOR/FOD','',finalcrops[i])"
   ]
  },
  {
   "cell_type": "code",
   "execution_count": 34,
   "metadata": {},
   "outputs": [],
   "source": [
    "construct = Counter(finalcrops)"
   ]
  },
  {
   "cell_type": "code",
   "execution_count": 35,
   "metadata": {},
   "outputs": [],
   "source": [
    "keys = construct.keys()"
   ]
  },
  {
   "cell_type": "code",
   "execution_count": 36,
   "metadata": {
    "scrolled": true
   },
   "outputs": [],
   "source": [
    "import pandas as pd\n",
    "cropList = construct\n",
    "cropFamily = pd.DataFrame.from_dict(cropList, orient='index').reset_index()\n",
    "cropFamily.columns = 'Crop','Count'\n",
    "cropNames = cropFamily['Crop']\n",
    "genus = ['Avena','Medicago','Carthamus','Triticum','Vitis','Prunus','Juglans','NaN','Fumigate','Solanum','Helianthus','Prunus',\n",
    "        'NaN','Prunus','Prunus','Malus','NaN','Graze','Graze','Citrus','Olea','Pistacia','Prunus','Cucurbita','Ficus',\n",
    "        'Solanum','NaN','Oryza','NaN','Pyrus','Beehive','Fumigate','NaN','Allium','Glycine','Zea','Cucurbita','Cucumis',\n",
    "        'Turf','Castanea','Graze','Turf','Lolium','Flowering','Cucumis','Asparagus','Allium','Industrial','Hay','Carya','NaN',\n",
    "        'NaN','Ocimum','Ocimum','Solanum','Citrus','Bean','Flowering','Vaccinium','Avena','Triticum','Sorghum','Tree',\n",
    "        'Zea','Turf','GrnHouse Transplanting','GrnHouse Transplanting','Allium','Helianthus','Poaceae','Taraxacum',\n",
    "        'NaN','NaN','NaN','Phaseolus','Cucumis','Carthamus','Prunus','Cucumis','Diospyros','NaN','Prunus','Hordeum',\n",
    "        'Brassica','Daucus','Allium','Allium','Dennettia','Carya','Daucus','Brassica','Ditch','Citrullus','Cucurbita',\n",
    "        'Triticum','Coriandrum','NaN','Lactuca','Prunus','Capsicum','Allium','Lactuca','Brassica','Brassica','Phaseolus',\n",
    "        'Brassica','Punica','Lolium','Fumigate','Dactylis','Medicago','Cucumis','Punica','Actinidia','Sorghum','Zea',\n",
    "        'Rosa','Beta','NaN','Solanum','NaN','Fragaria','NaN','Rubus','Solanum','NaN','Capsicum','Humulus','Secale',\n",
    "        'Cicer','Sorghum','Vitis','Zizania','Citrullus','Cannabis','Vicia','Cucurbita','Cucumis','Cucurbita','Cucurbita','Cucurbita']\n",
    "cropGenus = pd.DataFrame(cropFamily,genus)\n",
    "#cropGenus.columns = 'Crop','Genus'\n",
    "cropFamily['Genus'] = genus"
   ]
  },
  {
   "cell_type": "code",
   "execution_count": 37,
   "metadata": {},
   "outputs": [
    {
     "data": {
      "text/plain": [
       "141"
      ]
     },
     "execution_count": 37,
     "metadata": {},
     "output_type": "execute_result"
    }
   ],
   "source": [
    "values = []\n",
    "for crop in cropNames:\n",
    "    values.append(crop)\n",
    "len(values)"
   ]
  },
  {
   "cell_type": "code",
   "execution_count": 47,
   "metadata": {},
   "outputs": [],
   "source": [
    "cropFamily.loc[12, \"Crop\"] = \"Unknown\""
   ]
  },
  {
   "cell_type": "code",
   "execution_count": 58,
   "metadata": {},
   "outputs": [
    {
     "data": {
      "text/plain": [
       "<matplotlib.axes._subplots.AxesSubplot at 0x7f3bdc936cc0>"
      ]
     },
     "execution_count": 58,
     "metadata": {},
     "output_type": "execute_result"
    },
    {
     "data": {
      "image/png": "[encoded data removed]",
      "text/plain": [
       "<Figure size 432x288 with 1 Axes>"
      ]
     },
     "metadata": {},
     "output_type": "display_data"
    }
   ],
   "source": [
    "%matplotlib inline\n",
    "cropFamily.sort_values(ascending = False, by = 'Count')[:15].plot.bar(x = 'Crop',color = 'green',title = 'Most Commonly Grown Crops in Yolo County')\n"
   ]
  },
  {
   "cell_type": "code",
   "execution_count": null,
   "metadata": {},
   "outputs": [],
   "source": []
  }
 ],
 "metadata": {
  "kernelspec": {
   "display_name": "Python 3",
   "language": "python",
   "name": "python3"
  },
  "language_info": {
   "codemirror_mode": {
    "name": "ipython",
    "version": 3
   },
   "file_extension": ".py",
   "mimetype": "text/x-python",
   "name": "python",
   "nbconvert_exporter": "python",
   "pygments_lexer": "ipython3",
   "version": "3.6.5"
  }
 },
 "nbformat": 4,
 "nbformat_minor": 2
}
