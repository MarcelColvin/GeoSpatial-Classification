{
 "cells": [
  {
   "cell_type": "markdown",
   "metadata": {},
   "source": [
    "# Crop Classification and Residual Analysis"
   ]
  },
  {
   "cell_type": "code",
   "execution_count": 1,
   "metadata": {},
   "outputs": [
    {
     "name": "stderr",
     "output_type": "stream",
     "text": [
      "/home/marcel/anaconda3/lib/python3.6/site-packages/sklearn/cross_validation.py:41: DeprecationWarning: This module was deprecated in version 0.18 in favor of the model_selection module into which all the refactored classes and functions are moved. Also note that the interface of the new CV iterators are different from that of this module. This module will be removed in 0.20.\n",
      "  \"This module will be removed in 0.20.\", DeprecationWarning)\n"
     ]
    }
   ],
   "source": [
    "import pandas as pd\n",
    "import scipy as sc\n",
    "from sklearn.model_selection import train_test_split\n",
    "import numpy as np\n",
    "from sklearn.metrics import confusion_matrix\n",
    "from sklearn.multiclass import OneVsOneClassifier\n",
    "from sklearn.svm import LinearSVC\n",
    "from sklearn.neighbors import KNeighborsClassifier\n",
    "from sklearn.ensemble import RandomForestClassifier\n",
    "from sklearn.ensemble import ExtraTreesClassifier\n",
    "import matplotlib.pyplot as plt\n",
    "from matplotlib.colors import ListedColormap\n",
    "from sklearn import neighbors, datasets\n",
    "from sklearn.cross_validation import cross_val_score\n",
    "import warnings\n",
    "warnings.filterwarnings('ignore')"
   ]
  },
  {
   "cell_type": "code",
   "execution_count": 2,
   "metadata": {},
   "outputs": [],
   "source": [
    "Crops = pd.read_csv('Data/Agosto.csv').iloc[:,1:]"
   ]
  },
  {
   "cell_type": "code",
   "execution_count": 3,
   "metadata": {},
   "outputs": [],
   "source": [
    "Crops['crop_list']\n",
    "Active = Crops[Crops['is_active'] == 1]"
   ]
  },
  {
   "cell_type": "code",
   "execution_count": 4,
   "metadata": {},
   "outputs": [],
   "source": [
    "lottacrop = Active[Active.crop_list.str.contains('OAT')|Active.crop_list.str.contains('SUNFLOWER')  | Active.crop_list.str.contains('ALMOND') | Active.crop_list.str.contains('GRAPE') | Active.crop_list.str.contains('WALNUT') |Active.crop_list.str.contains('RICE') | Active.crop_list.str.contains('ALFALFA')| Active.crop_list.str.contains('ALFALFA') | Active.crop_list.str.contains('CORN')| Active.crop_list.str.contains('WHEAT')| Active.crop_list.str.contains('TOMATO')  | Active.crop_list.str.contains('SAFFLOWER')]"
   ]
  },
  {
   "cell_type": "code",
   "execution_count": 5,
   "metadata": {},
   "outputs": [],
   "source": [
    "nonorg = lottacrop.drop(lottacrop.crop_list[lottacrop.crop_list.str.contains('ORG')].index)"
   ]
  },
  {
   "cell_type": "code",
   "execution_count": 6,
   "metadata": {},
   "outputs": [],
   "source": [
    "lottacrop.crop_list[lottacrop['crop_list'].str.contains('ALMOND')] = 'ALMOND'\n",
    "lottacrop.crop_list[lottacrop['crop_list'].str.contains('GRAPE')] = 'GRAPE'\n",
    "lottacrop.crop_list[lottacrop['crop_list'].str.contains('OAT')] = 'OAT'\n",
    "lottacrop.crop_list[lottacrop['crop_list'].str.contains('RICE')] = 'RICE'\n",
    "lottacrop.crop_list[lottacrop['crop_list'].str.contains('SUNFLOWER')] = 'SUNFLOWER'\n",
    "lottacrop.crop_list[lottacrop['crop_list'].str.contains('WALNUT')] = 'WALNUT'\n",
    "lottacrop.crop_list[lottacrop['crop_list'].str.contains('ALFALFA')] = 'ALFALFA'\n",
    "lottacrop.crop_list[lottacrop['crop_list'].str.contains('CORN')] = 'CORN'\n",
    "lottacrop.crop_list[lottacrop['crop_list'].str.contains('WHEAT')] = 'WHEAT'\n",
    "lottacrop.crop_list[lottacrop['crop_list'].str.contains('TOMATO')] = 'TOMATO'\n",
    "lottacrop.crop_list[lottacrop['crop_list'].str.contains('SAFFLOWER')] = 'SAFFLOWER'"
   ]
  },
  {
   "cell_type": "code",
   "execution_count": 7,
   "metadata": {},
   "outputs": [],
   "source": [
    "lottacrop['code'] = lottacrop.crop_list.astype('category').cat.codes"
   ]
  },
  {
   "cell_type": "code",
   "execution_count": 8,
   "metadata": {},
   "outputs": [],
   "source": [
    "crops_list = {\"WALNUT\":9,\"ALFALFA\":0,\"OAT\":4,\"GRAPE\":3,\"ALMOND\":1,\"WHEAT\":10,\"RICE\":5,\"CORN\":2,\"SAFFLOWER\":6, \"SUNFLOWER\":7, \"TOMATO\":8}"
   ]
  },
  {
   "cell_type": "code",
   "execution_count": 9,
   "metadata": {},
   "outputs": [],
   "source": [
    "firstx = lottacrop.iloc[:,1:61].dropna()\n",
    "secondx = lottacrop.iloc[:,85:-1].dropna()"
   ]
  },
  {
   "cell_type": "markdown",
   "metadata": {},
   "source": [
    "# Model Selection Process with only July Crops\n",
    "### All Crops"
   ]
  },
  {
   "cell_type": "code",
   "execution_count": 10,
   "metadata": {},
   "outputs": [],
   "source": [
    "fullx = firstx.dropna()\n",
    "fully = lottacrop.loc[fullx.index,'code']\n",
    "fully.shape\n",
    "X_train, X_test, Y_train, Y_test = train_test_split(fullx,fully,test_size = .4)"
   ]
  },
  {
   "cell_type": "code",
   "execution_count": 11,
   "metadata": {},
   "outputs": [],
   "source": [
    "n_neighbors = 25\n",
    "\n",
    "RFC = RandomForestClassifier()\n",
    "extra = ExtraTreesClassifier()\n",
    "knn = neighbors.KNeighborsClassifier(n_neighbors, weights='distance',algorithm='ball_tree')\n",
    "\n",
    "knn.fit(X_train, Y_train)\n",
    "extra.fit(X_train,Y_train)\n",
    "RFC.fit(X_train,Y_train)\n",
    "svm = OneVsOneClassifier(LinearSVC(random_state=0)).fit(X_train, Y_train)"
   ]
  },
  {
   "cell_type": "code",
   "execution_count": 12,
   "metadata": {},
   "outputs": [
    {
     "name": "stdout",
     "output_type": "stream",
     "text": [
      "0.6085907335907336\n",
      "0.837596525096525\n",
      "0.8482142857142857\n",
      "0.8467664092664092\n"
     ]
    }
   ],
   "source": [
    "print(svm.score(X_test,Y_test))\n",
    "print(knn.score(X_test,Y_test))\n",
    "print(extra.score(X_test,Y_test))\n",
    "print(RFC.score(X_test,Y_test))"
   ]
  },
  {
   "cell_type": "code",
   "execution_count": 13,
   "metadata": {},
   "outputs": [
    {
     "data": {
      "text/plain": [
       "array([6.73520134, 6.42755794, 5.49248397, 6.07179904, 5.51035817,\n",
       "       5.86583516, 5.5857843 , 6.54643192, 6.86974421, 5.9654336 ,\n",
       "       6.54452162])"
      ]
     },
     "execution_count": 13,
     "metadata": {},
     "output_type": "execute_result"
    }
   ],
   "source": [
    "entropy=sc.stats.entropy(extra.predict_proba(X_test))\n",
    "entropy"
   ]
  },
  {
   "cell_type": "code",
   "execution_count": 14,
   "metadata": {},
   "outputs": [
    {
     "data": {
      "text/plain": [
       "array([[559,   5,   1,  22,   4,   0,   3,   3,  17,   2,   6],\n",
       "       [ 14, 379,   3,  10,  11,   1,   0,   5,   2,   5,   9],\n",
       "       [  1,   6, 114,   0,   4,   0,   1,   4,   5,   1,   4],\n",
       "       [ 12,  18,   2, 206,   0,   1,   1,   1,   5,   4,   2],\n",
       "       [  6,   9,   4,   1, 108,   0,   1,   2,   0,   3,  21],\n",
       "       [  2,   0,   1,   0,   3, 293,   2,   2,   4,   1,   1],\n",
       "       [  7,   1,   2,   5,   3,   3, 127,   3,   4,   0,   6],\n",
       "       [ 19,   8,  10,   2,   2,   4,   8, 397,  61,   0,   9],\n",
       "       [ 16,   0,   7,   2,   0,   3,   2,  33, 671,   0,  17],\n",
       "       [ 17,  24,   2,  10,   2,   1,   0,   2,   3, 174,   5],\n",
       "       [ 18,  13,   1,   1,  16,   0,   4,   3,   8,   4, 487]])"
      ]
     },
     "execution_count": 14,
     "metadata": {},
     "output_type": "execute_result"
    }
   ],
   "source": [
    "confusion_matrix(Y_test,extra.predict(X_test))"
   ]
  },
  {
   "cell_type": "code",
   "execution_count": 15,
   "metadata": {},
   "outputs": [
    {
     "data": {
      "text/plain": [
       "array([[567,  10,   0,   8,   3,   0,   3,   2,  12,   5,  12],\n",
       "       [ 12, 363,   5,  16,  12,   0,   2,   5,   4,  10,  10],\n",
       "       [  0,   5, 111,   0,   2,   0,   2,   5,   8,   3,   4],\n",
       "       [ 18,  18,   2, 197,   0,   0,   2,   0,  10,   3,   2],\n",
       "       [  3,  10,   2,   2, 108,   0,   1,   2,   3,   4,  20],\n",
       "       [  2,   1,   4,   0,   1, 292,   2,   0,   1,   3,   3],\n",
       "       [  2,   1,   3,   0,   4,   3, 130,   2,   8,   0,   8],\n",
       "       [ 17,   8,   8,   1,   0,   7,  10, 405,  54,   2,   8],\n",
       "       [  9,   8,   6,   5,   0,   2,   0,  35, 669,   3,  14],\n",
       "       [ 24,  28,   1,   6,   3,   2,   0,   0,   4, 169,   3],\n",
       "       [ 16,   7,   3,   2,  10,   0,   4,   4,  11,   0, 498]])"
      ]
     },
     "execution_count": 15,
     "metadata": {},
     "output_type": "execute_result"
    }
   ],
   "source": [
    "confusion_matrix(Y_test,RFC.predict(X_test))"
   ]
  },
  {
   "cell_type": "markdown",
   "metadata": {},
   "source": [
    "### Non-Organic"
   ]
  },
  {
   "cell_type": "code",
   "execution_count": 16,
   "metadata": {},
   "outputs": [],
   "source": [
    "firstx = nonorg.iloc[:,1:61].dropna()\n",
    "fullx = firstx.dropna()\n",
    "fully = lottacrop.loc[fullx.index,'code']\n",
    "fully.shape\n",
    "X_train, X_test, Y_train, Y_test = train_test_split(fullx,fully,test_size = .4)"
   ]
  },
  {
   "cell_type": "code",
   "execution_count": 17,
   "metadata": {},
   "outputs": [],
   "source": [
    "n_neighbors = 25\n",
    "\n",
    "RFC = RandomForestClassifier()\n",
    "extra = ExtraTreesClassifier()\n",
    "knn = neighbors.KNeighborsClassifier(n_neighbors, weights='distance',algorithm='ball_tree')\n",
    "\n",
    "knn.fit(X_train, Y_train)\n",
    "extra.fit(X_train,Y_train)\n",
    "RFC.fit(X_train,Y_train)\n",
    "svm = OneVsOneClassifier(LinearSVC(random_state=0)).fit(X_train, Y_train)"
   ]
  },
  {
   "cell_type": "code",
   "execution_count": 18,
   "metadata": {},
   "outputs": [
    {
     "name": "stdout",
     "output_type": "stream",
     "text": [
      "0.6065\n",
      "0.836\n",
      "0.85775\n",
      "0.85025\n"
     ]
    }
   ],
   "source": [
    "print(svm.score(X_test,Y_test))\n",
    "print(knn.score(X_test,Y_test))\n",
    "print(extra.score(X_test,Y_test))\n",
    "print(RFC.score(X_test,Y_test))"
   ]
  },
  {
   "cell_type": "code",
   "execution_count": 19,
   "metadata": {},
   "outputs": [
    {
     "data": {
      "text/plain": [
       "array([6.69628476, 6.45978468, 5.41372086, 6.05117122, 5.48351452,\n",
       "       5.87091406, 5.40445737, 6.46839765, 6.74193028, 5.84976225,\n",
       "       6.46122045])"
      ]
     },
     "execution_count": 19,
     "metadata": {},
     "output_type": "execute_result"
    }
   ],
   "source": [
    "entropy=sc.stats.entropy(extra.predict_proba(X_test))\n",
    "entropy"
   ]
  },
  {
   "cell_type": "code",
   "execution_count": 20,
   "metadata": {},
   "outputs": [
    {
     "data": {
      "text/plain": [
       "array([[552,   9,   3,   6,   0,   0,   3,   6,   7,   4,  10],\n",
       "       [ 15, 389,   4,  12,  10,   1,   0,   2,   1,   7,   4],\n",
       "       [  4,   3, 104,   1,   1,   1,   0,  10,  10,   2,   2],\n",
       "       [ 26,  20,   5, 219,   0,   0,   0,   2,   9,   1,   9],\n",
       "       [  4,  11,   1,   1, 103,   4,   1,   0,   3,   0,   9],\n",
       "       [  1,   3,   2,   0,   0, 292,   5,   2,   2,   1,   0],\n",
       "       [  8,   1,   6,   7,   1,   0, 115,   6,   7,   0,  10],\n",
       "       [ 14,   6,   5,   0,   2,   6,   2, 403,  28,   4,   2],\n",
       "       [ 11,   5,  11,   0,   0,   3,   1,  28, 608,   0,   4],\n",
       "       [ 14,  23,   2,  13,   7,   4,   0,   1,   2, 172,   5],\n",
       "       [  5,  18,   2,   4,  11,   1,   2,   7,   9,   1, 474]])"
      ]
     },
     "execution_count": 20,
     "metadata": {},
     "output_type": "execute_result"
    }
   ],
   "source": [
    "confusion_matrix(Y_test,extra.predict(X_test))"
   ]
  },
  {
   "cell_type": "code",
   "execution_count": 21,
   "metadata": {},
   "outputs": [
    {
     "data": {
      "text/plain": [
       "array([[556,   6,   3,   7,   1,   0,   3,   4,   7,   0,  13],\n",
       "       [ 13, 370,   1,  25,   7,   0,   0,   4,   1,  12,  12],\n",
       "       [  2,   3, 103,   1,   3,   1,   1,  11,   4,   3,   6],\n",
       "       [ 25,  15,   7, 218,   4,   1,   1,   2,  11,   2,   5],\n",
       "       [  6,   6,   0,   1, 100,   4,   0,   2,   3,   2,  13],\n",
       "       [  2,   1,   6,   0,   0, 288,   7,   2,   0,   1,   1],\n",
       "       [  6,   4,   6,   3,   2,   1, 117,   9,   5,   0,   8],\n",
       "       [ 16,   9,   5,   1,   0,   7,   2, 398,  29,   0,   5],\n",
       "       [ 13,   4,  11,   0,   0,   2,   0,  34, 602,   0,   5],\n",
       "       [ 16,  24,   1,  10,   5,   4,   2,   3,   1, 170,   7],\n",
       "       [  5,  14,   0,   3,  13,   1,   3,   7,   9,   0, 479]])"
      ]
     },
     "execution_count": 21,
     "metadata": {},
     "output_type": "execute_result"
    }
   ],
   "source": [
    "confusion_matrix(Y_test,RFC.predict(X_test))"
   ]
  },
  {
   "cell_type": "markdown",
   "metadata": {},
   "source": [
    "# Model Selection Process with all Crops (July and August)"
   ]
  },
  {
   "cell_type": "code",
   "execution_count": 22,
   "metadata": {},
   "outputs": [],
   "source": [
    "fullx = firstx.join(secondx).dropna()\n",
    "fully = lottacrop.loc[fullx.index,'code']\n",
    "fully.shape\n",
    "X_train, X_test, Y_train, Y_test = train_test_split(fullx,fully,test_size = .4)"
   ]
  },
  {
   "cell_type": "markdown",
   "metadata": {},
   "source": [
    "# Cross Validation for KNN"
   ]
  },
  {
   "cell_type": "code",
   "execution_count": 29,
   "metadata": {},
   "outputs": [],
   "source": [
    "myList = list(range(1,50))\n",
    "\n",
    "# subsetting just the odd ones\n",
    "neighbors2 = filter(lambda x: x % 2 != 0, myList)\n",
    "\n",
    "# empty list that will hold cv scores\n",
    "cv_scores = []\n",
    "\n",
    "\n",
    "# perform 10-fold cross validation\n",
    "for k in neighbors2:\n",
    "    knn = neighbors.KNeighborsClassifier(n_neighbors=k, weights='distance',algorithm='ball_tree')\n",
    "    scores = cross_val_score(knn, X_train, Y_train, cv=10, scoring='accuracy')\n",
    "    cv_scores.append(scores.mean())\n",
    "#print(cv_scores) # print if you want\n"
   ]
  },
  {
   "cell_type": "code",
   "execution_count": 31,
   "metadata": {},
   "outputs": [],
   "source": [
    "n_neighbors = 9\n",
    "\n",
    "RFC = RandomForestClassifier()\n",
    "extra = ExtraTreesClassifier()\n",
    "knn = neighbors.KNeighborsClassifier(n_neighbors, weights='distance',algorithm='ball_tree')\n",
    "\n",
    "knn.fit(X_train, Y_train)\n",
    "extra.fit(X_train,Y_train)\n",
    "RFC.fit(X_train,Y_train)\n",
    "svm = OneVsOneClassifier(LinearSVC(random_state=0)).fit(X_train, Y_train)"
   ]
  },
  {
   "cell_type": "code",
   "execution_count": 32,
   "metadata": {},
   "outputs": [
    {
     "name": "stdout",
     "output_type": "stream",
     "text": [
      "0.646\n",
      "0.87025\n",
      "0.88425\n",
      "0.87525\n"
     ]
    }
   ],
   "source": [
    "print(svm.score(X_test,Y_test))\n",
    "print(knn.score(X_test,Y_test))\n",
    "print(extra.score(X_test,Y_test))\n",
    "print(RFC.score(X_test,Y_test))"
   ]
  },
  {
   "cell_type": "code",
   "execution_count": 33,
   "metadata": {},
   "outputs": [
    {
     "data": {
      "text/plain": [
       "array([6.60726776, 6.39703847, 5.3945743 , 5.95447896, 5.15565798,\n",
       "       5.79076444, 5.40276897, 6.50169177, 6.73709353, 5.80264365,\n",
       "       6.4769764 ])"
      ]
     },
     "execution_count": 33,
     "metadata": {},
     "output_type": "execute_result"
    }
   ],
   "source": [
    "entropy=sc.stats.entropy(extra.predict_proba(X_test))\n",
    "entropy"
   ]
  },
  {
   "cell_type": "code",
   "execution_count": 34,
   "metadata": {},
   "outputs": [
    {
     "data": {
      "text/plain": [
       "array([[573,   6,   0,   3,   3,   0,   1,   0,   5,   0,   3],\n",
       "       [ 11, 395,   0,  10,   3,   0,   0,   2,   0,   3,   4],\n",
       "       [  1,   1, 104,   3,   0,   1,   6,   6,  10,   0,   6],\n",
       "       [  9,  20,   2, 220,   0,   0,   1,   3,   1,   9,   1],\n",
       "       [  7,   7,   3,   0,  91,   2,   1,   2,   3,   3,  12],\n",
       "       [  3,   1,   0,   1,   0, 284,   1,   3,   0,   0,   0],\n",
       "       [  2,   6,   5,   4,   0,   7, 132,   7,   4,   0,   6],\n",
       "       [  5,   6,   3,   6,   2,   4,   5, 445,  38,   0,   3],\n",
       "       [ 10,   2,   7,   1,   0,   0,   0,  42, 620,   0,   6],\n",
       "       [  6,  22,   0,   9,   2,   2,   0,   2,   1, 170,  10],\n",
       "       [  6,   6,   0,   2,   3,   1,   9,   5,  12,   1, 503]])"
      ]
     },
     "execution_count": 34,
     "metadata": {},
     "output_type": "execute_result"
    }
   ],
   "source": [
    "confusion_matrix(Y_test,extra.predict(X_test))"
   ]
  },
  {
   "cell_type": "code",
   "execution_count": 35,
   "metadata": {},
   "outputs": [
    {
     "data": {
      "text/plain": [
       "array([[566,   5,   0,   3,   0,   0,   2,   1,   8,   0,   9],\n",
       "       [  5, 379,   0,  15,   4,   0,   0,   3,   0,  12,  10],\n",
       "       [  2,   1, 101,   2,   0,   1,   8,   6,  15,   0,   2],\n",
       "       [ 14,  30,   1, 213,   0,   0,   1,   0,   1,   5,   1],\n",
       "       [  4,   7,   1,   3,  93,   2,   2,   2,   4,   0,  13],\n",
       "       [  0,   0,   0,   2,   1, 285,   1,   3,   0,   0,   1],\n",
       "       [  3,   7,   4,   3,   1,   6, 128,   6,   7,   0,   8],\n",
       "       [  7,   3,   2,   6,   1,   4,   6, 444,  39,   0,   5],\n",
       "       [  7,   3,   8,   2,   0,   1,   0,  36, 625,   0,   6],\n",
       "       [ 10,  26,   0,   8,   3,   2,   0,   4,   2, 166,   3],\n",
       "       [  6,  14,   0,   2,   3,   1,   6,   5,  10,   0, 501]])"
      ]
     },
     "execution_count": 35,
     "metadata": {},
     "output_type": "execute_result"
    }
   ],
   "source": [
    "confusion_matrix(Y_test,RFC.predict(X_test))"
   ]
  },
  {
   "cell_type": "markdown",
   "metadata": {},
   "source": [
    "# Using Non-Organic Data"
   ]
  },
  {
   "cell_type": "code",
   "execution_count": 36,
   "metadata": {},
   "outputs": [],
   "source": [
    "nonorg.crop_list[nonorg['crop_list'].str.contains('ALMOND')] = 'ALMOND'\n",
    "nonorg.crop_list[nonorg['crop_list'].str.contains('GRAPE')] = 'GRAPE'\n",
    "nonorg.crop_list[nonorg['crop_list'].str.contains('OAT')] = 'OAT'\n",
    "nonorg.crop_list[nonorg['crop_list'].str.contains('RICE')] = 'RICE'\n",
    "nonorg.crop_list[nonorg['crop_list'].str.contains('SUNFLOWER')] = 'SUNFLOWER'\n",
    "nonorg.crop_list[nonorg['crop_list'].str.contains('WALNUT')] = 'WALNUT'\n",
    "nonorg.crop_list[nonorg['crop_list'].str.contains('ALFALFA')] = 'ALFALFA'\n",
    "nonorg.crop_list[nonorg['crop_list'].str.contains('CORN')] = 'CORN'\n",
    "nonorg.crop_list[nonorg['crop_list'].str.contains('WHEAT')] = 'WHEAT'\n",
    "nonorg.crop_list[nonorg['crop_list'].str.contains('TOMATO')] = 'TOMATO'\n",
    "nonorg.crop_list[nonorg['crop_list'].str.contains('SAFFLOWER')] = 'SAFFLOWER'"
   ]
  },
  {
   "cell_type": "code",
   "execution_count": 37,
   "metadata": {},
   "outputs": [],
   "source": [
    "nonorg['code'] = nonorg.crop_list.astype('category').cat.codes"
   ]
  },
  {
   "cell_type": "code",
   "execution_count": 38,
   "metadata": {},
   "outputs": [],
   "source": [
    "firstx = nonorg.iloc[:,1:61].dropna()\n",
    "secondx = nonorg.iloc[:,85:-1].dropna()"
   ]
  },
  {
   "cell_type": "code",
   "execution_count": 39,
   "metadata": {},
   "outputs": [],
   "source": [
    "fullx = firstx.join(secondx).dropna()\n",
    "fully = nonorg.loc[fullx.index,'code']\n",
    "fully.shape\n",
    "X_train, X_test, Y_train, Y_test = train_test_split(fullx,fully,test_size = .4)"
   ]
  },
  {
   "cell_type": "code",
   "execution_count": 40,
   "metadata": {},
   "outputs": [],
   "source": [
    "n_neighbors = 25\n",
    "\n",
    "RFC = RandomForestClassifier()\n",
    "extra = ExtraTreesClassifier()\n",
    "knn = neighbors.KNeighborsClassifier(n_neighbors, weights='distance',algorithm='ball_tree')\n",
    "\n",
    "knn.fit(X_train, Y_train)\n",
    "extra.fit(X_train,Y_train)\n",
    "RFC.fit(X_train,Y_train)\n",
    "svm = OneVsOneClassifier(LinearSVC(random_state=0)).fit(X_train, Y_train)"
   ]
  },
  {
   "cell_type": "code",
   "execution_count": 41,
   "metadata": {},
   "outputs": [
    {
     "name": "stdout",
     "output_type": "stream",
     "text": [
      "0.654\n",
      "0.864\n",
      "0.881\n",
      "0.882\n"
     ]
    }
   ],
   "source": [
    "print(svm.score(X_test,Y_test))\n",
    "print(knn.score(X_test,Y_test))\n",
    "print(extra.score(X_test,Y_test))\n",
    "print(RFC.score(X_test,Y_test))"
   ]
  },
  {
   "cell_type": "code",
   "execution_count": 42,
   "metadata": {},
   "outputs": [
    {
     "data": {
      "text/plain": [
       "array([6.62911944, 6.39194369, 5.33664654, 5.92564079, 5.42224586,\n",
       "       5.82251718, 5.44078787, 6.42489761, 6.76764379, 5.80115351,\n",
       "       6.45293097])"
      ]
     },
     "execution_count": 42,
     "metadata": {},
     "output_type": "execute_result"
    }
   ],
   "source": [
    "entropy=sc.stats.entropy(extra.predict_proba(X_test))\n",
    "entropy"
   ]
  },
  {
   "cell_type": "code",
   "execution_count": 43,
   "metadata": {},
   "outputs": [
    {
     "data": {
      "text/plain": [
       "array([[592,   1,   0,   4,   4,   0,   1,   1,   4,   2,   2],\n",
       "       [  1, 390,   0,   8,   9,   0,   0,   0,   0,   9,  15],\n",
       "       [  4,   2, 123,   3,   1,   0,   3,  14,   5,   0,   2],\n",
       "       [  7,  33,   0, 203,   6,   0,   1,   2,   0,   5,   5],\n",
       "       [  7,   9,   0,   1, 103,   4,   1,   0,   0,   0,  17],\n",
       "       [  0,   1,   2,   0,   3, 295,   4,   1,   1,   1,   2],\n",
       "       [  6,   0,   4,   1,   1,   1, 127,   4,   5,   1,   7],\n",
       "       [  5,   3,   6,   5,   3,  11,   5, 406,  40,   0,   4],\n",
       "       [  8,   3,   4,   1,   0,   0,   0,  31, 641,   0,   5],\n",
       "       [  5,  22,   2,  12,   1,   0,   0,   3,   0, 171,   2],\n",
       "       [  8,   8,   1,   1,  14,   0,   9,   4,  11,   1, 473]])"
      ]
     },
     "execution_count": 43,
     "metadata": {},
     "output_type": "execute_result"
    }
   ],
   "source": [
    "confusion_matrix(Y_test,extra.predict(X_test))"
   ]
  },
  {
   "cell_type": "code",
   "execution_count": 44,
   "metadata": {},
   "outputs": [
    {
     "data": {
      "text/plain": [
       "array([[590,   5,   0,   3,   3,   0,   2,   3,   3,   0,   2],\n",
       "       [  3, 391,   2,   9,   9,   1,   0,   0,   0,   3,  14],\n",
       "       [  7,   3, 114,   1,   2,   2,   4,  12,   6,   1,   5],\n",
       "       [ 15,  18,   0, 205,   2,   1,   0,   4,   2,   5,  10],\n",
       "       [  6,   3,   5,   1, 106,   4,   1,   0,   0,   0,  16],\n",
       "       [  2,   1,   0,   0,   1, 295,   4,   1,   1,   2,   3],\n",
       "       [  4,   1,   3,   5,   2,   1, 122,   6,   6,   0,   7],\n",
       "       [ 11,   1,   4,   0,   4,   8,   6, 413,  36,   0,   5],\n",
       "       [  8,   3,   4,   0,   0,   0,   1,  30, 635,   0,  12],\n",
       "       [  9,  18,   0,   8,   1,   0,   1,   2,   0, 177,   2],\n",
       "       [ 11,   7,   1,   2,   4,   0,   8,   6,  10,   1, 480]])"
      ]
     },
     "execution_count": 44,
     "metadata": {},
     "output_type": "execute_result"
    }
   ],
   "source": [
    "confusion_matrix(Y_test,RFC.predict(X_test))"
   ]
  },
  {
   "cell_type": "markdown",
   "metadata": {},
   "source": [
    "## Residual Analysis\n",
    "#### Entropy Analysis for Extra Trees Classifier"
   ]
  },
  {
   "cell_type": "code",
   "execution_count": 45,
   "metadata": {},
   "outputs": [],
   "source": [
    "misclassified = np.where(Y_test != extra.predict(X_test))\n",
    "classified = np.where(Y_test == extra.predict(X_test))"
   ]
  },
  {
   "cell_type": "code",
   "execution_count": 46,
   "metadata": {},
   "outputs": [],
   "source": [
    "def logfcn(x):\n",
    "    c = x.copy()\n",
    "    c[np.where(c == 0.0)] = 1 \n",
    "    return np.log(c)"
   ]
  },
  {
   "cell_type": "code",
   "execution_count": 47,
   "metadata": {},
   "outputs": [],
   "source": [
    "pk = extra.predict_proba(X_test)\n",
    "d = pk * logfcn(pk)\n",
    "entropy = -1*np.sum(d, axis = 1)"
   ]
  },
  {
   "cell_type": "code",
   "execution_count": 48,
   "metadata": {},
   "outputs": [],
   "source": [
    "import geopandas as gpd"
   ]
  },
  {
   "cell_type": "code",
   "execution_count": 49,
   "metadata": {},
   "outputs": [],
   "source": [
    "cropfields = gpd.read_file(\"Crops_2016/Crops_2016_26910.shp\")\n",
    "cropfields1 = cropfields[[\"OBJECTID\", \"geometry\"]]"
   ]
  },
  {
   "cell_type": "code",
   "execution_count": 50,
   "metadata": {},
   "outputs": [],
   "source": [
    "test_df = lottacrop.loc[X_test.index]\n",
    "test_df['entropy'] = entropy\n",
    "testfields = gpd.GeoDataFrame(test_df.merge(cropfields1, on = 'OBJECTID', how = 'left'))"
   ]
  },
  {
   "cell_type": "code",
   "execution_count": 51,
   "metadata": {},
   "outputs": [],
   "source": [
    "testfields[\"geometry\"] = testfields[\"geometry_y\"]\n",
    "testfields = testfields.drop(columns = [\"geometry_y\"])\n",
    "testfields.crs = {'init': 'epsg:26910'}\n",
    "testfields = testfields.to_crs(\"+proj=longlat +datum=WGS84 +no_defs\")"
   ]
  },
  {
   "cell_type": "code",
   "execution_count": 52,
   "metadata": {},
   "outputs": [],
   "source": [
    "counties = gpd.read_file(\"cb_2016_us_county_500k/cb_2016_us_county_500k.shp\")\n",
    "cali = counties[counties.STATEFP == \"06\"]\n",
    "keep = [\"Yolo\", \"Lake\", \"Colusa\", \"Sutter\", \"Sacramento\", \"Solano\", \"Napa\"]\n",
    "yolo = cali[cali.NAME.isin(keep)]"
   ]
  },
  {
   "cell_type": "code",
   "execution_count": 67,
   "metadata": {},
   "outputs": [
    {
     "data": {
      "text/plain": [
       "Text(20.75,0.5,'Longitude')"
      ]
     },
     "execution_count": 67,
     "metadata": {},
     "output_type": "execute_result"
    },
    {
     "data": {
      "image/png": "[encoded data removed]",
      "text/plain": [
       "<Figure size 432x288 with 2 Axes>"
      ]
     },
     "metadata": {},
     "output_type": "display_data"
    }
   ],
   "source": [
    "ax = yolo.plot(color = \"white\", edgecolor = \"gray\")\n",
    "testfields.plot(ax =ax, column = 'entropy', legend = True)\n",
    "ax.set_xlim([-122.5, -121.3])\n",
    "ax.set_ylim([38.2, 39])\n",
    "ax.set_title(\"Tested Fields Colored by Entropy\", fontsize = 13)\n",
    "ax.set_xlabel(\"Latitude\", fontsize = 12)\n",
    "ax.set_ylabel(\"Longitude\", fontsize = 12)"
   ]
  },
  {
   "cell_type": "code",
   "execution_count": 54,
   "metadata": {},
   "outputs": [],
   "source": [
    "misclass_test = testfields.loc[misclassified]"
   ]
  },
  {
   "cell_type": "code",
   "execution_count": 55,
   "metadata": {},
   "outputs": [
    {
     "data": {
      "text/plain": [
       "10005"
      ]
     },
     "execution_count": 55,
     "metadata": {},
     "output_type": "execute_result"
    }
   ],
   "source": [
    "len(nonorg)"
   ]
  },
  {
   "cell_type": "code",
   "execution_count": 56,
   "metadata": {},
   "outputs": [
    {
     "data": {
      "text/plain": [
       "Text(44.3617,0.5,'Longitude')"
      ]
     },
     "execution_count": 56,
     "metadata": {},
     "output_type": "execute_result"
    },
    {
     "data": {
      "image/png": "[encoded data removed]",
      "text/plain": [
       "<Figure size 432x288 with 1 Axes>"
      ]
     },
     "metadata": {},
     "output_type": "display_data"
    }
   ],
   "source": [
    "ax = yolo.plot(color = \"white\", edgecolor = \"gray\")\n",
    "misclass_test.plot(ax =ax, column = 'entropy', legend = True)\n",
    "ax.set_xlim([-122.5, -121.3])\n",
    "ax.set_ylim([38.2, 39])\n",
    "ax.set_title(\"Misclassified Crops Colored by Entropy\", fontsize = 18)\n",
    "ax.set_xlabel(\"Latitude\", fontsize = 12)\n",
    "ax.set_ylabel(\"Longitude\", fontsize = 12)"
   ]
  },
  {
   "cell_type": "code",
   "execution_count": 57,
   "metadata": {},
   "outputs": [],
   "source": [
    "class_test = testfields.loc[classified]"
   ]
  },
  {
   "cell_type": "code",
   "execution_count": 64,
   "metadata": {},
   "outputs": [
    {
     "data": {
      "text/plain": [
       "Text(20.75,0.5,'Longitude')"
      ]
     },
     "execution_count": 64,
     "metadata": {},
     "output_type": "execute_result"
    },
    {
     "data": {
      "image/png": "[encoded data removed]",
      "text/plain": [
       "<Figure size 432x288 with 2 Axes>"
      ]
     },
     "metadata": {},
     "output_type": "display_data"
    }
   ],
   "source": [
    "ax = yolo.plot(color = \"white\", edgecolor = \"gray\")\n",
    "class_test.plot(ax =ax, column = 'entropy', legend = True)\n",
    "ax.set_xlim([-122.5, -121.3])\n",
    "ax.set_ylim([38.2, 39])\n",
    "ax.set_title(\"Correctly Classified Crops Colored by Entropy\", fontsize = 18)\n",
    "ax.set_xlabel(\"Latitude\", fontsize = 12)\n",
    "ax.set_ylabel(\"Longitude\", fontsize = 12)"
   ]
  },
  {
   "cell_type": "code",
   "execution_count": 59,
   "metadata": {},
   "outputs": [
    {
     "data": {
      "text/plain": [
       "0.9194652992316215"
      ]
     },
     "execution_count": 59,
     "metadata": {},
     "output_type": "execute_result"
    }
   ],
   "source": [
    "np.mean(misclass_test[\"entropy\"])"
   ]
  },
  {
   "cell_type": "code",
   "execution_count": 60,
   "metadata": {},
   "outputs": [
    {
     "data": {
      "text/plain": [
       "0.577529242426035"
      ]
     },
     "execution_count": 60,
     "metadata": {},
     "output_type": "execute_result"
    }
   ],
   "source": [
    "np.std(misclass_test[\"entropy\"])"
   ]
  },
  {
   "cell_type": "code",
   "execution_count": 61,
   "metadata": {},
   "outputs": [
    {
     "data": {
      "text/plain": [
       "0.1626121229460816"
      ]
     },
     "execution_count": 61,
     "metadata": {},
     "output_type": "execute_result"
    }
   ],
   "source": [
    "np.mean(class_test[\"entropy\"])"
   ]
  },
  {
   "cell_type": "code",
   "execution_count": 62,
   "metadata": {},
   "outputs": [
    {
     "data": {
      "text/plain": [
       "0.37095405841153517"
      ]
     },
     "execution_count": 62,
     "metadata": {},
     "output_type": "execute_result"
    }
   ],
   "source": [
    "np.std(class_test[\"entropy\"])"
   ]
  },
  {
   "cell_type": "code",
   "execution_count": null,
   "metadata": {},
   "outputs": [],
   "source": []
  },
  {
   "cell_type": "code",
   "execution_count": null,
   "metadata": {},
   "outputs": [],
   "source": []
  }
 ],
 "metadata": {
  "kernelspec": {
   "display_name": "Python 3",
   "language": "python",
   "name": "python3"
  },
  "language_info": {
   "codemirror_mode": {
    "name": "ipython",
    "version": 3
   },
   "file_extension": ".py",
   "mimetype": "text/x-python",
   "name": "python",
   "nbconvert_exporter": "python",
   "pygments_lexer": "ipython3",
   "version": "3.6.5"
  }
 },
 "nbformat": 4,
 "nbformat_minor": 2
}
