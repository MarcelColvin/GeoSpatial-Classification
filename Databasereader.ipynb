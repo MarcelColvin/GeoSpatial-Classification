{
 "cells": [
  {
   "cell_type": "code",
   "execution_count": 4,
   "metadata": {},
   "outputs": [],
   "source": [
    "import shapefile"
   ]
  },
  {
   "cell_type": "code",
   "execution_count": 158,
   "metadata": {},
   "outputs": [
    {
     "name": "stdout",
     "output_type": "stream",
     "text": [
      "2017_Crops.cpg                  T10SEH_20180415T184921_B06.jp2\r\n",
      "2017_Crops.dbf                  T10SEH_20180415T184921_B07.jp2\r\n",
      "2017_Crops.prj                  T10SEH_20180415T184921_B12.jp2\r\n",
      "2017_Crops.sbn                  T10SEH_20180415T184921_TCI.jp2\r\n",
      "2017_Crops.sbx                  \u001b[34mcrop2016\u001b[m\u001b[m/\r\n",
      "2017_Crops.shp                  m_3812110_nw_10_h_20160711.tif\r\n",
      "2017_Crops.shx                  \u001b[31mm_3812223_ne_10_h_20160712.tif\u001b[m\u001b[m*\r\n",
      "\u001b[34mCropscapeData_Davis\u001b[m\u001b[m/            \u001b[34msmaller_photos\u001b[m\u001b[m/\r\n",
      "T10SEH_20180415T184921_B01.jp2  yolo.png\r\n",
      "T10SEH_20180415T184921_B02.jp2  yolo2.png\r\n",
      "T10SEH_20180415T184921_B03.jp2  yolosmall.png\r\n",
      "T10SEH_20180415T184921_B04.jp2  yolosmall.tiff\r\n",
      "T10SEH_20180415T184921_B05.jp2  yolouneven.tiff\r\n"
     ]
    }
   ],
   "source": [
    "%ls"
   ]
  },
  {
   "cell_type": "code",
   "execution_count": 160,
   "metadata": {},
   "outputs": [],
   "source": [
    "sf = shapefile.Reader('crop2016/2016_Crops.dbf')"
   ]
  },
  {
   "cell_type": "code",
   "execution_count": 161,
   "metadata": {},
   "outputs": [],
   "source": [
    "shapes = sf.shapes()"
   ]
  },
  {
   "cell_type": "code",
   "execution_count": 162,
   "metadata": {},
   "outputs": [
    {
     "data": {
      "text/plain": [
       "['crop_list', 'C', 254, 0]"
      ]
     },
     "execution_count": 162,
     "metadata": {},
     "output_type": "execute_result"
    }
   ],
   "source": [
    "fields =sf.fields\n",
    "fields[-5]"
   ]
  },
  {
   "cell_type": "code",
   "execution_count": 163,
   "metadata": {},
   "outputs": [],
   "source": [
    "records = sf.records()"
   ]
  },
  {
   "cell_type": "code",
   "execution_count": 291,
   "metadata": {},
   "outputs": [
    {
     "data": {
      "text/plain": [
       "[('DeletionFlag', 'C', 1, 0),\n",
       " ['OBJECTID', 'N', 10, 0],\n",
       " ['county_num', 'N', 10, 0],\n",
       " ['pk_site_id', 'N', 10, 0],\n",
       " ['site_id', 'C', 8, 0],\n",
       " ['pk_permit_', 'N', 10, 0],\n",
       " ['permit_num', 'C', 7, 0],\n",
       " ['permittee', 'C', 100, 0],\n",
       " ['permit_yr', 'N', 10, 0],\n",
       " ['p_eff_date', 'D', 8, 0],\n",
       " ['p_exp_date', 'D', 8, 0],\n",
       " ['status', 'C', 20, 0],\n",
       " ['Version', 'N', 10, 0],\n",
       " ['MostRecAll', 'C', 1, 0],\n",
       " ['MostRecYr', 'C', 1, 0],\n",
       " ['site_name', 'C', 100, 0],\n",
       " ['loc_narr', 'C', 100, 0],\n",
       " ['is_active', 'C', 1, 0],\n",
       " ['size', 'F', 19, 11],\n",
       " ['size_units', 'C', 25, 0],\n",
       " ['crop_list', 'C', 254, 0],\n",
       " ['calc_acres', 'F', 19, 11],\n",
       " ['mtrs', 'C', 9, 0],\n",
       " ['hq_distric', 'C', 10, 0],\n",
       " ['site_distr', 'C', 10, 0]]"
      ]
     },
     "execution_count": 291,
     "metadata": {},
     "output_type": "execute_result"
    }
   ],
   "source": [
    "fields"
   ]
  },
  {
   "cell_type": "code",
   "execution_count": 165,
   "metadata": {},
   "outputs": [],
   "source": [
    "totalcropfields = [records[i][-5] for i in range(len(records))]"
   ]
  },
  {
   "cell_type": "code",
   "execution_count": 47,
   "metadata": {},
   "outputs": [],
   "source": [
    "from collections import Counter"
   ]
  },
  {
   "cell_type": "code",
   "execution_count": 166,
   "metadata": {},
   "outputs": [],
   "source": [
    "import re\n",
    "try:\n",
    "    m = re.search('^([^,]+),',totalcropfields[397])\n",
    "except:\n",
    "    m.group(0)"
   ]
  },
  {
   "cell_type": "code",
   "execution_count": 167,
   "metadata": {},
   "outputs": [],
   "source": [
    "m"
   ]
  },
  {
   "cell_type": "code",
   "execution_count": 168,
   "metadata": {},
   "outputs": [],
   "source": [
    "q= re.search('.*',totalcropfields[1])\n",
    "a = []"
   ]
  },
  {
   "cell_type": "code",
   "execution_count": 285,
   "metadata": {},
   "outputs": [],
   "source": [
    "finalcrops = []\n",
    "for i in range(len(totalcropfields)):\n",
    "    m = re.search('^([^,]+)[^,]',totalcropfields[i])\n",
    "    if m is None:\n",
    "        m = re.search('.*',totalcropfields[i])\n",
    "    finalcrops.append(m.group(0))\n",
    "    if m is None:\n",
    "        finalcrops.append('')\n",
    "for i in range(len(finalcrops)):\n",
    "    finalcrops[i] = re.sub('ORG ','',finalcrops[i])\n",
    "for i in range(len(finalcrops)):\n",
    "    finalcrops[i] = re.sub(' FOR/FOD','',finalcrops[i])"
   ]
  },
  {
   "cell_type": "code",
   "execution_count": 262,
   "metadata": {},
   "outputs": [],
   "source": [
    "\n"
   ]
  },
  {
   "cell_type": "code",
   "execution_count": 286,
   "metadata": {},
   "outputs": [],
   "source": [
    "construct = Counter(finalcrops)"
   ]
  },
  {
   "cell_type": "code",
   "execution_count": 287,
   "metadata": {},
   "outputs": [],
   "source": [
    "keys = construct.keys()"
   ]
  },
  {
   "cell_type": "code",
   "execution_count": 322,
   "metadata": {},
   "outputs": [
    {
     "data": {
      "text/plain": [
       "Counter({'': 1021,\n",
       "         'ALFALFA': 1541,\n",
       "         'ALFALFA GRASS M': 9,\n",
       "         'ALMOND': 1099,\n",
       "         'APPLE': 18,\n",
       "         'APRICOT': 12,\n",
       "         'ASPARAGUS': 19,\n",
       "         'BARLEY': 33,\n",
       "         'BASIL': 7,\n",
       "         'BEAN DRIED': 29,\n",
       "         'BEAN UNSP': 2,\n",
       "         'BEAN UNSPECIFD': 6,\n",
       "         'BEEHIVE': 16,\n",
       "         'BEET': 1,\n",
       "         'BLACKBERRY': 2,\n",
       "         'BLUEBERRY': 1,\n",
       "         'BROCCOLI': 4,\n",
       "         'CABBAGE': 4,\n",
       "         'CABBAGE SEED': 50,\n",
       "         'CANTALOUPE': 13,\n",
       "         'CARROT': 11,\n",
       "         'CARROT SEED': 4,\n",
       "         'CAULIFLOWER': 8,\n",
       "         'CHERRY': 4,\n",
       "         'CHESTNUT': 1,\n",
       "         'CILANTRO': 10,\n",
       "         'CITRUS': 34,\n",
       "         'COMM. FUMIGATN': 148,\n",
       "         'CORN': 355,\n",
       "         'CORN FOR FOD': 14,\n",
       "         'CORN SEED': 25,\n",
       "         'CUCUMBER': 30,\n",
       "         'CUCUMBER SEED': 4,\n",
       "         'DITCH': 2,\n",
       "         'EGGPLANT': 1,\n",
       "         'FIG': 6,\n",
       "         'FORAGE HAY/SLGE': 89,\n",
       "         'FRUIT': 3,\n",
       "         'FUMIGATN': 6,\n",
       "         'GARBANZO BEAN': 1,\n",
       "         'GARLIC': 81,\n",
       "         'GP-DEC. TREE': 1,\n",
       "         'GP-FLWRNG PLANT': 1,\n",
       "         'GRAPE': 676,\n",
       "         'GRASS SEED': 5,\n",
       "         'HEMP/CANNABIS': 81,\n",
       "         'HONEYDEW MELON': 4,\n",
       "         'HOPS': 1,\n",
       "         'INDUSTRIAL SITE': 2,\n",
       "         'KIWI': 1,\n",
       "         'LANDSCAPE MAIN': 8,\n",
       "         'LEEK': 4,\n",
       "         'LETTUCE LEAF': 3,\n",
       "         'MELON': 40,\n",
       "         'MELON SEED': 22,\n",
       "         'MUSTARD': 1,\n",
       "         'N-GRNHS PLANT': 5,\n",
       "         'N-GRNHS TRANSPL': 1,\n",
       "         'N-OUTDR FLOWERS': 2,\n",
       "         'N-OUTDR PLANTS': 4,\n",
       "         'NECTARINE': 2,\n",
       "         'NUTS': 1,\n",
       "         'OAT': 338,\n",
       "         'OAT SEED': 15,\n",
       "         'OF-FLOWER SEED': 9,\n",
       "         'OF-FLWRNG PLANT': 5,\n",
       "         'OLIVE': 76,\n",
       "         'ONION DRY': 1,\n",
       "         'ONION DRY ETC': 11,\n",
       "         'ONION SEED': 75,\n",
       "         'OP-TURF': 20,\n",
       "         'ORANGE': 8,\n",
       "         'ORCHARDGRASS': 33,\n",
       "         'ORG-N-GRNHS TRANSPT': 2,\n",
       "         'ORG-Rangeland': 4,\n",
       "         'OT-DEC. TREE': 7,\n",
       "         'OT-ROSE': 9,\n",
       "         'OT-TURF': 3,\n",
       "         'OT-VINE': 1,\n",
       "         'PASTURELAND': 270,\n",
       "         'PEACH': 13,\n",
       "         'PEAR': 15,\n",
       "         'PECAN': 10,\n",
       "         'PEPPER FRUIT SD': 8,\n",
       "         'PEPPER FRUITING': 1,\n",
       "         'PEPPER FRUITNG': 31,\n",
       "         'PERSIMMON': 1,\n",
       "         'PISTACHIO': 142,\n",
       "         'PLUM': 2,\n",
       "         'POME FRUIT': 1,\n",
       "         'POMEGRANATE': 8,\n",
       "         'PRUNE': 62,\n",
       "         'PUMPKIN': 28,\n",
       "         'PUMPKIN SEED': 2,\n",
       "         'RANGELAND': 181,\n",
       "         'RECREATION AREA': 7,\n",
       "         'RESEARCH COMMOD': 123,\n",
       "         'RESEARCH/PARK': 3,\n",
       "         'RICE': 773,\n",
       "         'RIGHTS OF WAY': 5,\n",
       "         'RYE': 1,\n",
       "         'RYEGRAS': 120,\n",
       "         'RYEGRASS FOR': 2,\n",
       "         'Rotational Crops': 6,\n",
       "         'SAFFLOWER': 348,\n",
       "         'SAFFLOWER SEED': 46,\n",
       "         'SOIL FUM/PREPLT': 1,\n",
       "         'SORGHUM': 8,\n",
       "         'SORGHUM MILO': 31,\n",
       "         'SOYBEAN SEED': 4,\n",
       "         'SQUASH': 67,\n",
       "         'SQUASH SEED': 13,\n",
       "         'SQUASH SUMMER': 1,\n",
       "         'SQUASH WINTER': 8,\n",
       "         'STONE FRUIT': 5,\n",
       "         'STRAWBERRY': 3,\n",
       "         'SUDANGRASS': 18,\n",
       "         'SUNFLOWER': 24,\n",
       "         'SUNFLOWER SEED': 1216,\n",
       "         'SWEET BASIL': 8,\n",
       "         'TOMATO': 55,\n",
       "         'TOMATO PROCESS': 1702,\n",
       "         'TOMATO PROCESSING': 101,\n",
       "         'TOMATO SEED': 5,\n",
       "         'TRITICALE': 41,\n",
       "         'TURF/SOD': 18,\n",
       "         'UNCUL NON-AG': 118,\n",
       "         'UNCULTIVATED AG': 1444,\n",
       "         'VEGETABLE': 9,\n",
       "         'VEGETABLE FRTG': 2,\n",
       "         'VEGETABLE LEAF': 5,\n",
       "         'VEGETABLE ROOT': 4,\n",
       "         'VEGETBLE FRTNG': 27,\n",
       "         'VETCH': 2,\n",
       "         'WALNUT': 600,\n",
       "         'WATERMELON': 41,\n",
       "         'WATERMELON SEED': 4,\n",
       "         'WHEAT': 1323,\n",
       "         'WHEAT SEED': 11,\n",
       "         'WILD RICE': 24,\n",
       "         'ZUCCHINI': 1})"
      ]
     },
     "execution_count": 322,
     "metadata": {},
     "output_type": "execute_result"
    }
   ],
   "source": [
    "construct"
   ]
  },
  {
   "cell_type": "code",
   "execution_count": null,
   "metadata": {},
   "outputs": [],
   "source": []
  },
  {
   "cell_type": "code",
   "execution_count": 321,
   "metadata": {},
   "outputs": [
    {
     "name": "stdout",
     "output_type": "stream",
     "text": [
      "CHESTNUT 1\n",
      "ONION DRY 1\n",
      "GP-FLWRNG PLANT 1\n",
      "BLUEBERRY 1\n",
      "N-GRNHS TRANSPL 1\n",
      "GP-DEC. TREE 1\n",
      "PERSIMMON 1\n",
      "NUTS 1\n",
      "MUSTARD 1\n",
      "POME FRUIT 1\n",
      "SOIL FUM/PREPLT 1\n",
      "KIWI 1\n",
      "BEET 1\n",
      "EGGPLANT 1\n",
      "PEPPER FRUITING 1\n",
      "HOPS 1\n",
      "RYE 1\n",
      "GARBANZO BEAN 1\n",
      "OT-VINE 1\n",
      "SQUASH SUMMER 1\n",
      "ZUCCHINI 1\n",
      "PLUM 2\n",
      "INDUSTRIAL SITE 2\n",
      "BEAN UNSP 2\n",
      "ORG-N-GRNHS TRANSPT 2\n",
      "DITCH 2\n",
      "NECTARINE 2\n",
      "RYEGRASS FOR 2\n",
      "VEGETABLE FRTG 2\n",
      "BLACKBERRY 2\n",
      "N-OUTDR FLOWERS 2\n",
      "VETCH 2\n",
      "PUMPKIN SEED 2\n",
      "OT-TURF 3\n",
      "FRUIT 3\n",
      "LETTUCE LEAF 3\n",
      "RESEARCH/PARK 3\n",
      "STRAWBERRY 3\n",
      "SOYBEAN SEED 4\n",
      "ORG-Rangeland 4\n",
      "N-OUTDR PLANTS 4\n",
      "CHERRY 4\n",
      "VEGETABLE ROOT 4\n",
      "LEEK 4\n",
      "CARROT SEED 4\n",
      "BROCCOLI 4\n",
      "CABBAGE 4\n",
      "HONEYDEW MELON 4\n",
      "WATERMELON SEED 4\n",
      "CUCUMBER SEED 4\n",
      "OF-FLWRNG PLANT 5\n",
      "RIGHTS OF WAY 5\n",
      "GRASS SEED 5\n",
      "N-GRNHS PLANT 5\n",
      "STONE FRUIT 5\n",
      "VEGETABLE LEAF 5\n",
      "TOMATO SEED 5\n",
      "FIG 6\n",
      "FUMIGATN 6\n",
      "BEAN UNSPECIFD 6\n",
      "Rotational Crops 6\n",
      "RECREATION AREA 7\n",
      "BASIL 7\n",
      "OT-DEC. TREE 7\n",
      "LANDSCAPE MAIN 8\n",
      "SWEET BASIL 8\n",
      "ORANGE 8\n",
      "CAULIFLOWER 8\n",
      "PEPPER FRUIT SD 8\n",
      "POMEGRANATE 8\n",
      "SORGHUM 8\n",
      "SQUASH WINTER 8\n",
      "OF-FLOWER SEED 9\n",
      "VEGETABLE 9\n",
      "ALFALFA GRASS M 9\n",
      "OT-ROSE 9\n",
      "PECAN 10\n",
      "CILANTRO 10\n",
      "WHEAT SEED 11\n",
      "CARROT 11\n",
      "ONION DRY ETC 11\n",
      "APRICOT 12\n",
      "PEACH 13\n",
      "SQUASH SEED 13\n",
      "CANTALOUPE 13\n",
      "CORN FOR FOD 14\n",
      "PEAR 15\n",
      "OAT SEED 15\n",
      "BEEHIVE 16\n",
      "APPLE 18\n",
      "TURF/SOD 18\n",
      "SUDANGRASS 18\n",
      "ASPARAGUS 19\n",
      "OP-TURF 20\n",
      "MELON SEED 22\n",
      "SUNFLOWER 24\n",
      "WILD RICE 24\n",
      "CORN SEED 25\n",
      "VEGETBLE FRTNG 27\n",
      "PUMPKIN 28\n",
      "BEAN DRIED 29\n",
      "CUCUMBER 30\n",
      "SORGHUM MILO 31\n",
      "PEPPER FRUITNG 31\n",
      "BARLEY 33\n",
      "ORCHARDGRASS 33\n",
      "CITRUS 34\n",
      "MELON 40\n",
      "WATERMELON 41\n",
      "TRITICALE 41\n",
      "SAFFLOWER SEED 46\n",
      "CABBAGE SEED 50\n",
      "TOMATO 55\n",
      "PRUNE 62\n",
      "SQUASH 67\n",
      "ONION SEED 75\n",
      "OLIVE 76\n",
      "GARLIC 81\n",
      "HEMP/CANNABIS 81\n",
      "FORAGE HAY/SLGE 89\n",
      "TOMATO PROCESSING 101\n",
      "UNCUL NON-AG 118\n",
      "RYEGRAS 120\n",
      "RESEARCH COMMOD 123\n",
      "PISTACHIO 142\n",
      "COMM. FUMIGATN 148\n",
      "RANGELAND 181\n",
      "PASTURELAND 270\n",
      "OAT 338\n",
      "SAFFLOWER 348\n",
      "CORN 355\n",
      "WALNUT 600\n",
      "GRAPE 676\n",
      "RICE 773\n",
      " 1021\n",
      "ALMOND 1099\n",
      "SUNFLOWER SEED 1216\n",
      "WHEAT 1323\n",
      "UNCULTIVATED AG 1444\n",
      "ALFALFA 1541\n",
      "TOMATO PROCESS 1702\n"
     ]
    }
   ],
   "source": [
    "for i in range(len(construct.keys())):\n",
    "    print(sorted(construct,key=construct.__getitem__)[i],sorted(construct.values())[i])\n"
   ]
  }
 ],
 "metadata": {
  "kernelspec": {
   "display_name": "Python 3",
   "language": "python",
   "name": "python3"
  },
  "language_info": {
   "codemirror_mode": {
    "name": "ipython",
    "version": 3
   },
   "file_extension": ".py",
   "mimetype": "text/x-python",
   "name": "python",
   "nbconvert_exporter": "python",
   "pygments_lexer": "ipython3",
   "version": "3.6.4"
  }
 },
 "nbformat": 4,
 "nbformat_minor": 2
}
