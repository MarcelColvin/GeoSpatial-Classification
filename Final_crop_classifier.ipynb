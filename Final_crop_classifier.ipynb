{
 "cells": [
  {
   "cell_type": "markdown",
   "metadata": {},
   "source": [
    "# Crop Classification and Residual Analysis"
   ]
  },
  {
   "cell_type": "code",
   "execution_count": 1,
   "metadata": {},
   "outputs": [],
   "source": [
    "import pandas as pd\n",
    "import scipy as sc\n",
    "from sklearn.model_selection import train_test_split\n",
    "import numpy as np\n",
    "from sklearn.metrics import confusion_matrix\n",
    "from sklearn.multiclass import OneVsOneClassifier\n",
    "from sklearn.svm import LinearSVC\n",
    "from sklearn.ensemble import RandomForestClassifier\n",
    "from sklearn.ensemble import ExtraTreesClassifier\n",
    "import matplotlib.pyplot as plt\n",
    "from matplotlib.colors import ListedColormap\n",
    "from sklearn import neighbors, datasets\n",
    "import warnings\n",
    "warnings.filterwarnings('ignore')"
   ]
  },
  {
   "cell_type": "code",
   "execution_count": 2,
   "metadata": {},
   "outputs": [],
   "source": [
    "Crops = pd.read_csv('Data/Agosto.csv').iloc[:,1:]"
   ]
  },
  {
   "cell_type": "code",
   "execution_count": 3,
   "metadata": {},
   "outputs": [],
   "source": [
    "Crops['crop_list']\n",
    "Active = Crops[Crops['is_active'] == 1]"
   ]
  },
  {
   "cell_type": "code",
   "execution_count": 4,
   "metadata": {},
   "outputs": [],
   "source": [
    "lottacrop = Active[Active.crop_list.str.contains('OAT')|Active.crop_list.str.contains('SUNFLOWER')  | Active.crop_list.str.contains('ALMOND') | Active.crop_list.str.contains('GRAPE') | Active.crop_list.str.contains('WALNUT') |Active.crop_list.str.contains('RICE') | Active.crop_list.str.contains('ALFALFA')| Active.crop_list.str.contains('ALFALFA') | Active.crop_list.str.contains('CORN')| Active.crop_list.str.contains('WHEAT')| Active.crop_list.str.contains('TOMATO')  | Active.crop_list.str.contains('SAFFLOWER')]"
   ]
  },
  {
   "cell_type": "code",
   "execution_count": 5,
   "metadata": {},
   "outputs": [],
   "source": [
    "nonorg = lottacrop.drop(lottacrop.crop_list[lottacrop.crop_list.str.contains('ORG')].index)"
   ]
  },
  {
   "cell_type": "code",
   "execution_count": 6,
   "metadata": {},
   "outputs": [],
   "source": [
    "lottacrop.crop_list[lottacrop['crop_list'].str.contains('ALMOND')] = 'ALMOND'\n",
    "lottacrop.crop_list[lottacrop['crop_list'].str.contains('GRAPE')] = 'GRAPE'\n",
    "lottacrop.crop_list[lottacrop['crop_list'].str.contains('OAT')] = 'OAT'\n",
    "lottacrop.crop_list[lottacrop['crop_list'].str.contains('RICE')] = 'RICE'\n",
    "lottacrop.crop_list[lottacrop['crop_list'].str.contains('SUNFLOWER')] = 'SUNFLOWER'\n",
    "lottacrop.crop_list[lottacrop['crop_list'].str.contains('WALNUT')] = 'WALNUT'\n",
    "lottacrop.crop_list[lottacrop['crop_list'].str.contains('ALFALFA')] = 'ALFALFA'\n",
    "lottacrop.crop_list[lottacrop['crop_list'].str.contains('CORN')] = 'CORN'\n",
    "lottacrop.crop_list[lottacrop['crop_list'].str.contains('WHEAT')] = 'WHEAT'\n",
    "lottacrop.crop_list[lottacrop['crop_list'].str.contains('TOMATO')] = 'TOMATO'\n",
    "lottacrop.crop_list[lottacrop['crop_list'].str.contains('SAFFLOWER')] = 'SAFFLOWER'"
   ]
  },
  {
   "cell_type": "code",
   "execution_count": 7,
   "metadata": {},
   "outputs": [],
   "source": [
    "lottacrop['code'] = lottacrop.crop_list.astype('category').cat.codes"
   ]
  },
  {
   "cell_type": "code",
   "execution_count": 8,
   "metadata": {},
   "outputs": [],
   "source": [
    "crops_list = {\"WALNUT\":9,\"ALFALFA\":0,\"OAT\":4,\"GRAPE\":3,\"ALMOND\":1,\"WHEAT\":10,\"RICE\":5,\"CORN\":2,\"SAFFLOWER\":6, \"SUNFLOWER\":7, \"TOMATO\":8}"
   ]
  },
  {
   "cell_type": "code",
   "execution_count": 9,
   "metadata": {},
   "outputs": [],
   "source": [
    "firstx = lottacrop.iloc[:,1:61].dropna()\n",
    "secondx = lottacrop.iloc[:,85:-1].dropna()"
   ]
  },
  {
   "cell_type": "markdown",
   "metadata": {},
   "source": [
    "# Model Selection Process with only July Crops\n",
    "### All Crops"
   ]
  },
  {
   "cell_type": "code",
   "execution_count": 10,
   "metadata": {},
   "outputs": [],
   "source": [
    "fullx = firstx.dropna()\n",
    "fully = lottacrop.loc[fullx.index,'code']\n",
    "fully.shape\n",
    "X_train, X_test, Y_train, Y_test = train_test_split(fullx,fully,test_size = .4)"
   ]
  },
  {
   "cell_type": "code",
   "execution_count": 11,
   "metadata": {},
   "outputs": [],
   "source": [
    "n_neighbors = 25\n",
    "\n",
    "RFC = RandomForestClassifier()\n",
    "extra = ExtraTreesClassifier()\n",
    "knn = neighbors.KNeighborsClassifier(n_neighbors, weights='distance',algorithm='ball_tree')\n",
    "\n",
    "knn.fit(X_train, Y_train)\n",
    "extra.fit(X_train,Y_train)\n",
    "RFC.fit(X_train,Y_train)\n",
    "svm = OneVsOneClassifier(LinearSVC(random_state=0)).fit(X_train, Y_train)"
   ]
  },
  {
   "cell_type": "code",
   "execution_count": 12,
   "metadata": {},
   "outputs": [
    {
     "name": "stdout",
     "output_type": "stream",
     "text": [
      "0.6061776061776062\n",
      "0.8400096525096525\n",
      "0.8614864864864865\n",
      "0.8571428571428571\n"
     ]
    }
   ],
   "source": [
    "print(svm.score(X_test,Y_test))\n",
    "print(knn.score(X_test,Y_test))\n",
    "print(extra.score(X_test,Y_test))\n",
    "print(RFC.score(X_test,Y_test))"
   ]
  },
  {
   "cell_type": "code",
   "execution_count": 13,
   "metadata": {},
   "outputs": [
    {
     "data": {
      "text/plain": [
       "array([6.6861861 , 6.40544123, 5.41392678, 5.98269005, 5.47142313,\n",
       "       5.85739069, 5.44172261, 6.47405186, 6.84467197, 5.98457432,\n",
       "       6.56550574])"
      ]
     },
     "execution_count": 13,
     "metadata": {},
     "output_type": "execute_result"
    }
   ],
   "source": [
    "entropy=sc.stats.entropy(extra.predict_proba(X_test))\n",
    "entropy"
   ]
  },
  {
   "cell_type": "code",
   "execution_count": 14,
   "metadata": {},
   "outputs": [
    {
     "data": {
      "text/plain": [
       "array([[550,  11,   0,   8,   6,   0,   1,   5,  13,   0,  10],\n",
       "       [ 17, 366,   1,   3,   8,   0,   0,   3,   3,   6,   9],\n",
       "       [  5,   4, 130,   4,   7,   1,   2,   4,   9,   8,   4],\n",
       "       [ 28,  22,   2, 209,   5,   0,   1,   4,   6,   5,   8],\n",
       "       [  2,   6,   0,   0, 103,   2,   2,   0,   0,   0,  24],\n",
       "       [  5,   1,   2,   4,   2, 300,   5,   1,   2,   0,   4],\n",
       "       [  6,   2,   4,   1,   3,   1, 131,   2,   4,   1,  12],\n",
       "       [  7,   7,   7,   0,   1,   4,   2, 393,  24,   0,   3],\n",
       "       [ 11,   4,   8,   2,   2,   3,   1,  36, 694,   2,  10],\n",
       "       [ 17,  31,   0,   4,   1,   0,   0,   0,   0, 181,   1],\n",
       "       [ 10,   8,   3,   4,   8,   0,   3,   6,  12,   1, 513]])"
      ]
     },
     "execution_count": 14,
     "metadata": {},
     "output_type": "execute_result"
    }
   ],
   "source": [
    "confusion_matrix(Y_test,extra.predict(X_test))"
   ]
  },
  {
   "cell_type": "code",
   "execution_count": 15,
   "metadata": {},
   "outputs": [
    {
     "data": {
      "text/plain": [
       "array([[543,   7,   1,   7,   6,   1,   2,   3,  14,   6,  14],\n",
       "       [ 18, 363,   1,  13,   4,   0,   0,   1,   2,   5,   9],\n",
       "       [  5,   5, 123,   2,   6,   1,   2,  10,  11,   8,   5],\n",
       "       [ 32,  20,   2, 205,   0,   0,   0,   2,   9,   7,  13],\n",
       "       [  0,   2,   3,   1, 108,   0,   1,   0,   0,   0,  24],\n",
       "       [  0,   2,   5,   0,   1, 297,   6,   0,   4,   3,   8],\n",
       "       [  1,   3,   5,   1,   4,   0, 129,   3,   9,   1,  11],\n",
       "       [ 10,   1,   6,   0,   1,   7,   3, 392,  24,   0,   4],\n",
       "       [  7,   7,   9,   2,   0,   4,   3,  33, 698,   1,   9],\n",
       "       [ 13,  25,   1,   6,   3,   3,   0,   0,   1, 181,   2],\n",
       "       [  7,   8,   5,   2,   9,   0,   4,   7,  11,   2, 513]])"
      ]
     },
     "execution_count": 15,
     "metadata": {},
     "output_type": "execute_result"
    }
   ],
   "source": [
    "confusion_matrix(Y_test,RFC.predict(X_test))"
   ]
  },
  {
   "cell_type": "markdown",
   "metadata": {},
   "source": [
    "### Non-Organic"
   ]
  },
  {
   "cell_type": "code",
   "execution_count": 16,
   "metadata": {},
   "outputs": [],
   "source": [
    "firstx = nonorg.iloc[:,1:61].dropna()\n",
    "fullx = firstx.dropna()\n",
    "fully = lottacrop.loc[fullx.index,'code']\n",
    "fully.shape\n",
    "X_train, X_test, Y_train, Y_test = train_test_split(fullx,fully,test_size = .4)"
   ]
  },
  {
   "cell_type": "code",
   "execution_count": 17,
   "metadata": {},
   "outputs": [],
   "source": [
    "n_neighbors = 25\n",
    "\n",
    "RFC = RandomForestClassifier()\n",
    "extra = ExtraTreesClassifier()\n",
    "knn = neighbors.KNeighborsClassifier(n_neighbors, weights='distance',algorithm='ball_tree')\n",
    "\n",
    "knn.fit(X_train, Y_train)\n",
    "extra.fit(X_train,Y_train)\n",
    "RFC.fit(X_train,Y_train)\n",
    "svm = OneVsOneClassifier(LinearSVC(random_state=0)).fit(X_train, Y_train)"
   ]
  },
  {
   "cell_type": "code",
   "execution_count": 18,
   "metadata": {},
   "outputs": [
    {
     "name": "stdout",
     "output_type": "stream",
     "text": [
      "0.55625\n",
      "0.84725\n",
      "0.8665\n",
      "0.858\n"
     ]
    }
   ],
   "source": [
    "print(svm.score(X_test,Y_test))\n",
    "print(knn.score(X_test,Y_test))\n",
    "print(extra.score(X_test,Y_test))\n",
    "print(RFC.score(X_test,Y_test))"
   ]
  },
  {
   "cell_type": "code",
   "execution_count": 19,
   "metadata": {},
   "outputs": [
    {
     "data": {
      "text/plain": [
       "array([6.65396443, 6.42124452, 5.3799943 , 5.97153564, 5.28113064,\n",
       "       5.84344983, 5.47476697, 6.50056152, 6.75684671, 5.85509528,\n",
       "       6.49363777])"
      ]
     },
     "execution_count": 19,
     "metadata": {},
     "output_type": "execute_result"
    }
   ],
   "source": [
    "entropy=sc.stats.entropy(extra.predict_proba(X_test))\n",
    "entropy"
   ]
  },
  {
   "cell_type": "code",
   "execution_count": 20,
   "metadata": {},
   "outputs": [
    {
     "data": {
      "text/plain": [
       "array([[541,   6,   1,  12,   2,   0,   3,   5,   9,   1,  13],\n",
       "       [ 13, 386,   3,  11,   1,   0,   1,   1,   3,   3,  11],\n",
       "       [  5,   2, 123,   1,   1,   7,   1,   4,  10,   5,   5],\n",
       "       [ 19,  15,   0, 208,   0,   0,   3,   6,   9,   5,   6],\n",
       "       [  8,   5,   0,   2, 105,   0,   2,   0,   0,   2,  16],\n",
       "       [  2,   0,   4,   1,   0, 288,   3,  10,   3,   3,   0],\n",
       "       [  7,   5,   2,   3,   1,   1, 109,   3,   3,   0,  14],\n",
       "       [  8,  14,   2,   3,   2,   5,   8, 425,  25,   0,   5],\n",
       "       [  7,   2,   5,   3,   0,   2,   1,  27, 620,   0,   6],\n",
       "       [ 23,  26,   1,   5,   1,   1,   0,   2,   6, 167,   1],\n",
       "       [  9,   8,   2,   0,   2,   0,   6,   3,  10,   0, 494]])"
      ]
     },
     "execution_count": 20,
     "metadata": {},
     "output_type": "execute_result"
    }
   ],
   "source": [
    "confusion_matrix(Y_test,extra.predict(X_test))"
   ]
  },
  {
   "cell_type": "code",
   "execution_count": 21,
   "metadata": {},
   "outputs": [
    {
     "data": {
      "text/plain": [
       "array([[533,  12,   1,   5,   3,   0,   4,   4,  14,   3,  14],\n",
       "       [ 14, 370,   1,  16,   4,   0,   0,   2,   4,   8,  14],\n",
       "       [  6,   1, 118,   1,   3,   7,   1,   6,  11,   4,   6],\n",
       "       [ 27,  12,   1, 212,   1,   0,   0,   2,   9,   2,   5],\n",
       "       [  5,  11,   0,   0,  98,   0,   2,   1,   0,   2,  21],\n",
       "       [  4,   3,   4,   0,   1, 288,   3,   7,   0,   4,   0],\n",
       "       [  5,   3,   2,   3,   1,   1, 111,   3,   2,   0,  17],\n",
       "       [ 12,  11,   2,   0,   1,   5,   4, 425,  30,   0,   7],\n",
       "       [  8,   0,   5,   2,   0,   2,   0,  24, 621,   1,  10],\n",
       "       [ 21,  31,   1,   7,   0,   4,   0,   1,   4, 164,   0],\n",
       "       [  8,   5,   2,   1,   6,   0,   7,   3,  10,   0, 492]])"
      ]
     },
     "execution_count": 21,
     "metadata": {},
     "output_type": "execute_result"
    }
   ],
   "source": [
    "confusion_matrix(Y_test,RFC.predict(X_test))"
   ]
  },
  {
   "cell_type": "markdown",
   "metadata": {},
   "source": [
    "# Model Selection Process with all Crops (July and August)"
   ]
  },
  {
   "cell_type": "code",
   "execution_count": 22,
   "metadata": {},
   "outputs": [],
   "source": [
    "fullx = firstx.join(secondx).dropna()\n",
    "fully = lottacrop.loc[fullx.index,'code']\n",
    "fully.shape\n",
    "X_train, X_test, Y_train, Y_test = train_test_split(fullx,fully,test_size = .4)"
   ]
  },
  {
   "cell_type": "code",
   "execution_count": 23,
   "metadata": {},
   "outputs": [],
   "source": [
    "n_neighbors = 25\n",
    "\n",
    "RFC = RandomForestClassifier()\n",
    "extra = ExtraTreesClassifier()\n",
    "knn = neighbors.KNeighborsClassifier(n_neighbors, weights='distance',algorithm='ball_tree')\n",
    "\n",
    "knn.fit(X_train, Y_train)\n",
    "extra.fit(X_train,Y_train)\n",
    "RFC.fit(X_train,Y_train)\n",
    "svm = OneVsOneClassifier(LinearSVC(random_state=0)).fit(X_train, Y_train)"
   ]
  },
  {
   "cell_type": "code",
   "execution_count": 24,
   "metadata": {},
   "outputs": [
    {
     "name": "stdout",
     "output_type": "stream",
     "text": [
      "0.716\n",
      "0.86575\n",
      "0.87875\n",
      "0.87725\n"
     ]
    }
   ],
   "source": [
    "print(svm.score(X_test,Y_test))\n",
    "print(knn.score(X_test,Y_test))\n",
    "print(extra.score(X_test,Y_test))\n",
    "print(RFC.score(X_test,Y_test))"
   ]
  },
  {
   "cell_type": "code",
   "execution_count": 25,
   "metadata": {},
   "outputs": [
    {
     "data": {
      "text/plain": [
       "array([6.64031096, 6.39602958, 5.37327784, 5.92426512, 5.27127414,\n",
       "       5.81348155, 5.31962644, 6.50516117, 6.7530588 , 5.86379834,\n",
       "       6.4273698 ])"
      ]
     },
     "execution_count": 25,
     "metadata": {},
     "output_type": "execute_result"
    }
   ],
   "source": [
    "entropy=sc.stats.entropy(extra.predict_proba(X_test))\n",
    "entropy"
   ]
  },
  {
   "cell_type": "code",
   "execution_count": 26,
   "metadata": {},
   "outputs": [
    {
     "data": {
      "text/plain": [
       "array([[571,   4,   1,   4,   2,   0,   1,   2,   5,   0,   5],\n",
       "       [  4, 390,   0,   5,   8,   1,   0,   3,   4,   4,   9],\n",
       "       [  5,   3, 120,   1,   1,   1,   4,   8,   9,   3,   6],\n",
       "       [ 17,  30,   0, 211,   2,   0,   0,   4,   0,   5,   8],\n",
       "       [  6,  10,   0,   0,  85,   2,   0,   0,   0,   3,  16],\n",
       "       [  3,   0,   0,   1,   1, 283,   2,   1,   0,   2,   3],\n",
       "       [  8,   0,   6,   1,   1,   1, 117,   6,   7,   0,   4],\n",
       "       [  9,   5,   6,   0,   1,   7,   4, 455,  29,   2,   2],\n",
       "       [ 11,   1,  13,   0,   0,   1,   0,  35, 625,   1,  10],\n",
       "       [  6,  30,   0,   7,   0,   1,   0,   1,   1, 191,   3],\n",
       "       [  4,   7,   3,   1,  11,   0,   4,   5,   9,   2, 467]])"
      ]
     },
     "execution_count": 26,
     "metadata": {},
     "output_type": "execute_result"
    }
   ],
   "source": [
    "confusion_matrix(Y_test,extra.predict(X_test))"
   ]
  },
  {
   "cell_type": "code",
   "execution_count": 27,
   "metadata": {},
   "outputs": [
    {
     "data": {
      "text/plain": [
       "array([[566,   5,   0,   4,   3,   0,   1,   1,   7,   0,   8],\n",
       "       [  3, 391,   0,   6,   2,   0,   0,   6,   2,   5,  13],\n",
       "       [  5,   6, 117,   0,   0,   1,   3,   8,  13,   3,   5],\n",
       "       [ 18,  26,   1, 211,   2,   0,   1,   3,   0,   6,   9],\n",
       "       [  5,   7,   0,   2,  92,   4,   1,   2,   0,   0,   9],\n",
       "       [  3,   0,   0,   0,   4, 284,   2,   2,   0,   0,   1],\n",
       "       [  5,   1,   0,   1,   1,   1, 114,   9,  11,   1,   7],\n",
       "       [ 11,   1,   4,   0,   3,   7,   4, 448,  38,   1,   3],\n",
       "       [ 10,   1,  11,   0,   1,   1,   0,  36, 626,   0,  11],\n",
       "       [  1,  26,   1,  10,   1,   4,   1,   2,   3, 188,   3],\n",
       "       [  3,   7,   1,   0,  11,   0,   4,   6,   9,   0, 472]])"
      ]
     },
     "execution_count": 27,
     "metadata": {},
     "output_type": "execute_result"
    }
   ],
   "source": [
    "confusion_matrix(Y_test,RFC.predict(X_test))"
   ]
  },
  {
   "cell_type": "markdown",
   "metadata": {},
   "source": [
    "# Using Non-Organic Data"
   ]
  },
  {
   "cell_type": "code",
   "execution_count": 28,
   "metadata": {},
   "outputs": [],
   "source": [
    "nonorg.crop_list[nonorg['crop_list'].str.contains('ALMOND')] = 'ALMOND'\n",
    "nonorg.crop_list[nonorg['crop_list'].str.contains('GRAPE')] = 'GRAPE'\n",
    "nonorg.crop_list[nonorg['crop_list'].str.contains('OAT')] = 'OAT'\n",
    "nonorg.crop_list[nonorg['crop_list'].str.contains('RICE')] = 'RICE'\n",
    "nonorg.crop_list[nonorg['crop_list'].str.contains('SUNFLOWER')] = 'SUNFLOWER'\n",
    "nonorg.crop_list[nonorg['crop_list'].str.contains('WALNUT')] = 'WALNUT'\n",
    "nonorg.crop_list[nonorg['crop_list'].str.contains('ALFALFA')] = 'ALFALFA'\n",
    "nonorg.crop_list[nonorg['crop_list'].str.contains('CORN')] = 'CORN'\n",
    "nonorg.crop_list[nonorg['crop_list'].str.contains('WHEAT')] = 'WHEAT'\n",
    "nonorg.crop_list[nonorg['crop_list'].str.contains('TOMATO')] = 'TOMATO'\n",
    "nonorg.crop_list[nonorg['crop_list'].str.contains('SAFFLOWER')] = 'SAFFLOWER'"
   ]
  },
  {
   "cell_type": "code",
   "execution_count": 29,
   "metadata": {},
   "outputs": [],
   "source": [
    "nonorg['code'] = nonorg.crop_list.astype('category').cat.codes"
   ]
  },
  {
   "cell_type": "code",
   "execution_count": 30,
   "metadata": {},
   "outputs": [],
   "source": [
    "firstx = nonorg.iloc[:,1:61].dropna()\n",
    "secondx = nonorg.iloc[:,85:-1].dropna()"
   ]
  },
  {
   "cell_type": "code",
   "execution_count": 31,
   "metadata": {},
   "outputs": [],
   "source": [
    "fullx = firstx.join(secondx).dropna()\n",
    "fully = nonorg.loc[fullx.index,'code']\n",
    "fully.shape\n",
    "X_train, X_test, Y_train, Y_test = train_test_split(fullx,fully,test_size = .4)"
   ]
  },
  {
   "cell_type": "code",
   "execution_count": 32,
   "metadata": {},
   "outputs": [],
   "source": [
    "n_neighbors = 25\n",
    "\n",
    "RFC = RandomForestClassifier()\n",
    "extra = ExtraTreesClassifier()\n",
    "knn = neighbors.KNeighborsClassifier(n_neighbors, weights='distance',algorithm='ball_tree')\n",
    "\n",
    "knn.fit(X_train, Y_train)\n",
    "extra.fit(X_train,Y_train)\n",
    "RFC.fit(X_train,Y_train)\n",
    "svm = OneVsOneClassifier(LinearSVC(random_state=0)).fit(X_train, Y_train)"
   ]
  },
  {
   "cell_type": "code",
   "execution_count": 33,
   "metadata": {},
   "outputs": [
    {
     "name": "stdout",
     "output_type": "stream",
     "text": [
      "0.62025\n",
      "0.871\n",
      "0.88575\n",
      "0.87525\n"
     ]
    }
   ],
   "source": [
    "print(svm.score(X_test,Y_test))\n",
    "print(knn.score(X_test,Y_test))\n",
    "print(extra.score(X_test,Y_test))\n",
    "print(RFC.score(X_test,Y_test))"
   ]
  },
  {
   "cell_type": "code",
   "execution_count": 34,
   "metadata": {},
   "outputs": [
    {
     "data": {
      "text/plain": [
       "array([6.58989289, 6.45690067, 5.42344186, 6.00560748, 5.36318454,\n",
       "       5.84304487, 5.33458371, 6.48498022, 6.74506062, 5.79744886,\n",
       "       6.43775856])"
      ]
     },
     "execution_count": 34,
     "metadata": {},
     "output_type": "execute_result"
    }
   ],
   "source": [
    "entropy=sc.stats.entropy(extra.predict_proba(X_test))\n",
    "entropy"
   ]
  },
  {
   "cell_type": "code",
   "execution_count": 35,
   "metadata": {},
   "outputs": [
    {
     "data": {
      "text/plain": [
       "array([[557,   6,   0,   4,   7,   0,   2,   2,  11,   0,   6],\n",
       "       [  7, 407,   0,   5,   3,   0,   0,   0,   0,   5,   7],\n",
       "       [  0,   3, 120,   1,   1,   0,   9,   5,   7,   1,   3],\n",
       "       [ 10,  20,   0, 234,   1,   0,   1,   0,   2,   2,   3],\n",
       "       [  4,   9,   1,   2,  95,   2,   3,   0,   0,   1,  19],\n",
       "       [  1,   1,   0,   1,   1, 301,   3,   2,   0,   0,   4],\n",
       "       [  4,   0,   5,   0,   4,   0, 121,   5,   1,   0,  12],\n",
       "       [ 10,   3,   7,   2,   1,   6,   7, 445,  16,   2,   6],\n",
       "       [  9,   4,   9,   3,   0,   0,   0,  37, 635,   0,   6],\n",
       "       [ 13,  29,   2,  14,   2,   0,   0,   0,   1, 176,   4],\n",
       "       [  3,   4,   3,   2,  10,   1,   5,   6,  11,   0, 452]])"
      ]
     },
     "execution_count": 35,
     "metadata": {},
     "output_type": "execute_result"
    }
   ],
   "source": [
    "confusion_matrix(Y_test,extra.predict(X_test))"
   ]
  },
  {
   "cell_type": "code",
   "execution_count": 36,
   "metadata": {},
   "outputs": [
    {
     "data": {
      "text/plain": [
       "array([[555,   6,   0,   5,   6,   0,   1,   6,   7,   0,   9],\n",
       "       [  3, 395,   0,   9,   6,   0,   1,   0,   0,   8,  12],\n",
       "       [  2,   2, 113,   0,   0,   0,   7,   8,  11,   4,   3],\n",
       "       [ 15,  21,   1, 223,   1,   0,   0,   0,   5,   6,   1],\n",
       "       [  5,   6,   0,   1, 100,   2,   2,   0,   0,   0,  20],\n",
       "       [  1,   3,   3,   0,   0, 297,   3,   2,   0,   1,   4],\n",
       "       [  4,   2,   5,   2,   2,   0, 121,   2,   0,   2,  12],\n",
       "       [ 10,   2,   8,   0,   2,   5,   3, 440,  31,   1,   3],\n",
       "       [ 10,   1,   8,   0,   0,   0,   2,  36, 634,   0,  12],\n",
       "       [ 12,  30,   1,  12,   4,   0,   0,   2,   2, 175,   3],\n",
       "       [  2,   8,   3,   1,  14,   1,   4,   2,  14,   0, 448]])"
      ]
     },
     "execution_count": 36,
     "metadata": {},
     "output_type": "execute_result"
    }
   ],
   "source": [
    "confusion_matrix(Y_test,RFC.predict(X_test))"
   ]
  },
  {
   "cell_type": "markdown",
   "metadata": {},
   "source": [
    "## Residual Analysis\n",
    "#### Entropy Analysis for Extra Trees Classifier"
   ]
  },
  {
   "cell_type": "code",
   "execution_count": 37,
   "metadata": {},
   "outputs": [],
   "source": [
    "misclassified = np.where(Y_test != extra.predict(X_test))\n",
    "classified = np.where(Y_test == extra.predict(X_test))"
   ]
  },
  {
   "cell_type": "code",
   "execution_count": 38,
   "metadata": {},
   "outputs": [],
   "source": [
    "def logfcn(x):\n",
    "    c = x.copy()\n",
    "    c[np.where(c == 0.0)] = 1 \n",
    "    return np.log(c)"
   ]
  },
  {
   "cell_type": "code",
   "execution_count": 39,
   "metadata": {},
   "outputs": [],
   "source": [
    "pk = extra.predict_proba(X_test)\n",
    "d = pk * logfcn(pk)\n",
    "entropy = -1*np.sum(d, axis = 1)"
   ]
  },
  {
   "cell_type": "code",
   "execution_count": 40,
   "metadata": {},
   "outputs": [],
   "source": [
    "import geopandas as gpd"
   ]
  },
  {
   "cell_type": "code",
   "execution_count": 41,
   "metadata": {},
   "outputs": [],
   "source": [
    "cropfields = gpd.read_file(\"Crops_2016/Crops_2016_26910.shp\")\n",
    "cropfields1 = cropfields[[\"OBJECTID\", \"geometry\"]]"
   ]
  },
  {
   "cell_type": "code",
   "execution_count": 42,
   "metadata": {},
   "outputs": [],
   "source": [
    "test_df = lottacrop.loc[X_test.index]\n",
    "test_df['entropy'] = entropy\n",
    "testfields = gpd.GeoDataFrame(test_df.merge(cropfields1, on = 'OBJECTID', how = 'left'))"
   ]
  },
  {
   "cell_type": "code",
   "execution_count": 43,
   "metadata": {},
   "outputs": [],
   "source": [
    "testfields[\"geometry\"] = testfields[\"geometry_y\"]\n",
    "testfields = testfields.drop(columns = [\"geometry_y\"])\n",
    "testfields.crs = {'init': 'epsg:26910'}\n",
    "testfields = testfields.to_crs(\"+proj=longlat +datum=WGS84 +no_defs\")"
   ]
  },
  {
   "cell_type": "code",
   "execution_count": 44,
   "metadata": {},
   "outputs": [],
   "source": [
    "counties = gpd.read_file(\"cb_2016_us_county_500k/cb_2016_us_county_500k.shp\")\n",
    "cali = counties[counties.STATEFP == \"06\"]\n",
    "keep = [\"Yolo\", \"Lake\", \"Colusa\", \"Sutter\", \"Sacramento\", \"Solano\", \"Napa\"]\n",
    "yolo = cali[cali.NAME.isin(keep)]"
   ]
  },
  {
   "cell_type": "code",
   "execution_count": 103,
   "metadata": {},
   "outputs": [
    {
     "data": {
      "text/plain": [
       "Text(20.75,0.5,'Longitude')"
      ]
     },
     "execution_count": 103,
     "metadata": {},
     "output_type": "execute_result"
    },
    {
     "data": {
      "image/png": "[encoded data removed]",
      "text/plain": [
       "<Figure size 432x288 with 2 Axes>"
      ]
     },
     "metadata": {},
     "output_type": "display_data"
    }
   ],
   "source": [
    "ax = yolo.plot(color = \"white\", edgecolor = \"gray\")\n",
    "testfields.plot(ax =ax, column = 'entropy', legend = True)\n",
    "ax.set_xlim([-122.5, -121.3])\n",
    "ax.set_ylim([38.2, 39])\n",
    "ax.set_title(\"Tested Crops Colored by Entropy\", fontsize = 12)\n",
    "ax.set_xlabel(\"Latitude\", fontsize = 12)\n",
    "ax.set_ylabel(\"Longitude\", fontsize = 12)"
   ]
  },
  {
   "cell_type": "code",
   "execution_count": 47,
   "metadata": {},
   "outputs": [],
   "source": [
    "misclass_test = testfields.loc[misclassified]"
   ]
  },
  {
   "cell_type": "code",
   "execution_count": 102,
   "metadata": {},
   "outputs": [
    {
     "data": {
      "text/plain": [
       "Text(20.75,0.5,'Longitude')"
      ]
     },
     "execution_count": 102,
     "metadata": {},
     "output_type": "execute_result"
    },
    {
     "data": {
      "image/png": "[encoded data removed]",
      "text/plain": [
       "<Figure size 432x288 with 2 Axes>"
      ]
     },
     "metadata": {},
     "output_type": "display_data"
    }
   ],
   "source": [
    "ax = yolo.plot(color = \"white\", edgecolor = \"gray\")\n",
    "misclass_test.plot(ax =ax, column = 'entropy', legend = True)\n",
    "ax.set_xlim([-122.5, -121.3])\n",
    "ax.set_ylim([38.2, 39])\n",
    "ax.set_title(\"Misclassified Crops Colored by Entropy\", fontsize = 12)\n",
    "ax.set_xlabel(\"Latitude\", fontsize = 12)\n",
    "ax.set_ylabel(\"Longitude\", fontsize = 12)"
   ]
  },
  {
   "cell_type": "code",
   "execution_count": 50,
   "metadata": {},
   "outputs": [],
   "source": [
    "class_test = testfields.loc[classified]"
   ]
  },
  {
   "cell_type": "code",
   "execution_count": 109,
   "metadata": {},
   "outputs": [
    {
     "data": {
      "text/plain": [
       "Text(20.75,0.5,'Longitude')"
      ]
     },
     "execution_count": 109,
     "metadata": {},
     "output_type": "execute_result"
    },
    {
     "data": {
      "image/png": "[encoded data removed]",
      "text/plain": [
       "<Figure size 432x288 with 2 Axes>"
      ]
     },
     "metadata": {},
     "output_type": "display_data"
    }
   ],
   "source": [
    "#fig,ax=plt.subplots()\n",
    "ax = yolo.plot(color = \"white\", edgecolor = \"gray\", legend = False)\n",
    "class_test.plot(ax =ax, column = 'entropy', legend = True)\n",
    "ax.set_xlim([-122.5, -121.3])\n",
    "ax.set_ylim([38.2, 39])\n",
    "ax.set_title(\"Correctly Classified Crops Colored by Entropy\", fontsize = 12)\n",
    "ax.set_xlabel(\"Latitude\", fontsize = 12)\n",
    "ax.set_ylabel(\"Longitude\", fontsize = 12)"
   ]
  },
  {
   "cell_type": "code",
   "execution_count": 52,
   "metadata": {},
   "outputs": [
    {
     "data": {
      "text/plain": [
       "0.9411720756993583"
      ]
     },
     "execution_count": 52,
     "metadata": {},
     "output_type": "execute_result"
    }
   ],
   "source": [
    "np.mean(misclass_test[\"entropy\"])"
   ]
  },
  {
   "cell_type": "code",
   "execution_count": 53,
   "metadata": {},
   "outputs": [
    {
     "data": {
      "text/plain": [
       "0.5931369046017123"
      ]
     },
     "execution_count": 53,
     "metadata": {},
     "output_type": "execute_result"
    }
   ],
   "source": [
    "np.std(misclass_test[\"entropy\"])"
   ]
  },
  {
   "cell_type": "code",
   "execution_count": 54,
   "metadata": {},
   "outputs": [
    {
     "data": {
      "text/plain": [
       "0.1729277818693619"
      ]
     },
     "execution_count": 54,
     "metadata": {},
     "output_type": "execute_result"
    }
   ],
   "source": [
    "np.mean(class_test[\"entropy\"])"
   ]
  },
  {
   "cell_type": "code",
   "execution_count": 55,
   "metadata": {},
   "outputs": [
    {
     "data": {
      "text/plain": [
       "0.3823402374774141"
      ]
     },
     "execution_count": 55,
     "metadata": {},
     "output_type": "execute_result"
    }
   ],
   "source": [
    "np.std(class_test[\"entropy\"])"
   ]
  }
 ],
 "metadata": {
  "kernelspec": {
   "display_name": "Python 3",
   "language": "python",
   "name": "python3"
  },
  "language_info": {
   "codemirror_mode": {
    "name": "ipython",
    "version": 3
   },
   "file_extension": ".py",
   "mimetype": "text/x-python",
   "name": "python",
   "nbconvert_exporter": "python",
   "pygments_lexer": "ipython3",
   "version": "3.6.5"
  }
 },
 "nbformat": 4,
 "nbformat_minor": 2
}
