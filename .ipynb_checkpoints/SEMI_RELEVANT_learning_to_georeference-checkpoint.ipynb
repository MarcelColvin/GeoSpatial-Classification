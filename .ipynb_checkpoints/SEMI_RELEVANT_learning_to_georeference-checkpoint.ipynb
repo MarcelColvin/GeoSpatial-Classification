{
 "cells": [
  {
   "cell_type": "code",
   "execution_count": 1,
   "metadata": {},
   "outputs": [],
   "source": [
    "import pandas as pd\n",
    "import shapely.geometry as geom\n",
    "import matplotlib.pyplot as plt\n",
    "import geopandas as gpd\n",
    "from shapely.geometry import mapping\n",
    "import rasterio\n",
    "from rasterio.mask import mask\n",
    "import numpy as np\n",
    "from PIL import Image\n",
    "import os\n",
    "%matplotlib inline"
   ]
  },
  {
   "cell_type": "code",
   "execution_count": 6,
   "metadata": {},
   "outputs": [],
   "source": [
    "pics = gpd.read_file(\"Picture_coords/pic_coords.shp\")\n",
    "fields = gpd.read_file(\"Crops_2016/Crops_2016_26910.shp\")"
   ]
  },
  {
   "cell_type": "code",
   "execution_count": 9,
   "metadata": {},
   "outputs": [],
   "source": [
    "pics.crs = {\"init\":\"epsg:4326\"}"
   ]
  },
  {
   "cell_type": "code",
   "execution_count": 10,
   "metadata": {},
   "outputs": [],
   "source": [
    "pics = pics.to_crs('+proj=utm +zone=10 +ellps=GRS80 +datum=NAD83 +units=m +no_defs' )"
   ]
  },
  {
   "cell_type": "code",
   "execution_count": 12,
   "metadata": {},
   "outputs": [],
   "source": [
    "pic1= pics.iloc[0][\"geometry\"]\n",
    "def container(x):\n",
    "    \"\"\"This function applies the contain function which \n",
    "    determins if the coordinates of crop field are in a photo\n",
    "    \"\"\"\n",
    "    return(pic1.intersects(x))\n",
    "intersect_fields = fields[fields['geometry'].apply(container)]"
   ]
  },
  {
   "cell_type": "code",
   "execution_count": 22,
   "metadata": {},
   "outputs": [
    {
     "data": {
      "text/plain": [
       "OBJECTID                                                3132622\n",
       "county_num                                                   57\n",
       "pk_site_id                                              7211778\n",
       "site_id                                                      A2\n",
       "pk_permit_                                               836073\n",
       "permit_num                                              570145A\n",
       "permittee                                   BUCKEYE CREEK RANCH\n",
       "permit_yr                                                  2016\n",
       "p_eff_date                                           2016-01-06\n",
       "p_exp_date                                           2016-12-31\n",
       "status                                                   Issued\n",
       "Version                                                       1\n",
       "MostRecAll                                                    0\n",
       "MostRecYr                                                     1\n",
       "site_name                                      COUNTY LINE ROAD\n",
       "loc_narr                                       COUNTY LINE ROAD\n",
       "is_active                                                     1\n",
       "size                                                         73\n",
       "size_units                                                ACRES\n",
       "crop_list                                 RICE, UNCULTIVATED AG\n",
       "calc_acres                                              74.4379\n",
       "mtrs                                                  M12N01W01\n",
       "hq_distric                                                   57\n",
       "site_distr                                                 None\n",
       "geometry      POLYGON ((593644.2868144979 4309049.811761183,...\n",
       "Name: 2984, dtype: object"
      ]
     },
     "execution_count": 22,
     "metadata": {},
     "output_type": "execute_result"
    }
   ],
   "source": [
    "intersect_fields.iloc[35]"
   ]
  },
  {
   "cell_type": "code",
   "execution_count": 13,
   "metadata": {},
   "outputs": [],
   "source": [
    "geoms = intersect_fields.geometry.values"
   ]
  },
  {
   "cell_type": "code",
   "execution_count": 14,
   "metadata": {},
   "outputs": [],
   "source": [
    "field1 =geoms[35]"
   ]
  },
  {
   "cell_type": "code",
   "execution_count": 15,
   "metadata": {},
   "outputs": [],
   "source": [
    "json_geoms = [mapping(field1)]"
   ]
  },
  {
   "cell_type": "code",
   "execution_count": 8,
   "metadata": {},
   "outputs": [],
   "source": [
    "#src = rasterio.open(\"C:/Users/marce/Desktop/pic2.tif\")"
   ]
  },
  {
   "cell_type": "code",
   "execution_count": 9,
   "metadata": {},
   "outputs": [],
   "source": [
    "#src1 = rasterio.open(\"D:/NAIP GEOTIFF/m_3812101_se_10_h_20160711/m_3812101_se_10_h_20160711.tif\", 'r+')"
   ]
  },
  {
   "cell_type": "code",
   "execution_count": 10,
   "metadata": {},
   "outputs": [],
   "source": [
    "#src1.crs.update({'init':'epsg:4326'})"
   ]
  },
  {
   "cell_type": "code",
   "execution_count": 13,
   "metadata": {},
   "outputs": [],
   "source": [
    "#src1.transform = src.affine"
   ]
  },
  {
   "cell_type": "code",
   "execution_count": 14,
   "metadata": {},
   "outputs": [
    {
     "data": {
      "text/plain": [
       "BoundingBox(left=-121.93750581576582, bottom=38.79916263406245, right=-121.82740986189631, top=38.9375494986786)"
      ]
     },
     "execution_count": 14,
     "metadata": {},
     "output_type": "execute_result"
    }
   ],
   "source": [
    "#src1.bounds"
   ]
  },
  {
   "cell_type": "code",
   "execution_count": 127,
   "metadata": {},
   "outputs": [],
   "source": [
    "#from affine import Affine\n",
    "#src1.transform =Affine((pics.iloc[1][\"east\"] - pics.iloc[1][\"west\"])/src1.shape[1], 0.0, pics.iloc[1][\"west\"],\n",
    "#       0.0,(pics.iloc[1][\"south\"] - pics.iloc[1][\"north\"])/src1.shape[0], pics.iloc[1][\"north\"])"
   ]
  },
  {
   "cell_type": "code",
   "execution_count": 16,
   "metadata": {},
   "outputs": [],
   "source": [
    "with rasterio.open(\"D:\\\\NAIP GEOTIFF\\\\m_3812101_se_10_h_20160711\\\\m_3812101_se_10_h_20160711.tif\", 'r') as src:\n",
    "    out_image, out_transform = mask(src, json_geoms, crop = True)"
   ]
  },
  {
   "cell_type": "code",
   "execution_count": 17,
   "metadata": {},
   "outputs": [
    {
     "data": {
      "text/plain": [
       "(4, 1400, 625)"
      ]
     },
     "execution_count": 17,
     "metadata": {},
     "output_type": "execute_result"
    }
   ],
   "source": [
    "out_image.shape"
   ]
  },
  {
   "cell_type": "code",
   "execution_count": 18,
   "metadata": {},
   "outputs": [],
   "source": [
    "x = np.swapaxes(out_image.data.transpose(),0,1)"
   ]
  },
  {
   "cell_type": "code",
   "execution_count": 19,
   "metadata": {},
   "outputs": [],
   "source": [
    "img = Image.fromarray(x, 'RGBA')"
   ]
  },
  {
   "cell_type": "code",
   "execution_count": 26,
   "metadata": {},
   "outputs": [
    {
     "data": {
      "text/plain": [
       "array([[[185, 182, 164, 139],\n",
       "        [184, 181, 164, 138],\n",
       "        [183, 180, 163, 136],\n",
       "        ...,\n",
       "        [  0,   0,   0,   0],\n",
       "        [  0,   0,   0,   0],\n",
       "        [  0,   0,   0,   0]],\n",
       "\n",
       "       [[180, 178, 162, 134],\n",
       "        [178, 176, 161, 131],\n",
       "        [179, 175, 159, 128],\n",
       "        ...,\n",
       "        [  0,   0,   0,   0],\n",
       "        [  0,   0,   0,   0],\n",
       "        [  0,   0,   0,   0]],\n",
       "\n",
       "       [[179, 175, 161, 131],\n",
       "        [177, 175, 160, 130],\n",
       "        [176, 173, 158, 126],\n",
       "        ...,\n",
       "        [  0,   0,   0,   0],\n",
       "        [  0,   0,   0,   0],\n",
       "        [  0,   0,   0,   0]],\n",
       "\n",
       "       ...,\n",
       "\n",
       "       [[  0,   0,   0,   0],\n",
       "        [  0,   0,   0,   0],\n",
       "        [  0,   0,   0,   0],\n",
       "        ...,\n",
       "        [143, 156,  97, 147],\n",
       "        [151, 162, 100, 162],\n",
       "        [  0,   0,   0,   0]],\n",
       "\n",
       "       [[  0,   0,   0,   0],\n",
       "        [  0,   0,   0,   0],\n",
       "        [  0,   0,   0,   0],\n",
       "        ...,\n",
       "        [143, 150,  96, 149],\n",
       "        [149, 160, 102, 163],\n",
       "        [  0,   0,   0,   0]],\n",
       "\n",
       "       [[  0,   0,   0,   0],\n",
       "        [  0,   0,   0,   0],\n",
       "        [  0,   0,   0,   0],\n",
       "        ...,\n",
       "        [  0,   0,   0,   0],\n",
       "        [  0,   0,   0,   0],\n",
       "        [  0,   0,   0,   0]]], dtype=uint8)"
      ]
     },
     "execution_count": 26,
     "metadata": {},
     "output_type": "execute_result"
    }
   ],
   "source": [
    "x"
   ]
  },
  {
   "cell_type": "code",
   "execution_count": 43,
   "metadata": {},
   "outputs": [],
   "source": [
    "path = \"D:\\\\smaller_photos\""
   ]
  },
  {
   "cell_type": "code",
   "execution_count": 35,
   "metadata": {},
   "outputs": [
    {
     "ename": "SyntaxError",
     "evalue": "invalid syntax (<ipython-input-35-2407f8703ef7>, line 1)",
     "output_type": "error",
     "traceback": [
      "\u001b[1;36m  File \u001b[1;32m\"<ipython-input-35-2407f8703ef7>\"\u001b[1;36m, line \u001b[1;32m1\u001b[0m\n\u001b[1;33m    for\u001b[0m\n\u001b[1;37m       ^\u001b[0m\n\u001b[1;31mSyntaxError\u001b[0m\u001b[1;31m:\u001b[0m invalid syntax\n"
     ]
    }
   ],
   "source": [
    "path = \"D:\\\\smaller_photos\"\n",
    "for pic in pics:\n",
    "    def container(x):\n",
    "    \"\"\"This function applies the contain function which \n",
    "    determins if the coordinates of crop field are in a photo\n",
    "    \"\"\"\n",
    "    return(pic['geometry'].intersects(x))\n",
    "    intersect_fields = fields[fields['geometry'].apply(container)]\n",
    "    for field in intersect_fields.geometry.values:\n",
    "        new_geoms = [mapping(field)]\n",
    "        picname = os.path.join(path, pic['name'])\n",
    "        with rasterio.open(\"C:/Users/marce/Desktop/pic2.tif\") as src:\n",
    "            out_image, out_transform = mask(src, new_geoms, crop = True)\n",
    "        x = np.swapaxes(out_image.data.transpose(),0,1)"
   ]
  },
  {
   "cell_type": "code",
   "execution_count": 50,
   "metadata": {},
   "outputs": [
    {
     "data": {
      "text/plain": [
       "0     m_3812101_se_10_h_20160711.tif\n",
       "1     m_3812101_sw_10_h_20160711.tif\n",
       "2     m_3812102_se_10_h_20160711.tif\n",
       "3     m_3812102_sw_10_1_20140726.tif\n",
       "4     m_3812102_sw_10_h_20160711.tif\n",
       "5     m_3812109_ne_10_h_20160711.tif\n",
       "6     m_3812109_nw_10_h_20160711.tif\n",
       "7     m_3812109_se_10_h_20160711.tif\n",
       "8     m_3812109_sw_10_h_20160711.tif\n",
       "9     m_3812110_ne_10_h_20160711.tif\n",
       "10    m_3812110_nw_10_h_20160711.tif\n",
       "11    m_3812110_se_10_h_20160711.tif\n",
       "12    m_3812110_sw_10_h_20160711.tif\n",
       "13    m_3812111_nw_10_h_20160710.tif\n",
       "14    m_3812111_se_10_h_20160710.tif\n",
       "15    m_3812111_sw_10_h_20160710.tif\n",
       "16    m_3812117_ne_10_1_20140726.tif\n",
       "17    m_3812117_ne_10_h_20160711.tif\n",
       "18    m_3812117_nw_10_1_20140726.tif\n",
       "19    m_3812117_nw_10_h_20160711.tif\n",
       "20    m_3812117_se_10_h_20160711.tif\n",
       "21    m_3812117_sw_10_1_20140726.tif\n",
       "22    m_3812117_sw_10_h_20160711.tif\n",
       "23    m_3812118_ne_10_h_20160711.tif\n",
       "24    m_3812118_nw_10_1_20140726.tif\n",
       "25    m_3812118_nw_10_h_20160711.tif\n",
       "26    m_3812118_se_10_h_20160711.tif\n",
       "27    m_3812118_sw_10_h_20160711.tif\n",
       "28    m_3812119_ne_10_h_20160710.tif\n",
       "29    m_3812119_nw_10_h_20160710.tif\n",
       "                   ...              \n",
       "70    m_3812213_ne_10_h_20160603.tif\n",
       "71    m_3812214_ne_10_h_20160712.tif\n",
       "72    m_3812214_nw_10_h_20160603.tif\n",
       "73    m_3812214_se_10_h_20160603.tif\n",
       "74    m_3812214_sw_10_h_20160603.tif\n",
       "75    m_3812215_ne_10_h_20160712.tif\n",
       "76    m_3812215_nw_10_h_20160712.tif\n",
       "77    m_3812215_se_10_h_20160712.tif\n",
       "78    m_3812215_sw_10_h_20160712.tif\n",
       "79    m_3812216_ne_10_h_20160711.tif\n",
       "80    m_3812216_nw_10_h_20160711.tif\n",
       "81    m_3812216_se_10_h_20160711.tif\n",
       "82    m_3812216_sw_10_h_20160711.tif\n",
       "83    m_3812222_ne_10_h_20160603.tif\n",
       "84    m_3812222_se_10_h_20160603.tif\n",
       "85    m_3812223_ne_10_h_20160712.tif\n",
       "86    m_3812223_nw_10_h_20160530.tif\n",
       "87    m_3812223_se_10_h_20160530.tif\n",
       "88    m_3812223_sw_10_h_20160530.tif\n",
       "89    m_3812224_ne_10_h_20160711.tif\n",
       "90    m_3812224_nw_10_h_20160711.tif\n",
       "91    m_3812224_se_10_h_20160711.tif\n",
       "92    m_3812224_sw_10_h_20160711.tif\n",
       "93    m_3812231_ne_10_h_20160530.tif\n",
       "94    m_3812231_nw_10_h_20160530.tif\n",
       "95    m_3812231_se_10_h_20160530.tif\n",
       "96    m_3812232_ne_10_h_20160711.tif\n",
       "97    m_3812232_nw_10_h_20160711.tif\n",
       "98    m_3812232_se_10_h_20160530.tif\n",
       "99    m_3812232_sw_10_h_20160530.tif\n",
       "Name: name, Length: 100, dtype: object"
      ]
     },
     "execution_count": 50,
     "metadata": {},
     "output_type": "execute_result"
    }
   ],
   "source": [
    "pics['name']"
   ]
  },
  {
   "cell_type": "code",
   "execution_count": null,
   "metadata": {},
   "outputs": [],
   "source": []
  }
 ],
 "metadata": {
  "kernelspec": {
   "display_name": "Python 3",
   "language": "python",
   "name": "python3"
  },
  "language_info": {
   "codemirror_mode": {
    "name": "ipython",
    "version": 3
   },
   "file_extension": ".py",
   "mimetype": "text/x-python",
   "name": "python",
   "nbconvert_exporter": "python",
   "pygments_lexer": "ipython3",
   "version": "3.6.5"
  }
 },
 "nbformat": 4,
 "nbformat_minor": 2
}
